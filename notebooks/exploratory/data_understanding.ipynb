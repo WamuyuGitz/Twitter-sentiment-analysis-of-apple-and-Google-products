{
 "cells": [
  {
   "cell_type": "markdown",
   "id": "154fb897",
   "metadata": {},
   "source": [
    "# **Twitter Sentiment Analysis:** \n",
    "### *Understanding Public Sentiment on Apple and Google Products via Twitter*\n",
    "\n",
    "## **Business Understanding**\n",
    "### **Background**\n",
    "In today’s highly competitive technology industry, public opinion plays a major role in shaping brand reputation, customer loyalty, and product adoption. Tech giants such as Apple, Google, and Android consistently dominate online conversations, with Twitter (X) serving as a powerful platform where users openly share their experiences, frustrations, and excitement.\n",
    "\n",
    "Companies in the smartphone and software ecosystem rely heavily on social media platforms to understand how customers feel about their products, monitoring sentiment is crucial for:\n",
    "\n",
    "- **Brand reputation management** – Understanding how consumers perceive Apple, Google, and Android products in real time.\n",
    "\n",
    "- **Market intelligence** – Identifying user pain points, emerging trends, and competitive advantages.\n",
    "\n",
    "- **Customer engagement** – Responding proactively to feedback to improve user experience.\n",
    "\n",
    "- **Strategic decision-making** – Informing product development, marketing strategies, and customer support initiatives.\n",
    "\n",
    "However, manually analyzing thousands of Tweets is time-consuming, inconsistent, and inefficient. There is a clear need for an automated system that can classify sentiment (positive, negative, or neutral) from user-generated content.\n",
    "\n",
    "### **Problem Statement**\n",
    "Despite the dominance of Apple, Google, and Android in the technology sector, their success is heavily influenced by consumer perception and online conversations. However, due to the vast and unstructured nature of Twitter data, it is difficult to systematically understand whether public opinion is positive, negative, or neutral. This creates a challenge for businesses and stakeholders who need actionable insights to improve brand reputation, customer engagement, and strategic decision-making.\n",
    "\n",
    "### **Project Objectives**\n",
    "This project seeks to analyze Twitter conversations about Apple, Google, and Android products using natural language processing (NLP) techniques. By classifying tweets into positive, negative, and neutral sentiments, the analysis will uncover the prevailing consumer opinions and brand perceptions.\n",
    "\n",
    "Ultimately, the insights generated can support businesses, marketers, and stakeholders in the tech industry to track consumer sentiment, benchmark against competitors, and drive data-informed decisions.\n",
    "\n",
    "### **StakeHolders**\n",
    "- **Apple & Google Marketing Teams** – to measure customer reactions to new product launches and campaigns.\n",
    "\n",
    "- **Product Development Teams** – to identify areas where users express dissatisfaction, helping guide improvements.\n",
    "\n",
    "- **Customer Service Teams** – to proactively address common customer complaints raised on social media.\n",
    "\n",
    "- **Business Analysts & Executives** – to monitor overall brand reputation and benchmark against competitors.\n",
    "\n",
    "### **Value of the Project**\n",
    "\n",
    "1. Enables real-time monitoring of brand sentiment on Twitter.\n",
    "\n",
    "2. Provides actionable insights for marketing, customer service, and product strategy.\n",
    "\n",
    "3. Reduces reliance on manual Tweet analysis, saving time and resources.\n",
    "\n",
    "4. Helps companies track sentiment trends over time and respond faster to customer concerns.\n",
    "\n",
    "### **In Scope**\n",
    "- As a proof of concept, we will first attempt a binary classification (positive vs. negative).\n",
    "\n",
    "- After that, we will extend to a multiclass classification (positive, negative, neutral).\n",
    "\n",
    "*Out of scope: topics beyond Apple, Google, and Android, and advanced sentiment like sarcasm or irony detection.*"
   ]
  },
  {
   "cell_type": "markdown",
   "id": "1436b5d8",
   "metadata": {},
   "source": [
    "## **Data Understanding**\n",
    "This section contains the data's initial exploration. It provides information about the source of the data, helps have a peek at the dataset to understand it's structure such as its shape, data types, etc. and also understand what kind of mess the data has, such as missing values, duplicated records, outliers, among other data integrity issues.\n",
    "\n",
    "### **Data Source**\n",
    "The dataset comes from CrowdFlower via [data.world](https://data.world/crowdflower/brands-and-product-emotions/workspace/file?filename=judge-1377884607_tweet_product_company.csv). It contains Tweets about Apple and Google products that have been human-labeled for sentiment.\n",
    "\n",
    "#### *Why is this dataset important to the project?*\n",
    "This dataset is highly suitable for our project because the text of Tweets directly reflects customer opinions. Analyzing these Tweets allows stakeholders (product managers, marketing teams) to understand public sentiment efficiently without manually reading thousands of messages.\n",
    "\n",
    "### **Mini Exploration**\n",
    "This section involves exploring the data to understand its structure as well as it's contents better. It will include;\n",
    "- Importing relevant libraries and loading the dataset\n",
    "\n",
    "- Checking it's shape, data types etc.\n",
    "\n",
    "- Checking for data integrity issues\n",
    "\n",
    "#### *Importing relevant packages*"
   ]
  },
  {
   "cell_type": "code",
   "execution_count": 1,
   "id": "6c5d39d1",
   "metadata": {},
   "outputs": [],
   "source": [
    "# Import relevant packages.\n",
    "import re\n",
    "import nltk\n",
    "import pandas as pd\n",
    "import numpy as np\n",
    "import seaborn as sns\n",
    "import matplotlib.pyplot as plt\n",
    "%matplotlib inline\n",
    "from nltk.corpus import stopwords\n",
    "from nltk.tokenize import word_tokenize\n",
    "from collections import Counter\n",
    "from sklearn.feature_extraction.text import CountVectorizer"
   ]
  },
  {
   "cell_type": "code",
   "execution_count": 2,
   "id": "4d19d945",
   "metadata": {},
   "outputs": [
    {
     "data": {
      "application/vnd.microsoft.datawrangler.viewer.v0+json": {
       "columns": [
        {
         "name": "index",
         "rawType": "int64",
         "type": "integer"
        },
        {
         "name": "tweet_text",
         "rawType": "object",
         "type": "string"
        },
        {
         "name": "emotion_in_tweet_is_directed_at",
         "rawType": "object",
         "type": "string"
        },
        {
         "name": "is_there_an_emotion_directed_at_a_brand_or_product",
         "rawType": "object",
         "type": "string"
        }
       ],
       "ref": "9adf2e48-829d-4901-b437-0f96c6924f40",
       "rows": [
        [
         "0",
         ".@wesley83 I have a 3G iPhone. After 3 hrs tweeting at #RISE_Austin, it was dead!  I need to upgrade. Plugin stations at #SXSW.",
         "iPhone",
         "Negative emotion"
        ],
        [
         "1",
         "@jessedee Know about @fludapp ? Awesome iPad/iPhone app that you'll likely appreciate for its design. Also, they're giving free Ts at #SXSW",
         "iPad or iPhone App",
         "Positive emotion"
        ],
        [
         "2",
         "@swonderlin Can not wait for #iPad 2 also. They should sale them down at #SXSW.",
         "iPad",
         "Positive emotion"
        ],
        [
         "3",
         "@sxsw I hope this year's festival isn't as crashy as this year's iPhone app. #sxsw",
         "iPad or iPhone App",
         "Negative emotion"
        ],
        [
         "4",
         "@sxtxstate great stuff on Fri #SXSW: Marissa Mayer (Google), Tim O'Reilly (tech books/conferences) &amp; Matt Mullenweg (Wordpress)",
         "Google",
         "Positive emotion"
        ]
       ],
       "shape": {
        "columns": 3,
        "rows": 5
       }
      },
      "text/html": [
       "<div>\n",
       "<style scoped>\n",
       "    .dataframe tbody tr th:only-of-type {\n",
       "        vertical-align: middle;\n",
       "    }\n",
       "\n",
       "    .dataframe tbody tr th {\n",
       "        vertical-align: top;\n",
       "    }\n",
       "\n",
       "    .dataframe thead th {\n",
       "        text-align: right;\n",
       "    }\n",
       "</style>\n",
       "<table border=\"1\" class=\"dataframe\">\n",
       "  <thead>\n",
       "    <tr style=\"text-align: right;\">\n",
       "      <th></th>\n",
       "      <th>tweet_text</th>\n",
       "      <th>emotion_in_tweet_is_directed_at</th>\n",
       "      <th>is_there_an_emotion_directed_at_a_brand_or_product</th>\n",
       "    </tr>\n",
       "  </thead>\n",
       "  <tbody>\n",
       "    <tr>\n",
       "      <th>0</th>\n",
       "      <td>.@wesley83 I have a 3G iPhone. After 3 hrs twe...</td>\n",
       "      <td>iPhone</td>\n",
       "      <td>Negative emotion</td>\n",
       "    </tr>\n",
       "    <tr>\n",
       "      <th>1</th>\n",
       "      <td>@jessedee Know about @fludapp ? Awesome iPad/i...</td>\n",
       "      <td>iPad or iPhone App</td>\n",
       "      <td>Positive emotion</td>\n",
       "    </tr>\n",
       "    <tr>\n",
       "      <th>2</th>\n",
       "      <td>@swonderlin Can not wait for #iPad 2 also. The...</td>\n",
       "      <td>iPad</td>\n",
       "      <td>Positive emotion</td>\n",
       "    </tr>\n",
       "    <tr>\n",
       "      <th>3</th>\n",
       "      <td>@sxsw I hope this year's festival isn't as cra...</td>\n",
       "      <td>iPad or iPhone App</td>\n",
       "      <td>Negative emotion</td>\n",
       "    </tr>\n",
       "    <tr>\n",
       "      <th>4</th>\n",
       "      <td>@sxtxstate great stuff on Fri #SXSW: Marissa M...</td>\n",
       "      <td>Google</td>\n",
       "      <td>Positive emotion</td>\n",
       "    </tr>\n",
       "  </tbody>\n",
       "</table>\n",
       "</div>"
      ],
      "text/plain": [
       "                                          tweet_text  \\\n",
       "0  .@wesley83 I have a 3G iPhone. After 3 hrs twe...   \n",
       "1  @jessedee Know about @fludapp ? Awesome iPad/i...   \n",
       "2  @swonderlin Can not wait for #iPad 2 also. The...   \n",
       "3  @sxsw I hope this year's festival isn't as cra...   \n",
       "4  @sxtxstate great stuff on Fri #SXSW: Marissa M...   \n",
       "\n",
       "  emotion_in_tweet_is_directed_at  \\\n",
       "0                          iPhone   \n",
       "1              iPad or iPhone App   \n",
       "2                            iPad   \n",
       "3              iPad or iPhone App   \n",
       "4                          Google   \n",
       "\n",
       "  is_there_an_emotion_directed_at_a_brand_or_product  \n",
       "0                                   Negative emotion  \n",
       "1                                   Positive emotion  \n",
       "2                                   Positive emotion  \n",
       "3                                   Negative emotion  \n",
       "4                                   Positive emotion  "
      ]
     },
     "execution_count": 2,
     "metadata": {},
     "output_type": "execute_result"
    }
   ],
   "source": [
    "# Load dataset\n",
    "text_df = pd.read_csv('../../assets/judge-1377884607_tweet_product_company.csv', encoding=\"ISO-8859-1\")\n",
    "\n",
    "# Preview the first 5 rows\n",
    "text_df.head()"
   ]
  },
  {
   "cell_type": "markdown",
   "id": "af423818",
   "metadata": {},
   "source": [
    "#### *Data Summary: shapes, data types*\n",
    "This section checks the dataset's shape and data types, this is important as it will help in identifying if the data is sufficient for modeling or not. We'll also know what kind of data we will be working with.\n",
    "\n",
    "- We are using the `.shape()` method to check the dataset's shape."
   ]
  },
  {
   "cell_type": "code",
   "execution_count": 3,
   "id": "bd644c45",
   "metadata": {},
   "outputs": [
    {
     "name": "stdout",
     "output_type": "stream",
     "text": [
      "Rows, Columns: (9093, 3)\n"
     ]
    }
   ],
   "source": [
    "# Shape of the dataset\n",
    "print(\"Rows, Columns:\", text_df.shape)"
   ]
  },
  {
   "cell_type": "markdown",
   "id": "16a7731d",
   "metadata": {},
   "source": [
    "The dataset contains 9093 rows and 3 columns, giving us enough records to work with.\n",
    "\n",
    "- We are using the `.info()` method to retrieve a concise summary of the data."
   ]
  },
  {
   "cell_type": "code",
   "execution_count": 4,
   "id": "b8e301cc",
   "metadata": {},
   "outputs": [
    {
     "name": "stdout",
     "output_type": "stream",
     "text": [
      "<class 'pandas.core.frame.DataFrame'>\n",
      "RangeIndex: 9093 entries, 0 to 9092\n",
      "Data columns (total 3 columns):\n",
      " #   Column                                              Non-Null Count  Dtype \n",
      "---  ------                                              --------------  ----- \n",
      " 0   tweet_text                                          9092 non-null   object\n",
      " 1   emotion_in_tweet_is_directed_at                     3291 non-null   object\n",
      " 2   is_there_an_emotion_directed_at_a_brand_or_product  9093 non-null   object\n",
      "dtypes: object(3)\n",
      "memory usage: 213.2+ KB\n"
     ]
    }
   ],
   "source": [
    "# Data types and non-null values\n",
    "text_df.info()"
   ]
  },
  {
   "cell_type": "markdown",
   "id": "11e694b3",
   "metadata": {},
   "source": [
    "The dataset contains 3 columns and all contain values stored as objects. \n",
    "\n",
    "Also, 2 out of the 3 columns contain null values, that is the `tweet_text` and the `emotion_in_tweet_is_directed_at` columns.\n",
    "\n",
    "#### *Checking Data Integrity Issues*\n",
    "In this section we are looking to identify whether the data contains:\n",
    "- Missing values\n",
    "\n",
    "- Duplicated records"
   ]
  },
  {
   "cell_type": "code",
   "execution_count": 5,
   "id": "1c8958e2",
   "metadata": {},
   "outputs": [
    {
     "data": {
      "application/vnd.microsoft.datawrangler.viewer.v0+json": {
       "columns": [
        {
         "name": "index",
         "rawType": "object",
         "type": "string"
        },
        {
         "name": "Missing Values",
         "rawType": "int64",
         "type": "integer"
        },
        {
         "name": "Percent",
         "rawType": "float64",
         "type": "float"
        }
       ],
       "ref": "354e9e90-67f3-474b-a3fe-28f608a0aa63",
       "rows": [
        [
         "tweet_text",
         "1",
         "0.010997470581766195"
        ],
        [
         "emotion_in_tweet_is_directed_at",
         "5802",
         "63.807324315407456"
        ]
       ],
       "shape": {
        "columns": 2,
        "rows": 2
       }
      },
      "text/html": [
       "<div>\n",
       "<style scoped>\n",
       "    .dataframe tbody tr th:only-of-type {\n",
       "        vertical-align: middle;\n",
       "    }\n",
       "\n",
       "    .dataframe tbody tr th {\n",
       "        vertical-align: top;\n",
       "    }\n",
       "\n",
       "    .dataframe thead th {\n",
       "        text-align: right;\n",
       "    }\n",
       "</style>\n",
       "<table border=\"1\" class=\"dataframe\">\n",
       "  <thead>\n",
       "    <tr style=\"text-align: right;\">\n",
       "      <th></th>\n",
       "      <th>Missing Values</th>\n",
       "      <th>Percent</th>\n",
       "    </tr>\n",
       "  </thead>\n",
       "  <tbody>\n",
       "    <tr>\n",
       "      <th>tweet_text</th>\n",
       "      <td>1</td>\n",
       "      <td>0.010997</td>\n",
       "    </tr>\n",
       "    <tr>\n",
       "      <th>emotion_in_tweet_is_directed_at</th>\n",
       "      <td>5802</td>\n",
       "      <td>63.807324</td>\n",
       "    </tr>\n",
       "  </tbody>\n",
       "</table>\n",
       "</div>"
      ],
      "text/plain": [
       "                                 Missing Values    Percent\n",
       "tweet_text                                    1   0.010997\n",
       "emotion_in_tweet_is_directed_at            5802  63.807324"
      ]
     },
     "execution_count": 5,
     "metadata": {},
     "output_type": "execute_result"
    }
   ],
   "source": [
    "# Find total number and percentage of missing values.\n",
    "# Retrieve sum of missing values.\n",
    "missing = text_df.isnull().sum()\n",
    "\n",
    "# Turn into percentage.\n",
    "missing_percent = (missing / len(text_df)) * 100\n",
    "\n",
    "# Store in a DataFrame.\n",
    "missing_df = pd.DataFrame({'Missing Values': missing, 'Percent': missing_percent})\n",
    "\n",
    "# Filter out columns that don't have missing values.\n",
    "missing_df[missing_df['Missing Values'] > 0]"
   ]
  },
  {
   "cell_type": "markdown",
   "id": "9318443c",
   "metadata": {},
   "source": [
    "As observed earlier, the data contains missing values in 2 columns. 1 missing value in the `tweet_text` column and in more than 60% records in the `emotion_in_tweet_is_directed_at` column.\n",
    "\n",
    "- In the next cell we are checking for duplicates using the `.duplicated()` method."
   ]
  },
  {
   "cell_type": "code",
   "execution_count": 6,
   "id": "99d021f5",
   "metadata": {},
   "outputs": [
    {
     "name": "stdout",
     "output_type": "stream",
     "text": [
      "The dataset contains 22 duplicate records\n"
     ]
    }
   ],
   "source": [
    "# Check for duplicates\n",
    "duplicate_records = text_df.duplicated().sum()\n",
    "\n",
    "print(f'The dataset contains {duplicate_records} duplicate records')"
   ]
  },
  {
   "cell_type": "markdown",
   "id": "b1529e6a",
   "metadata": {},
   "source": [
    "The data contains 22 duplicated records.\n",
    "\n",
    "#### *Descriptive Analysis*\n",
    "We are using the `.describe()` method to generate a summary description of the data."
   ]
  },
  {
   "cell_type": "code",
   "execution_count": 7,
   "id": "153791ce",
   "metadata": {},
   "outputs": [
    {
     "data": {
      "application/vnd.microsoft.datawrangler.viewer.v0+json": {
       "columns": [
        {
         "name": "index",
         "rawType": "object",
         "type": "string"
        },
        {
         "name": "tweet_text",
         "rawType": "object",
         "type": "unknown"
        },
        {
         "name": "emotion_in_tweet_is_directed_at",
         "rawType": "object",
         "type": "unknown"
        },
        {
         "name": "is_there_an_emotion_directed_at_a_brand_or_product",
         "rawType": "object",
         "type": "unknown"
        }
       ],
       "ref": "59d877be-a24b-47e0-b485-2f0a07003dee",
       "rows": [
        [
         "count",
         "9092",
         "3291",
         "9093"
        ],
        [
         "unique",
         "9065",
         "9",
         "4"
        ],
        [
         "top",
         "RT @mention Marissa Mayer: Google Will Connect the Digital &amp; Physical Worlds Through Mobile - {link} #sxsw",
         "iPad",
         "No emotion toward brand or product"
        ],
        [
         "freq",
         "5",
         "946",
         "5389"
        ]
       ],
       "shape": {
        "columns": 3,
        "rows": 4
       }
      },
      "text/html": [
       "<div>\n",
       "<style scoped>\n",
       "    .dataframe tbody tr th:only-of-type {\n",
       "        vertical-align: middle;\n",
       "    }\n",
       "\n",
       "    .dataframe tbody tr th {\n",
       "        vertical-align: top;\n",
       "    }\n",
       "\n",
       "    .dataframe thead th {\n",
       "        text-align: right;\n",
       "    }\n",
       "</style>\n",
       "<table border=\"1\" class=\"dataframe\">\n",
       "  <thead>\n",
       "    <tr style=\"text-align: right;\">\n",
       "      <th></th>\n",
       "      <th>tweet_text</th>\n",
       "      <th>emotion_in_tweet_is_directed_at</th>\n",
       "      <th>is_there_an_emotion_directed_at_a_brand_or_product</th>\n",
       "    </tr>\n",
       "  </thead>\n",
       "  <tbody>\n",
       "    <tr>\n",
       "      <th>count</th>\n",
       "      <td>9092</td>\n",
       "      <td>3291</td>\n",
       "      <td>9093</td>\n",
       "    </tr>\n",
       "    <tr>\n",
       "      <th>unique</th>\n",
       "      <td>9065</td>\n",
       "      <td>9</td>\n",
       "      <td>4</td>\n",
       "    </tr>\n",
       "    <tr>\n",
       "      <th>top</th>\n",
       "      <td>RT @mention Marissa Mayer: Google Will Connect...</td>\n",
       "      <td>iPad</td>\n",
       "      <td>No emotion toward brand or product</td>\n",
       "    </tr>\n",
       "    <tr>\n",
       "      <th>freq</th>\n",
       "      <td>5</td>\n",
       "      <td>946</td>\n",
       "      <td>5389</td>\n",
       "    </tr>\n",
       "  </tbody>\n",
       "</table>\n",
       "</div>"
      ],
      "text/plain": [
       "                                               tweet_text  \\\n",
       "count                                                9092   \n",
       "unique                                               9065   \n",
       "top     RT @mention Marissa Mayer: Google Will Connect...   \n",
       "freq                                                    5   \n",
       "\n",
       "       emotion_in_tweet_is_directed_at  \\\n",
       "count                             3291   \n",
       "unique                               9   \n",
       "top                               iPad   \n",
       "freq                               946   \n",
       "\n",
       "       is_there_an_emotion_directed_at_a_brand_or_product  \n",
       "count                                                9093  \n",
       "unique                                                  4  \n",
       "top                    No emotion toward brand or product  \n",
       "freq                                                 5389  "
      ]
     },
     "execution_count": 7,
     "metadata": {},
     "output_type": "execute_result"
    }
   ],
   "source": [
    "# Summary stats for numerical columns\n",
    "text_df.describe()"
   ]
  },
  {
   "cell_type": "markdown",
   "id": "c6333515",
   "metadata": {},
   "source": [
    "- `tweet_text` contains 9093 records and 9065 unique values. This is a clear indication that we have duplicated rows in the dataset.\n",
    "\n",
    "- `emotion_in_tweet_is_directed_at` contains 3219 records, has 9 unique values where ipad is the most frequent product with 946 reviews.\n",
    "\n",
    "- `is_there_an_emotion_directed_at_a_brand_or_product` contains 9093 records and has 4 unique values where *No emotion toward brand or product* is the most frequent record with 5389 reveiws.\n",
    "\n",
    "### **Data Understanding Summary**\n",
    "#### *Structure*\n",
    "The dataset contains structured data stored in 9,093 rows and 3 columns, with records in all the columns stored as objects.\n",
    "\n",
    "#### *Data Issues and the Next Steps*\n",
    "| Found                 |    Action                                                          |\n",
    "| --------------------- | ------------------------------------------------------------------ |\n",
    "| Missing values        | Replace or drop                                                    |\n",
    "| Duplicates            | Drop using `.drop_duplicates()`                                    |\n",
    "| Long column names     | Replace with short, easy names                                     |\n",
    "| Categorical issues    | Fix inconsistent labels (If any)                                   |"
   ]
  },
  {
   "cell_type": "markdown",
   "id": "3d2207ed",
   "metadata": {},
   "source": [
    "## **Data Cleaning**\n",
    "In this section we are cleaning the dataset to prepare it for modeling. In the previous section, we performed the initial data exploration which not only helped in understanding the dataset but also pointing out some of the issues that could otherwise mislead the project's findings.\n",
    "\n",
    "This is a crucial step for any project before training a machine learning model because it ensures the data is accurate, consistent, and relevant, leading to better model performance and more reliable predictions. Cleaning data helps remove errors, inconsistencies, and irrelevant information that can negatively impact the model's ability to learn and generalize.\n",
    "\n",
    "This session will involve:\n",
    "- Dealing with missing values\n",
    "\n",
    "- Dealing with duplicate records\n",
    "\n",
    "- Dealing with categorical issues\n",
    "\n",
    "- Change column names\n",
    "\n",
    "- Identifying relevant columns based on domain knowledge\n",
    "\n",
    "- Cleaning the reviews and tokenizing them\n",
    "\n",
    "### **Rename Columns**"
   ]
  },
  {
   "cell_type": "code",
   "execution_count": 8,
   "id": "8b327af5",
   "metadata": {},
   "outputs": [
    {
     "data": {
      "text/plain": [
       "Index(['tweet', 'product', 'emotion'], dtype='object')"
      ]
     },
     "execution_count": 8,
     "metadata": {},
     "output_type": "execute_result"
    }
   ],
   "source": [
    "# Rename columns\n",
    "text_df.rename(columns={'tweet_text': 'tweet', 'emotion_in_tweet_is_directed_at': 'product', 'is_there_an_emotion_directed_at_a_brand_or_product': 'emotion'}, inplace=True)\n",
    "\n",
    "# Preview changes\n",
    "text_df.columns"
   ]
  },
  {
   "cell_type": "markdown",
   "id": "5fd17f44",
   "metadata": {},
   "source": [
    "### **Missing Values**\n",
    "During the data understanding, we found that 2 columns contain missing values, in this section, we are exploring the columns further to make sure there is no underlying reason other than the fact that the columns are incomplete.\n",
    "\n",
    "This step is crucial as missing values in datasets can significantly impact the accuracy and reliability of analyses and machine learning models. Addressing ensures valid results and avoids introducing bias.\n",
    "\n",
    "The columns with missing values include: `tweet`, `product`. "
   ]
  },
  {
   "cell_type": "code",
   "execution_count": 9,
   "id": "8722dc96",
   "metadata": {},
   "outputs": [
    {
     "data": {
      "text/plain": [
       "array(['iPhone', 'iPad or iPhone App', 'iPad', 'Google', nan, 'Android',\n",
       "       'Apple', 'Android App', 'Other Google product or service',\n",
       "       'Other Apple product or service'], dtype=object)"
      ]
     },
     "execution_count": 9,
     "metadata": {},
     "output_type": "execute_result"
    }
   ],
   "source": [
    "# Preview the `product` column\n",
    "text_df['product'].unique()"
   ]
  },
  {
   "cell_type": "code",
   "execution_count": 10,
   "id": "5c09de6a",
   "metadata": {},
   "outputs": [],
   "source": [
    "# Get unique product names from the product column (ignoring missing values)\n",
    "product_list = text_df['product'].dropna().unique().tolist()"
   ]
  },
  {
   "cell_type": "code",
   "execution_count": 11,
   "id": "9d7601b5",
   "metadata": {},
   "outputs": [],
   "source": [
    "# Extracting product names from tweet column\n",
    "def extract_product(tweet, product_list):\n",
    "    for product in product_list:\n",
    "        # Case-insensitive search\n",
    "        if re.search(r'\\b' + re.escape(product) + r'\\b', tweet, flags=re.IGNORECASE):\n",
    "            return product\n",
    "    return None\n",
    "\n",
    "# Apply function only where product is missing\n",
    "text_df['product_filled'] = text_df.apply(lambda row: row['product'] if pd.notnull(row['product']) else extract_product(str(row['tweet']), product_list) if pd.notnull(row['tweet']) else None, axis=1)"
   ]
  },
  {
   "cell_type": "code",
   "execution_count": 12,
   "id": "ad3d09a6",
   "metadata": {},
   "outputs": [
    {
     "name": "stdout",
     "output_type": "stream",
     "text": [
      "Missing before: 5802\n",
      "Missing after : 796\n"
     ]
    }
   ],
   "source": [
    "# Compare before vs after filling\n",
    "print(\"Missing before:\", text_df['product'].isna().sum())\n",
    "print(\"Missing after :\", text_df['product_filled'].isna().sum())\n"
   ]
  },
  {
   "cell_type": "markdown",
   "id": "1de196dc",
   "metadata": {},
   "source": [
    "- Extracting product names from the tweet column has brought down the number of missing product records from 5000+ to 700+ missing records. \n",
    "\n",
    "- In the next cells we are comparing the two columns to ensure we do not accidentally “lose” some values."
   ]
  },
  {
   "cell_type": "code",
   "execution_count": 13,
   "id": "3d682498",
   "metadata": {},
   "outputs": [
    {
     "data": {
      "application/vnd.microsoft.datawrangler.viewer.v0+json": {
       "columns": [
        {
         "name": "index",
         "rawType": "int64",
         "type": "integer"
        },
        {
         "name": "product",
         "rawType": "object",
         "type": "unknown"
        },
        {
         "name": "product_filled",
         "rawType": "object",
         "type": "unknown"
        }
       ],
       "ref": "7bda912d-6602-41a2-8982-e5edf3707758",
       "rows": [
        [
         "0",
         "iPhone",
         "iPhone"
        ],
        [
         "1",
         "iPad or iPhone App",
         "iPad or iPhone App"
        ],
        [
         "2",
         "iPad",
         "iPad"
        ],
        [
         "3",
         "iPad or iPhone App",
         "iPad or iPhone App"
        ],
        [
         "4",
         "Google",
         "Google"
        ],
        [
         "5",
         null,
         "iPad"
        ],
        [
         "6",
         null,
         null
        ],
        [
         "7",
         "Android",
         "Android"
        ],
        [
         "8",
         "iPad or iPhone App",
         "iPad or iPhone App"
        ],
        [
         "9",
         "Apple",
         "Apple"
        ],
        [
         "10",
         "Android",
         "Android"
        ],
        [
         "11",
         "Android App",
         "Android App"
        ],
        [
         "12",
         "Android App",
         "Android App"
        ],
        [
         "13",
         "Other Google product or service",
         "Other Google product or service"
        ],
        [
         "14",
         "iPad or iPhone App",
         "iPad or iPhone App"
        ],
        [
         "15",
         "iPad or iPhone App",
         "iPad or iPhone App"
        ],
        [
         "16",
         null,
         "iPad"
        ],
        [
         "17",
         "iPhone",
         "iPhone"
        ],
        [
         "18",
         "iPad or iPhone App",
         "iPad or iPhone App"
        ],
        [
         "19",
         "iPad or iPhone App",
         "iPad or iPhone App"
        ],
        [
         "20",
         "iPad",
         "iPad"
        ],
        [
         "21",
         "iPad or iPhone App",
         "iPad or iPhone App"
        ],
        [
         "22",
         "Android App",
         "Android App"
        ],
        [
         "23",
         "iPad or iPhone App",
         "iPad or iPhone App"
        ],
        [
         "24",
         "Android App",
         "Android App"
        ],
        [
         "25",
         "iPad",
         "iPad"
        ],
        [
         "26",
         "iPad or iPhone App",
         "iPad or iPhone App"
        ],
        [
         "27",
         "Other Google product or service",
         "Other Google product or service"
        ],
        [
         "28",
         "iPad or iPhone App",
         "iPad or iPhone App"
        ],
        [
         "29",
         "Android App",
         "Android App"
        ],
        [
         "30",
         "iPad or iPhone App",
         "iPad or iPhone App"
        ],
        [
         "31",
         "iPad or iPhone App",
         "iPad or iPhone App"
        ],
        [
         "32",
         null,
         "Android"
        ],
        [
         "33",
         null,
         "iPad"
        ],
        [
         "34",
         null,
         "iPad"
        ],
        [
         "35",
         null,
         "Google"
        ],
        [
         "36",
         "iPad",
         "iPad"
        ],
        [
         "37",
         null,
         "iPad"
        ],
        [
         "38",
         "Google",
         "Google"
        ],
        [
         "39",
         null,
         "Google"
        ],
        [
         "40",
         "Apple",
         "Apple"
        ],
        [
         "41",
         null,
         "iPhone"
        ],
        [
         "42",
         null,
         "iPhone"
        ],
        [
         "43",
         null,
         "iPad"
        ],
        [
         "44",
         null,
         "iPhone"
        ],
        [
         "45",
         "iPad or iPhone App",
         "iPad or iPhone App"
        ],
        [
         "46",
         null,
         "iPhone"
        ],
        [
         "47",
         "Apple",
         "Apple"
        ],
        [
         "48",
         null,
         "Google"
        ],
        [
         "49",
         "Apple",
         "Apple"
        ]
       ],
       "shape": {
        "columns": 2,
        "rows": 9093
       }
      },
      "text/html": [
       "<div>\n",
       "<style scoped>\n",
       "    .dataframe tbody tr th:only-of-type {\n",
       "        vertical-align: middle;\n",
       "    }\n",
       "\n",
       "    .dataframe tbody tr th {\n",
       "        vertical-align: top;\n",
       "    }\n",
       "\n",
       "    .dataframe thead th {\n",
       "        text-align: right;\n",
       "    }\n",
       "</style>\n",
       "<table border=\"1\" class=\"dataframe\">\n",
       "  <thead>\n",
       "    <tr style=\"text-align: right;\">\n",
       "      <th></th>\n",
       "      <th>product</th>\n",
       "      <th>product_filled</th>\n",
       "    </tr>\n",
       "  </thead>\n",
       "  <tbody>\n",
       "    <tr>\n",
       "      <th>0</th>\n",
       "      <td>iPhone</td>\n",
       "      <td>iPhone</td>\n",
       "    </tr>\n",
       "    <tr>\n",
       "      <th>1</th>\n",
       "      <td>iPad or iPhone App</td>\n",
       "      <td>iPad or iPhone App</td>\n",
       "    </tr>\n",
       "    <tr>\n",
       "      <th>2</th>\n",
       "      <td>iPad</td>\n",
       "      <td>iPad</td>\n",
       "    </tr>\n",
       "    <tr>\n",
       "      <th>3</th>\n",
       "      <td>iPad or iPhone App</td>\n",
       "      <td>iPad or iPhone App</td>\n",
       "    </tr>\n",
       "    <tr>\n",
       "      <th>4</th>\n",
       "      <td>Google</td>\n",
       "      <td>Google</td>\n",
       "    </tr>\n",
       "    <tr>\n",
       "      <th>...</th>\n",
       "      <td>...</td>\n",
       "      <td>...</td>\n",
       "    </tr>\n",
       "    <tr>\n",
       "      <th>9088</th>\n",
       "      <td>iPad</td>\n",
       "      <td>iPad</td>\n",
       "    </tr>\n",
       "    <tr>\n",
       "      <th>9089</th>\n",
       "      <td>NaN</td>\n",
       "      <td>Google</td>\n",
       "    </tr>\n",
       "    <tr>\n",
       "      <th>9090</th>\n",
       "      <td>NaN</td>\n",
       "      <td>Google</td>\n",
       "    </tr>\n",
       "    <tr>\n",
       "      <th>9091</th>\n",
       "      <td>NaN</td>\n",
       "      <td>iPhone</td>\n",
       "    </tr>\n",
       "    <tr>\n",
       "      <th>9092</th>\n",
       "      <td>NaN</td>\n",
       "      <td>Google</td>\n",
       "    </tr>\n",
       "  </tbody>\n",
       "</table>\n",
       "<p>9093 rows × 2 columns</p>\n",
       "</div>"
      ],
      "text/plain": [
       "                 product      product_filled\n",
       "0                 iPhone              iPhone\n",
       "1     iPad or iPhone App  iPad or iPhone App\n",
       "2                   iPad                iPad\n",
       "3     iPad or iPhone App  iPad or iPhone App\n",
       "4                 Google              Google\n",
       "...                  ...                 ...\n",
       "9088                iPad                iPad\n",
       "9089                 NaN              Google\n",
       "9090                 NaN              Google\n",
       "9091                 NaN              iPhone\n",
       "9092                 NaN              Google\n",
       "\n",
       "[9093 rows x 2 columns]"
      ]
     },
     "execution_count": 13,
     "metadata": {},
     "output_type": "execute_result"
    }
   ],
   "source": [
    "# Compare the two columns\n",
    "products = text_df[['product', 'product_filled']]\n",
    "products"
   ]
  },
  {
   "cell_type": "code",
   "execution_count": 14,
   "id": "e0fa9f64",
   "metadata": {},
   "outputs": [
    {
     "name": "stdout",
     "output_type": "stream",
     "text": [
      "Number of such cases: 0\n"
     ]
    },
    {
     "data": {
      "application/vnd.microsoft.datawrangler.viewer.v0+json": {
       "columns": [
        {
         "name": "index",
         "rawType": "int64",
         "type": "integer"
        },
        {
         "name": "tweet",
         "rawType": "object",
         "type": "string"
        },
        {
         "name": "product",
         "rawType": "object",
         "type": "string"
        },
        {
         "name": "product_filled",
         "rawType": "object",
         "type": "string"
        }
       ],
       "ref": "1dc7f4ec-6a03-4494-9e68-a77b576ce867",
       "rows": [],
       "shape": {
        "columns": 3,
        "rows": 0
       }
      },
      "text/html": [
       "<div>\n",
       "<style scoped>\n",
       "    .dataframe tbody tr th:only-of-type {\n",
       "        vertical-align: middle;\n",
       "    }\n",
       "\n",
       "    .dataframe tbody tr th {\n",
       "        vertical-align: top;\n",
       "    }\n",
       "\n",
       "    .dataframe thead th {\n",
       "        text-align: right;\n",
       "    }\n",
       "</style>\n",
       "<table border=\"1\" class=\"dataframe\">\n",
       "  <thead>\n",
       "    <tr style=\"text-align: right;\">\n",
       "      <th></th>\n",
       "      <th>tweet</th>\n",
       "      <th>product</th>\n",
       "      <th>product_filled</th>\n",
       "    </tr>\n",
       "  </thead>\n",
       "  <tbody>\n",
       "  </tbody>\n",
       "</table>\n",
       "</div>"
      ],
      "text/plain": [
       "Empty DataFrame\n",
       "Columns: [tweet, product, product_filled]\n",
       "Index: []"
      ]
     },
     "execution_count": 14,
     "metadata": {},
     "output_type": "execute_result"
    }
   ],
   "source": [
    "# Find rows where product_filled is missing but product is not\n",
    "check_df = text_df[text_df['product_filled'].isna() & text_df['product'].notna()]\n",
    "\n",
    "print(\"Number of such cases:\", check_df.shape[0])\n",
    "check_df[['tweet', 'product', 'product_filled']].head(10)"
   ]
  },
  {
   "cell_type": "code",
   "execution_count": 15,
   "id": "8838162e",
   "metadata": {},
   "outputs": [
    {
     "name": "stdout",
     "output_type": "stream",
     "text": [
      "Missing values after dropping rows with missing tweet text:\n"
     ]
    },
    {
     "data": {
      "application/vnd.microsoft.datawrangler.viewer.v0+json": {
       "columns": [
        {
         "name": "index",
         "rawType": "object",
         "type": "string"
        },
        {
         "name": "0",
         "rawType": "int64",
         "type": "integer"
        }
       ],
       "ref": "551c5105-1922-47c6-be33-6893935ba00c",
       "rows": [
        [
         "tweet",
         "0"
        ],
        [
         "emotion",
         "0"
        ],
        [
         "product_filled",
         "795"
        ]
       ],
       "shape": {
        "columns": 1,
        "rows": 3
       }
      },
      "text/plain": [
       "tweet               0\n",
       "emotion             0\n",
       "product_filled    795\n",
       "dtype: int64"
      ]
     },
     "metadata": {},
     "output_type": "display_data"
    }
   ],
   "source": [
    "# Drop rows with missing tweet text\n",
    "text_df.dropna(subset=['tweet'], inplace=True)\n",
    "\n",
    "# Drop column with a lot of missing values\n",
    "text_df.drop(columns= ['product'], inplace= True)\n",
    "\n",
    "# Verify that the row has been dropped\n",
    "print(\"Missing values after dropping rows with missing tweet text:\")\n",
    "display(text_df.isnull().sum())"
   ]
  },
  {
   "cell_type": "code",
   "execution_count": 16,
   "id": "4dc3770a",
   "metadata": {},
   "outputs": [
    {
     "data": {
      "application/vnd.microsoft.datawrangler.viewer.v0+json": {
       "columns": [
        {
         "name": "index",
         "rawType": "int64",
         "type": "integer"
        },
        {
         "name": "tweet",
         "rawType": "object",
         "type": "string"
        },
        {
         "name": "emotion",
         "rawType": "object",
         "type": "string"
        },
        {
         "name": "product_filled",
         "rawType": "object",
         "type": "string"
        }
       ],
       "ref": "2a1cc6f5-c653-45f7-8dfe-f9d421d526b1",
       "rows": [
        [
         "0",
         ".@wesley83 I have a 3G iPhone. After 3 hrs tweeting at #RISE_Austin, it was dead!  I need to upgrade. Plugin stations at #SXSW.",
         "Negative emotion",
         "iPhone"
        ],
        [
         "1",
         "@jessedee Know about @fludapp ? Awesome iPad/iPhone app that you'll likely appreciate for its design. Also, they're giving free Ts at #SXSW",
         "Positive emotion",
         "iPad or iPhone App"
        ],
        [
         "2",
         "@swonderlin Can not wait for #iPad 2 also. They should sale them down at #SXSW.",
         "Positive emotion",
         "iPad"
        ],
        [
         "3",
         "@sxsw I hope this year's festival isn't as crashy as this year's iPhone app. #sxsw",
         "Negative emotion",
         "iPad or iPhone App"
        ],
        [
         "4",
         "@sxtxstate great stuff on Fri #SXSW: Marissa Mayer (Google), Tim O'Reilly (tech books/conferences) &amp; Matt Mullenweg (Wordpress)",
         "Positive emotion",
         "Google"
        ]
       ],
       "shape": {
        "columns": 3,
        "rows": 5
       }
      },
      "text/html": [
       "<div>\n",
       "<style scoped>\n",
       "    .dataframe tbody tr th:only-of-type {\n",
       "        vertical-align: middle;\n",
       "    }\n",
       "\n",
       "    .dataframe tbody tr th {\n",
       "        vertical-align: top;\n",
       "    }\n",
       "\n",
       "    .dataframe thead th {\n",
       "        text-align: right;\n",
       "    }\n",
       "</style>\n",
       "<table border=\"1\" class=\"dataframe\">\n",
       "  <thead>\n",
       "    <tr style=\"text-align: right;\">\n",
       "      <th></th>\n",
       "      <th>tweet</th>\n",
       "      <th>emotion</th>\n",
       "      <th>product_filled</th>\n",
       "    </tr>\n",
       "  </thead>\n",
       "  <tbody>\n",
       "    <tr>\n",
       "      <th>0</th>\n",
       "      <td>.@wesley83 I have a 3G iPhone. After 3 hrs twe...</td>\n",
       "      <td>Negative emotion</td>\n",
       "      <td>iPhone</td>\n",
       "    </tr>\n",
       "    <tr>\n",
       "      <th>1</th>\n",
       "      <td>@jessedee Know about @fludapp ? Awesome iPad/i...</td>\n",
       "      <td>Positive emotion</td>\n",
       "      <td>iPad or iPhone App</td>\n",
       "    </tr>\n",
       "    <tr>\n",
       "      <th>2</th>\n",
       "      <td>@swonderlin Can not wait for #iPad 2 also. The...</td>\n",
       "      <td>Positive emotion</td>\n",
       "      <td>iPad</td>\n",
       "    </tr>\n",
       "    <tr>\n",
       "      <th>3</th>\n",
       "      <td>@sxsw I hope this year's festival isn't as cra...</td>\n",
       "      <td>Negative emotion</td>\n",
       "      <td>iPad or iPhone App</td>\n",
       "    </tr>\n",
       "    <tr>\n",
       "      <th>4</th>\n",
       "      <td>@sxtxstate great stuff on Fri #SXSW: Marissa M...</td>\n",
       "      <td>Positive emotion</td>\n",
       "      <td>Google</td>\n",
       "    </tr>\n",
       "  </tbody>\n",
       "</table>\n",
       "</div>"
      ],
      "text/plain": [
       "                                               tweet           emotion  \\\n",
       "0  .@wesley83 I have a 3G iPhone. After 3 hrs twe...  Negative emotion   \n",
       "1  @jessedee Know about @fludapp ? Awesome iPad/i...  Positive emotion   \n",
       "2  @swonderlin Can not wait for #iPad 2 also. The...  Positive emotion   \n",
       "3  @sxsw I hope this year's festival isn't as cra...  Negative emotion   \n",
       "4  @sxtxstate great stuff on Fri #SXSW: Marissa M...  Positive emotion   \n",
       "\n",
       "       product_filled  \n",
       "0              iPhone  \n",
       "1  iPad or iPhone App  \n",
       "2                iPad  \n",
       "3  iPad or iPhone App  \n",
       "4              Google  "
      ]
     },
     "execution_count": 16,
     "metadata": {},
     "output_type": "execute_result"
    }
   ],
   "source": [
    "# Preview changes\n",
    "text_df.head()"
   ]
  },
  {
   "cell_type": "markdown",
   "id": "778f69d8",
   "metadata": {},
   "source": [
    "### **Standardization**\n",
    "In this section we are standardizing all the categorical columns by turning them all to lower case, correcting alternate spellings and fixing typos (if any). This is crucial because otherwise we would treat them as separate categories.\n",
    "\n",
    "We are reviewing columns content before standarzing them."
   ]
  },
  {
   "cell_type": "code",
   "execution_count": 17,
   "id": "6eb82659",
   "metadata": {},
   "outputs": [
    {
     "name": "stdout",
     "output_type": "stream",
     "text": [
      "\n",
      "--- TWEET ---\n",
      "tweet\n",
      "RT @mention Marissa Mayer: Google Will Connect the Digital &amp; Physical Worlds Through Mobile - {link} #sxsw                                      5\n",
      "RT @mention Google to Launch Major New Social Network Called Circles, Possibly Today {link} #sxsw                                                   4\n",
      "RT @mention Marissa Mayer: Google Will Connect the Digital &amp; Physical Worlds Through Mobile - {link} #SXSW                                      4\n",
      "RT @mention Google to Launch Major New Social Network Called Circles, Possibly Today {link} #SXSW                                                   3\n",
      "RT @mention ÷¼ GO BEYOND BORDERS! ÷_ {link} ã_ #edchat #musedchat #sxsw #sxswi #classical #newTwitter                                            2\n",
      "Win free ipad 2 from webdoc.com #sxsw RT                                                                                                            2\n",
      "Win free iPad 2 from webdoc.com #sxsw RT                                                                                                            2\n",
      "Google to Launch Major New Social Network Called Circles, Possibly Today {link} #sxsw                                                               2\n",
      "Oh. My. God. The #SXSW app for iPad is pure, unadulterated awesome. It's easier to browse events on iPad than on the website!!!                     2\n",
      "Need to buy an iPad2 while I'm in Austin at #sxsw. Not sure if I'll need to Q up at an Austin Apple store?                                          2\n",
      "RT @mention ÷¼ Happy Woman's Day! Make love, not fuss! ÷_ {link} ã_ #edchat #musedchat #sxsw #sxswi #classical #newTwitter                       2\n",
      "I just noticed DST is coming this weekend. How many iPhone users will be an hour late at SXSW come Sunday morning? #SXSW #iPhone                    2\n",
      "Really enjoying the changes in Gowalla 3.0 for Android! Looking forward to seeing what else they &amp; Foursquare have up their sleeves at #SXSW    2\n",
      "Marissa Mayer: Google Will Connect the Digital &amp; Physical Worlds Through Mobile - {link} #sxsw                                                  2\n",
      "RT @mention RT @mention Google to Launch Major New Social Network Called Circles, Possibly Today {link} #sxsw                                       2\n",
      "Name: count, dtype: int64\n",
      "\n",
      "--- EMOTION ---\n",
      "emotion\n",
      "No emotion toward brand or product    5388\n",
      "Positive emotion                      2978\n",
      "Negative emotion                       570\n",
      "I can't tell                           156\n",
      "Name: count, dtype: int64\n",
      "\n",
      "--- PRODUCT_FILLED ---\n",
      "product_filled\n",
      "iPad                               2180\n",
      "Google                             2154\n",
      "Apple                              1579\n",
      "iPhone                             1207\n",
      "None                                795\n",
      "iPad or iPhone App                  470\n",
      "Android                             298\n",
      "Other Google product or service     293\n",
      "Android App                          81\n",
      "Other Apple product or service       35\n",
      "Name: count, dtype: int64\n"
     ]
    }
   ],
   "source": [
    "# View the most occuring records in categorical columns\n",
    "for col in text_df.select_dtypes(include='object').columns:\n",
    "    print(f\"\\n--- {col.upper()} ---\")\n",
    "    print(text_df[col].value_counts(dropna=False).head(15))  # show top 15 values"
   ]
  },
  {
   "cell_type": "code",
   "execution_count": 18,
   "id": "08ba15fe",
   "metadata": {},
   "outputs": [
    {
     "name": "stdout",
     "output_type": "stream",
     "text": [
      "\n",
      "--- TWEET ---\n",
      "tweet\n",
      "rt @mention google to launch major new social network called circles, possibly today {link} #sxsw                                            9\n",
      "rt @mention marissa mayer: google will connect the digital &amp; physical worlds through mobile - {link} #sxsw                               9\n",
      "win free ipad 2 from webdoc.com #sxsw rt                                                                                                     6\n",
      "google to launch major new social network called circles, possibly today {link} #sxsw                                                        4\n",
      "rt @mention rt @mention it's not a rumor: apple is opening up a temporary store in downtown austin for #sxsw and the ipad 2 launch {link}    3\n",
      "before it even begins, apple wins #sxsw {link}                                                                                               3\n",
      "rt @mention it's not a rumor: apple is opening up a temporary store in downtown austin for #sxsw and the ipad 2 launch {link}                3\n",
      "rt @mention rt @mention google to launch major new social network called circles, possibly today {link} #sxsw                                3\n",
      "marissa mayer: google will connect the digital &amp; physical worlds through mobile - {link} #sxsw                                           3\n",
      "rt @mention team heading to big boi show, thanks to @mention crew. rt and find the owl for free tattoo {link} #sxsw                          2\n",
      "Name: count, dtype: int64\n",
      "\n",
      "--- EMOTION ---\n",
      "emotion\n",
      "no emotion toward brand or product    5388\n",
      "positive emotion                      2978\n",
      "negative emotion                       570\n",
      "i can't tell                           156\n",
      "Name: count, dtype: int64\n",
      "\n",
      "--- PRODUCT_FILLED ---\n",
      "product_filled\n",
      "ipad                               2180\n",
      "google                             2154\n",
      "apple                              1579\n",
      "iphone                             1207\n",
      "none                                795\n",
      "ipad or iphone app                  470\n",
      "android                             298\n",
      "other google product or service     293\n",
      "android app                          81\n",
      "other apple product or service       35\n",
      "Name: count, dtype: int64\n"
     ]
    }
   ],
   "source": [
    "# Create standardization function.\n",
    "def clean_categorical_columns(df, show_value_counts=False, top_n=10):\n",
    "    \"\"\"\n",
    "    Standardizes text in all object columns:\n",
    "    - Converts to lowercase\n",
    "    - Strips whitespace\n",
    "    - Replaces multiple spaces with one\n",
    "\n",
    "    Parameters:\n",
    "    - df: your dataframe\n",
    "    - show_value_counts: if True, prints value counts per column\n",
    "    - top_n: how many top values to show if show_value_counts is True\n",
    "\n",
    "    Returns:\n",
    "    - cleaned dataframe\n",
    "    \"\"\"\n",
    "    df_cleaned = df.copy()\n",
    "    cat_cols = df_cleaned.select_dtypes(include='object').columns\n",
    "\n",
    "    for col in cat_cols:\n",
    "        df_cleaned[col] = (\n",
    "            df_cleaned[col]\n",
    "            .astype(str)\n",
    "            .str.lower()\n",
    "            .str.strip()\n",
    "            .str.replace(r'\\s+', ' ', regex=True)\n",
    "        )\n",
    "        if show_value_counts:\n",
    "            print(f\"\\n--- {col.upper()} ---\")\n",
    "            print(df_cleaned[col].value_counts(dropna=False).head(top_n))\n",
    "    \n",
    "    return df_cleaned\n",
    "\n",
    "text_cleaned = clean_categorical_columns(text_df, show_value_counts=True)"
   ]
  },
  {
   "cell_type": "code",
   "execution_count": 19,
   "id": "3ae1b820",
   "metadata": {},
   "outputs": [
    {
     "name": "stdout",
     "output_type": "stream",
     "text": [
      "['negative' 'positive' 'neutral' 'mixed']\n"
     ]
    }
   ],
   "source": [
    "# Define a mapping dictionary\n",
    "emotion_map = {\n",
    "    \"positive emotion\": \"positive\",\n",
    "    \"negative emotion\": \"negative\",\n",
    "    \"i can't tell\": \"mixed\",\n",
    "    \"no emotion toward brand or product\": \"neutral\"\n",
    "}\n",
    "\n",
    "# Apply mapping\n",
    "text_cleaned['emotion'] = text_cleaned['emotion'].replace(emotion_map)\n",
    "\n",
    "# Check unique values after renaming\n",
    "print(text_cleaned['emotion'].unique())\n"
   ]
  },
  {
   "cell_type": "markdown",
   "id": "8e936655",
   "metadata": {},
   "source": [
    "### **Dropping Duplicate Records**\n",
    "During data understanding we found that the dataset contains 22 duplicated records, also, when checking the columns' unique values, we noticed that some columns contained same texts in different cases. Here we are dropping them to maintain data integrity and accuracy, prevent biased analysis, optimize storage and performance, and ensure that machine learning models can generalize well. \n",
    "\n",
    "Duplicates can distort findings, and negatively impact the quality of insights derived from the data. We are using the `.drop_duplicates()` method."
   ]
  },
  {
   "cell_type": "code",
   "execution_count": 20,
   "id": "78cf6126",
   "metadata": {},
   "outputs": [],
   "source": [
    "# Drop duplicate records\n",
    "text_df.drop_duplicates(inplace= True)"
   ]
  },
  {
   "cell_type": "code",
   "execution_count": 21,
   "id": "33b07dd7",
   "metadata": {},
   "outputs": [
    {
     "name": "stdout",
     "output_type": "stream",
     "text": [
      "The dataset contains 0 duplicate records\n"
     ]
    }
   ],
   "source": [
    "# Confirm duplicates are dropped\n",
    "duplicate_records = text_df.duplicated().sum()\n",
    "\n",
    "print(f'The dataset contains {duplicate_records} duplicate records')"
   ]
  },
  {
   "cell_type": "markdown",
   "id": "1a5a15b6",
   "metadata": {},
   "source": [
    "### **Preprocessing `tweet` Column**\n",
    "Here we are creating a function that takes in the `tweet` column in our dataframe and preprocesses the documents. The preprocessed text will be saved to a new column in our `text_cleaned` dataframe.\n",
    "\n",
    "The function:\n",
    "- removes punctuation\n",
    "\n",
    "- removes stopwords\n",
    "\n",
    "- tokenizes the texts\n",
    "\n",
    "- removes links and @ mentions"
   ]
  },
  {
   "cell_type": "code",
   "execution_count": 22,
   "id": "9e228d33",
   "metadata": {},
   "outputs": [
    {
     "name": "stderr",
     "output_type": "stream",
     "text": [
      "[nltk_data] Downloading package punkt to\n",
      "[nltk_data]     C:\\Users\\PC\\AppData\\Roaming\\nltk_data...\n",
      "[nltk_data]   Package punkt is already up-to-date!\n",
      "[nltk_data] Downloading package stopwords to\n",
      "[nltk_data]     C:\\Users\\PC\\AppData\\Roaming\\nltk_data...\n",
      "[nltk_data]   Package stopwords is already up-to-date!\n",
      "[nltk_data] Downloading package punkt_tab to\n",
      "[nltk_data]     C:\\Users\\PC\\AppData\\Roaming\\nltk_data...\n",
      "[nltk_data]   Package punkt_tab is already up-to-date!\n"
     ]
    },
    {
     "data": {
      "application/vnd.microsoft.datawrangler.viewer.v0+json": {
       "columns": [
        {
         "name": "index",
         "rawType": "int64",
         "type": "integer"
        },
        {
         "name": "tweet",
         "rawType": "object",
         "type": "string"
        },
        {
         "name": "cleaned_tweets",
         "rawType": "object",
         "type": "string"
        }
       ],
       "ref": "43d572e0-59ca-42c3-854d-02fff7f0e135",
       "rows": [
        [
         "0",
         ".@wesley83 i have a 3g iphone. after 3 hrs tweeting at #rise_austin, it was dead! i need to upgrade. plugin stations at #sxsw.",
         "3g iphone 3 hrs tweeting rise_austin dead need upgrade plugin stations sxsw"
        ],
        [
         "1",
         "@jessedee know about @fludapp ? awesome ipad/iphone app that you'll likely appreciate for its design. also, they're giving free ts at #sxsw",
         "know awesome ipadiphone app youll likely appreciate design also theyre giving free ts sxsw"
        ],
        [
         "2",
         "@swonderlin can not wait for #ipad 2 also. they should sale them down at #sxsw.",
         "wait ipad 2 also sale sxsw"
        ],
        [
         "3",
         "@sxsw i hope this year's festival isn't as crashy as this year's iphone app. #sxsw",
         "hope years festival isnt crashy years iphone app sxsw"
        ],
        [
         "4",
         "@sxtxstate great stuff on fri #sxsw: marissa mayer (google), tim o'reilly (tech books/conferences) &amp; matt mullenweg (wordpress)",
         "great stuff fri sxsw marissa mayer google tim oreilly tech booksconferences amp matt mullenweg wordpress"
        ]
       ],
       "shape": {
        "columns": 2,
        "rows": 5
       }
      },
      "text/html": [
       "<div>\n",
       "<style scoped>\n",
       "    .dataframe tbody tr th:only-of-type {\n",
       "        vertical-align: middle;\n",
       "    }\n",
       "\n",
       "    .dataframe tbody tr th {\n",
       "        vertical-align: top;\n",
       "    }\n",
       "\n",
       "    .dataframe thead th {\n",
       "        text-align: right;\n",
       "    }\n",
       "</style>\n",
       "<table border=\"1\" class=\"dataframe\">\n",
       "  <thead>\n",
       "    <tr style=\"text-align: right;\">\n",
       "      <th></th>\n",
       "      <th>tweet</th>\n",
       "      <th>cleaned_tweets</th>\n",
       "    </tr>\n",
       "  </thead>\n",
       "  <tbody>\n",
       "    <tr>\n",
       "      <th>0</th>\n",
       "      <td>.@wesley83 i have a 3g iphone. after 3 hrs twe...</td>\n",
       "      <td>3g iphone 3 hrs tweeting rise_austin dead need...</td>\n",
       "    </tr>\n",
       "    <tr>\n",
       "      <th>1</th>\n",
       "      <td>@jessedee know about @fludapp ? awesome ipad/i...</td>\n",
       "      <td>know awesome ipadiphone app youll likely appre...</td>\n",
       "    </tr>\n",
       "    <tr>\n",
       "      <th>2</th>\n",
       "      <td>@swonderlin can not wait for #ipad 2 also. the...</td>\n",
       "      <td>wait ipad 2 also sale sxsw</td>\n",
       "    </tr>\n",
       "    <tr>\n",
       "      <th>3</th>\n",
       "      <td>@sxsw i hope this year's festival isn't as cra...</td>\n",
       "      <td>hope years festival isnt crashy years iphone a...</td>\n",
       "    </tr>\n",
       "    <tr>\n",
       "      <th>4</th>\n",
       "      <td>@sxtxstate great stuff on fri #sxsw: marissa m...</td>\n",
       "      <td>great stuff fri sxsw marissa mayer google tim ...</td>\n",
       "    </tr>\n",
       "  </tbody>\n",
       "</table>\n",
       "</div>"
      ],
      "text/plain": [
       "                                               tweet  \\\n",
       "0  .@wesley83 i have a 3g iphone. after 3 hrs twe...   \n",
       "1  @jessedee know about @fludapp ? awesome ipad/i...   \n",
       "2  @swonderlin can not wait for #ipad 2 also. the...   \n",
       "3  @sxsw i hope this year's festival isn't as cra...   \n",
       "4  @sxtxstate great stuff on fri #sxsw: marissa m...   \n",
       "\n",
       "                                      cleaned_tweets  \n",
       "0  3g iphone 3 hrs tweeting rise_austin dead need...  \n",
       "1  know awesome ipadiphone app youll likely appre...  \n",
       "2                         wait ipad 2 also sale sxsw  \n",
       "3  hope years festival isnt crashy years iphone a...  \n",
       "4  great stuff fri sxsw marissa mayer google tim ...  "
      ]
     },
     "metadata": {},
     "output_type": "display_data"
    }
   ],
   "source": [
    "# Download necessary NLTK data\n",
    "nltk.download('punkt')\n",
    "nltk.download('stopwords')\n",
    "nltk.download('punkt_tab')\n",
    "\n",
    "\n",
    "stop_words = set(stopwords.words('english'))\n",
    "\n",
    "def clean_tweet_text(text):\n",
    "    # Ensure the input is a string\n",
    "    if not isinstance(text, str):\n",
    "        return \"\" # Return an empty string for non-string inputs\n",
    "\n",
    "    # Remove mentions (@...) and links (http://...)\n",
    "    text = re.sub(r'@\\w+|http\\S+', '', text)\n",
    "\n",
    "    # Remove punctuation\n",
    "    text = re.sub(r'[^\\w\\s]', '', text)\n",
    "\n",
    "    # Tokenize the text\n",
    "    tokens = word_tokenize(text)\n",
    "    \n",
    "    # Remove stop words\n",
    "    tokens = [word for word in tokens if word not in stop_words]\n",
    "    return ' '.join(tokens)\n",
    "\n",
    "# Apply the cleaning function to the tweet_text column\n",
    "text_cleaned['cleaned_tweets'] = text_cleaned['tweet'].apply(clean_tweet_text)\n",
    "\n",
    "# Display the original and cleaned text for comparison\n",
    "display(text_cleaned[['tweet', 'cleaned_tweets']].head())"
   ]
  },
  {
   "cell_type": "code",
   "execution_count": 23,
   "id": "e35f70d1",
   "metadata": {},
   "outputs": [
    {
     "name": "stdout",
     "output_type": "stream",
     "text": [
      "<class 'pandas.core.frame.DataFrame'>\n",
      "Index: 9092 entries, 0 to 9092\n",
      "Data columns (total 4 columns):\n",
      " #   Column          Non-Null Count  Dtype \n",
      "---  ------          --------------  ----- \n",
      " 0   tweet           9092 non-null   object\n",
      " 1   emotion         9092 non-null   object\n",
      " 2   product_filled  9092 non-null   object\n",
      " 3   cleaned_tweets  9092 non-null   object\n",
      "dtypes: object(4)\n",
      "memory usage: 355.2+ KB\n"
     ]
    }
   ],
   "source": [
    "# Preview the cleaned data's summary\n",
    "text_cleaned.info()"
   ]
  },
  {
   "cell_type": "code",
   "execution_count": 24,
   "id": "a516ad0a",
   "metadata": {},
   "outputs": [
    {
     "data": {
      "application/vnd.microsoft.datawrangler.viewer.v0+json": {
       "columns": [
        {
         "name": "index",
         "rawType": "int64",
         "type": "integer"
        },
        {
         "name": "tweet",
         "rawType": "object",
         "type": "string"
        },
        {
         "name": "emotion",
         "rawType": "object",
         "type": "string"
        },
        {
         "name": "product_filled",
         "rawType": "object",
         "type": "string"
        },
        {
         "name": "cleaned_tweets",
         "rawType": "object",
         "type": "string"
        }
       ],
       "ref": "36202089-6fc0-4250-8e59-ab606ba1a544",
       "rows": [
        [
         "0",
         ".@wesley83 i have a 3g iphone. after 3 hrs tweeting at #rise_austin, it was dead! i need to upgrade. plugin stations at #sxsw.",
         "negative",
         "iphone",
         "3g iphone 3 hrs tweeting rise_austin dead need upgrade plugin stations sxsw"
        ],
        [
         "1",
         "@jessedee know about @fludapp ? awesome ipad/iphone app that you'll likely appreciate for its design. also, they're giving free ts at #sxsw",
         "positive",
         "ipad or iphone app",
         "know awesome ipadiphone app youll likely appreciate design also theyre giving free ts sxsw"
        ],
        [
         "2",
         "@swonderlin can not wait for #ipad 2 also. they should sale them down at #sxsw.",
         "positive",
         "ipad",
         "wait ipad 2 also sale sxsw"
        ],
        [
         "3",
         "@sxsw i hope this year's festival isn't as crashy as this year's iphone app. #sxsw",
         "negative",
         "ipad or iphone app",
         "hope years festival isnt crashy years iphone app sxsw"
        ],
        [
         "4",
         "@sxtxstate great stuff on fri #sxsw: marissa mayer (google), tim o'reilly (tech books/conferences) &amp; matt mullenweg (wordpress)",
         "positive",
         "google",
         "great stuff fri sxsw marissa mayer google tim oreilly tech booksconferences amp matt mullenweg wordpress"
        ]
       ],
       "shape": {
        "columns": 4,
        "rows": 5
       }
      },
      "text/html": [
       "<div>\n",
       "<style scoped>\n",
       "    .dataframe tbody tr th:only-of-type {\n",
       "        vertical-align: middle;\n",
       "    }\n",
       "\n",
       "    .dataframe tbody tr th {\n",
       "        vertical-align: top;\n",
       "    }\n",
       "\n",
       "    .dataframe thead th {\n",
       "        text-align: right;\n",
       "    }\n",
       "</style>\n",
       "<table border=\"1\" class=\"dataframe\">\n",
       "  <thead>\n",
       "    <tr style=\"text-align: right;\">\n",
       "      <th></th>\n",
       "      <th>tweet</th>\n",
       "      <th>emotion</th>\n",
       "      <th>product_filled</th>\n",
       "      <th>cleaned_tweets</th>\n",
       "    </tr>\n",
       "  </thead>\n",
       "  <tbody>\n",
       "    <tr>\n",
       "      <th>0</th>\n",
       "      <td>.@wesley83 i have a 3g iphone. after 3 hrs twe...</td>\n",
       "      <td>negative</td>\n",
       "      <td>iphone</td>\n",
       "      <td>3g iphone 3 hrs tweeting rise_austin dead need...</td>\n",
       "    </tr>\n",
       "    <tr>\n",
       "      <th>1</th>\n",
       "      <td>@jessedee know about @fludapp ? awesome ipad/i...</td>\n",
       "      <td>positive</td>\n",
       "      <td>ipad or iphone app</td>\n",
       "      <td>know awesome ipadiphone app youll likely appre...</td>\n",
       "    </tr>\n",
       "    <tr>\n",
       "      <th>2</th>\n",
       "      <td>@swonderlin can not wait for #ipad 2 also. the...</td>\n",
       "      <td>positive</td>\n",
       "      <td>ipad</td>\n",
       "      <td>wait ipad 2 also sale sxsw</td>\n",
       "    </tr>\n",
       "    <tr>\n",
       "      <th>3</th>\n",
       "      <td>@sxsw i hope this year's festival isn't as cra...</td>\n",
       "      <td>negative</td>\n",
       "      <td>ipad or iphone app</td>\n",
       "      <td>hope years festival isnt crashy years iphone a...</td>\n",
       "    </tr>\n",
       "    <tr>\n",
       "      <th>4</th>\n",
       "      <td>@sxtxstate great stuff on fri #sxsw: marissa m...</td>\n",
       "      <td>positive</td>\n",
       "      <td>google</td>\n",
       "      <td>great stuff fri sxsw marissa mayer google tim ...</td>\n",
       "    </tr>\n",
       "  </tbody>\n",
       "</table>\n",
       "</div>"
      ],
      "text/plain": [
       "                                               tweet   emotion  \\\n",
       "0  .@wesley83 i have a 3g iphone. after 3 hrs twe...  negative   \n",
       "1  @jessedee know about @fludapp ? awesome ipad/i...  positive   \n",
       "2  @swonderlin can not wait for #ipad 2 also. the...  positive   \n",
       "3  @sxsw i hope this year's festival isn't as cra...  negative   \n",
       "4  @sxtxstate great stuff on fri #sxsw: marissa m...  positive   \n",
       "\n",
       "       product_filled                                     cleaned_tweets  \n",
       "0              iphone  3g iphone 3 hrs tweeting rise_austin dead need...  \n",
       "1  ipad or iphone app  know awesome ipadiphone app youll likely appre...  \n",
       "2                ipad                         wait ipad 2 also sale sxsw  \n",
       "3  ipad or iphone app  hope years festival isnt crashy years iphone a...  \n",
       "4              google  great stuff fri sxsw marissa mayer google tim ...  "
      ]
     },
     "execution_count": 24,
     "metadata": {},
     "output_type": "execute_result"
    }
   ],
   "source": [
    "# preview the first 5 rows\n",
    "text_cleaned.head()"
   ]
  },
  {
   "cell_type": "code",
   "execution_count": 25,
   "id": "11fc8621",
   "metadata": {},
   "outputs": [],
   "source": [
    "# Saving the cleaned dataset in a new file\n",
    "text_cleaned.to_csv('../../assets/Cleaned_Tweets.csv', index= False)"
   ]
  },
  {
   "cell_type": "markdown",
   "id": "4e6cb880",
   "metadata": {},
   "source": [
    "## **Exploratory Data Analysis**"
   ]
  },
  {
   "cell_type": "code",
   "execution_count": 27,
   "id": "b0f5b619",
   "metadata": {},
   "outputs": [
    {
     "name": "stderr",
     "output_type": "stream",
     "text": [
      "C:\\Users\\PC\\AppData\\Local\\Temp\\ipykernel_1268\\2461306545.py:6: FutureWarning: \n",
      "\n",
      "Passing `palette` without assigning `hue` is deprecated and will be removed in v0.14.0. Assign the `x` variable to `hue` and set `legend=False` for the same effect.\n",
      "\n",
      "  sns.countplot(x='emotion', data= text_cleaned, palette='Set2')\n"
     ]
    },
    {
     "data": {
      "image/png": "[encoded data removed]",
      "text/plain": [
       "<Figure size 640x480 with 1 Axes>"
      ]
     },
     "metadata": {},
     "output_type": "display_data"
    },
    {
     "name": "stdout",
     "output_type": "stream",
     "text": [
      "emotion\n",
      "neutral     5388\n",
      "positive    2978\n",
      "negative     570\n",
      "mixed        156\n",
      "Name: count, dtype: int64\n"
     ]
    }
   ],
   "source": [
    "# Set plot style\n",
    "plt.style.use('ggplot')\n",
    "plt.style.use('ggplot')\n",
    "\n",
    "# Count distribution\n",
    "sns.countplot(x='emotion', data= text_cleaned, palette='Set2')\n",
    "plt.title(\"Class Distribution (Positive vs Negative)\")\n",
    "plt.show()\n",
    "\n",
    "# Print raw counts\n",
    "print(text_cleaned['emotion'].value_counts())"
   ]
  },
  {
   "cell_type": "code",
   "execution_count": 27,
   "id": "69d9b67b",
   "metadata": {},
   "outputs": [
    {
     "data": {
      "image/png": "[encoded data removed]",
      "text/plain": [
       "<Figure size 1440x1080 with 2 Axes>"
      ]
     },
     "metadata": {},
     "output_type": "display_data"
    }
   ],
   "source": [
    "def get_top_words(texts, n=20):\n",
    "    texts = [t for t in texts if isinstance(t, str) and t.strip() != \"\"]  # filter empty\n",
    "    if len(texts) == 0:\n",
    "        return []  # nothing to process\n",
    "\n",
    "    vec = CountVectorizer(stop_words='english').fit(texts)\n",
    "    bag_of_words = vec.transform(texts)\n",
    "    sum_words = bag_of_words.sum(axis=0)\n",
    "    words_freq = [(word, sum_words[0, idx]) for word, idx in vec.vocabulary_.items()]\n",
    "    return sorted(words_freq, key=lambda x: x[1], reverse=True)[:n]\n",
    "\n",
    "top_pos = get_top_words(text_cleaned[text_cleaned['emotion']==\"positive\"]['cleaned_tweets'])\n",
    "top_neg = get_top_words(text_cleaned[text_cleaned['emotion']==\"negative\"]['cleaned_tweets'])\n",
    "\n",
    "# Plotting example for positive\n",
    "fig, (ax1, ax2) = plt.subplots(figsize= (20, 15), nrows= 2)\n",
    "\n",
    "words, counts = zip(*top_pos)\n",
    "sns.barplot(x=list(counts), y=list(words), palette=\"Greens_r\", ax= ax1)\n",
    "plt.title(\"Top Words in Positive Reviews\")\n",
    "\n",
    "words, counts = zip(*top_neg)\n",
    "sns.barplot(x=list(counts), y=list(words), palette=\"Greens_r\", ax= ax2)\n",
    "plt.title(\"Top Words in Negative Reviews\")\n",
    "plt.show()\n"
   ]
  },
  {
   "cell_type": "code",
   "execution_count": 28,
   "id": "e7600ce2",
   "metadata": {},
   "outputs": [
    {
     "data": {
      "image/png": "[encoded data removed]",
      "text/plain": [
       "<Figure size 432x288 with 1 Axes>"
      ]
     },
     "metadata": {},
     "output_type": "display_data"
    },
    {
     "data": {
      "image/png": "[encoded data removed]",
      "text/plain": [
       "<Figure size 432x288 with 1 Axes>"
      ]
     },
     "metadata": {},
     "output_type": "display_data"
    }
   ],
   "source": [
    "text_cleaned['text_length'] = text_cleaned['cleaned_tweets'].apply(lambda x: len(x.split()))\n",
    "\n",
    "sns.histplot(text_cleaned['text_length'], bins=50, kde=True)\n",
    "plt.title(\"Sentence Length Distribution\")\n",
    "plt.xlabel(\"Number of Words\")\n",
    "plt.ylabel(\"Frequency\")\n",
    "plt.show()\n",
    "\n",
    "# Compare by class\n",
    "sns.boxplot(x='emotion', y='text_length', data=text_cleaned)\n",
    "plt.title(\"Sentence Length per Class\")\n",
    "plt.show()\n"
   ]
  },
  {
   "cell_type": "code",
   "execution_count": 29,
   "id": "5870ad45",
   "metadata": {},
   "outputs": [
    {
     "name": "stdout",
     "output_type": "stream",
     "text": [
      "Top 20 Most Frequent Words (Raw Tweets):\n",
      "[('#sxsw', 7830), ('@mention', 6703), ('the', 4357), ('{link}', 4255), ('to', 3561), ('at', 3054), ('rt', 2897), ('for', 2537), ('a', 2253), ('in', 1875), ('ipad', 1871), ('google', 1861), ('of', 1709), ('is', 1682), ('apple', 1634), ('and', 1588), ('on', 1303), ('store', 1225), ('new', 1082), ('i', 1050)]\n"
     ]
    }
   ],
   "source": [
    "# Most common words (including hashtags, mentions, etc.)... BEFORE preprocessing\n",
    "all_words = ' '.join(text_cleaned['tweet']).split()\n",
    "common_words = Counter(all_words).most_common(20)\n",
    "print(\"Top 20 Most Frequent Words (Raw Tweets):\")\n",
    "print(common_words)"
   ]
  },
  {
   "cell_type": "code",
   "execution_count": 30,
   "id": "29d759ea",
   "metadata": {},
   "outputs": [
    {
     "data": {
      "image/png": "[encoded data removed]",
      "text/plain": [
       "<Figure size 864x432 with 1 Axes>"
      ]
     },
     "metadata": {},
     "output_type": "display_data"
    }
   ],
   "source": [
    "# Separate words and counts for plotting\n",
    "Common_words = [word for word, count in common_words]\n",
    "counts = [count for word, count in common_words]\n",
    "\n",
    "# Plot\n",
    "plt.figure(figsize=(12,6))\n",
    "plt.bar(Common_words, counts)\n",
    "plt.xticks(rotation=45)\n",
    "plt.title(\"Top 20 Most Common Words (Before Preprocessing)\")\n",
    "plt.xlabel(\"Words\")\n",
    "plt.ylabel(\"Frequency\")\n",
    "plt.show()"
   ]
  },
  {
   "cell_type": "code",
   "execution_count": 31,
   "id": "210033af",
   "metadata": {},
   "outputs": [],
   "source": [
    "# Most common words AFTER preprocessing\n",
    "words = ' '.join(text_cleaned['cleaned_tweets']).split()\n",
    "word_counts = Counter(words).most_common(20)"
   ]
  },
  {
   "cell_type": "code",
   "execution_count": 32,
   "id": "d79f2309",
   "metadata": {},
   "outputs": [
    {
     "data": {
      "image/png": "[encoded data removed]",
      "text/plain": [
       "<Figure size 864x432 with 1 Axes>"
      ]
     },
     "metadata": {},
     "output_type": "display_data"
    }
   ],
   "source": [
    "# Separate words and counts for plotting\n",
    "common_words = [word for word, count in word_counts]\n",
    "counts = [count for word, count in word_counts]\n",
    "\n",
    "# Plot\n",
    "plt.figure(figsize=(12,6))\n",
    "plt.bar(common_words, counts)\n",
    "plt.xticks(rotation=45)\n",
    "plt.title(\"Top 20 Most Common Words (After Preprocessing)\")\n",
    "plt.xlabel(\"Words\")\n",
    "plt.ylabel(\"Frequency\")\n",
    "plt.show()"
   ]
  }
 ],
 "metadata": {
  "kernelspec": {
   "display_name": "base",
   "language": "python",
   "name": "python3"
  },
  "language_info": {
   "codemirror_mode": {
    "name": "ipython",
    "version": 3
   },
   "file_extension": ".py",
   "mimetype": "text/x-python",
   "name": "python",
   "nbconvert_exporter": "python",
   "pygments_lexer": "ipython3",
   "version": "3.12.7"
  }
 },
 "nbformat": 4,
 "nbformat_minor": 5
}
