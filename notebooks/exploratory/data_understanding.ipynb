{
 "cells": [
  {
   "cell_type": "markdown",
   "id": "154fb897",
   "metadata": {},
   "source": [
    "# **Twitter Sentiment Analysis:** \n",
    "### *Understanding Public Sentiment on Apple and Google Products via Twitter*\n",
    "\n",
    "## **Business Understanding**\n",
    "### **Background**\n",
    "In today’s highly competitive technology industry, public opinion plays a major role in shaping brand reputation, customer loyalty, and product adoption. Tech giants such as Apple, Google, and Android consistently dominate online conversations, with Twitter (X) serving as a powerful platform where users openly share their experiences, frustrations, and excitement.\n",
    "\n",
    "Companies in the smartphone and software ecosystem rely heavily on social media platforms to understand how customers feel about their products, monitoring sentiment is crucial for:\n",
    "\n",
    "- **Brand reputation management** – Understanding how consumers perceive Apple, Google, and Android products in real time.\n",
    "\n",
    "- **Market intelligence** – Identifying user pain points, emerging trends, and competitive advantages.\n",
    "\n",
    "- **Customer engagement** – Responding proactively to feedback to improve user experience.\n",
    "\n",
    "- **Strategic decision-making** – Informing product development, marketing strategies, and customer support initiatives.\n",
    "\n",
    "However, manually analyzing thousands of Tweets is time-consuming, inconsistent, and inefficient. There is a clear need for an automated system that can classify sentiment (positive, negative, or neutral) from user-generated content.\n",
    "\n",
    "### **Problem Statement**\n",
    "Despite the dominance of Apple, Google, and Android in the technology sector, their success is heavily influenced by consumer perception and online conversations. However, due to the vast and unstructured nature of Twitter data, it is difficult to systematically understand whether public opinion is positive, negative, or neutral. This creates a challenge for businesses and stakeholders who need actionable insights to improve brand reputation, customer engagement, and strategic decision-making.\n",
    "\n",
    "### **Project Objectives**\n",
    "This project seeks to analyze Twitter conversations about Apple, Google, and Android products using natural language processing (NLP) techniques. By classifying tweets into positive, negative, and neutral sentiments, the analysis will uncover the prevailing consumer opinions and brand perceptions.\n",
    "\n",
    "Ultimately, the insights generated can support businesses, marketers, and stakeholders in the tech industry to track consumer sentiment, benchmark against competitors, and drive data-informed decisions.\n",
    "\n",
    "### **StakeHolders**\n",
    "- **Apple & Google Marketing Teams** – to measure customer reactions to new product launches and campaigns.\n",
    "\n",
    "- **Product Development Teams** – to identify areas where users express dissatisfaction, helping guide improvements.\n",
    "\n",
    "- **Customer Service Teams** – to proactively address common customer complaints raised on social media.\n",
    "\n",
    "- **Business Analysts & Executives** – to monitor overall brand reputation and benchmark against competitors.\n",
    "\n",
    "### **Value of the Project**\n",
    "\n",
    "1. Enables real-time monitoring of brand sentiment on Twitter.\n",
    "\n",
    "2. Provides actionable insights for marketing, customer service, and product strategy.\n",
    "\n",
    "3. Reduces reliance on manual Tweet analysis, saving time and resources.\n",
    "\n",
    "4. Helps companies track sentiment trends over time and respond faster to customer concerns.\n",
    "\n",
    "### **In Scope**\n",
    "- As a proof of concept, we will first attempt a binary classification (positive vs. negative).\n",
    "\n",
    "- After that, we will extend to a multiclass classification (positive, negative, neutral).\n",
    "\n",
    "*Out of scope: topics beyond Apple, Google, and Android, and advanced sentiment like sarcasm or irony detection.*"
   ]
  },
  {
   "cell_type": "markdown",
   "id": "1436b5d8",
   "metadata": {},
   "source": [
    "## **Data Understanding**\n",
    "This section contains the data's initial exploration. It provides information about the source of the data, helps have a peek at the dataset to understand it's structure such as its shape, data types, etc. and also understand what kind of mess the data has, such as missing values, duplicated records, outliers, among other data integrity issues.\n",
    "\n",
    "### **Data Source**\n",
    "The dataset comes from CrowdFlower via [data.world](https://data.world/crowdflower/brands-and-product-emotions/workspace/file?filename=judge-1377884607_tweet_product_company.csv). It contains Tweets about Apple and Google products that have been human-labeled for sentiment.\n",
    "\n",
    "#### *Why is this dataset important to the project?*\n",
    "This dataset is highly suitable for our project because the text of Tweets directly reflects customer opinions. Analyzing these Tweets allows stakeholders (product managers, marketing teams) to understand public sentiment efficiently without manually reading thousands of messages.\n",
    "\n",
    "### **Mini Exploration**\n",
    "This section involves exploring the data to understand its structure as well as it's contents better. It will include;\n",
    "- Importing relevant libraries and loading the dataset\n",
    "\n",
    "- Checking it's shape, data types etc.\n",
    "\n",
    "- Checking for data integrity issues\n",
    "\n",
    "#### *Importing relevant packages*"
   ]
  },
  {
   "cell_type": "code",
   "execution_count": null,
   "id": "6c5d39d1",
   "metadata": {},
   "outputs": [],
   "source": [
    "# Import relevant packages.\n",
    "import re\n",
    "import nltk\n",
    "import pandas as pd\n",
    "import numpy as np\n",
    "import seaborn as sns\n",
    "import matplotlib.pyplot as plt\n",
    "%matplotlib inline\n",
    "from nltk.corpus import stopwords\n",
    "from nltk.tokenize import word_tokenize\n",
    "from collections import Counter\n",
    "from sklearn.feature_extraction.text import CountVectorizer\n",
    "from xgboost import XGBClassifier\n",
    "from sklearn.svm import LinearSVC\n",
    "from sklearn.pipeline import Pipeline\n",
    "from imblearn.over_sampling import SMOTE\n",
    "from sklearn.linear_model import LogisticRegression\n",
    "from sklearn.model_selection import train_test_split, GridSearchCV\n",
    "from imblearn.pipeline import Pipeline as ImbPipeline\n",
    "from sklearn.feature_extraction.text import TfidfVectorizer\n",
    "from sklearn.metrics import classification_report, confusion_matrix, accuracy_score, roc_curve, roc_auc_score\n",
    "from sklearn.ensemble import RandomForestClassifier, GradientBoostingClassifier"
   ]
  },
  {
   "cell_type": "code",
   "execution_count": null,
   "id": "4d19d945",
   "metadata": {},
   "outputs": [
    {
     "data": {
      "application/vnd.microsoft.datawrangler.viewer.v0+json": {
       "columns": [
        {
         "name": "index",
         "rawType": "int64",
         "type": "integer"
        },
        {
         "name": "tweet_text",
         "rawType": "object",
         "type": "string"
        },
        {
         "name": "emotion_in_tweet_is_directed_at",
         "rawType": "object",
         "type": "string"
        },
        {
         "name": "is_there_an_emotion_directed_at_a_brand_or_product",
         "rawType": "object",
         "type": "string"
        }
       ],
       "ref": "4613e774-871a-463b-9dc9-fea92163dedc",
       "rows": [
        [
         "0",
         ".@wesley83 I have a 3G iPhone. After 3 hrs tweeting at #RISE_Austin, it was dead!  I need to upgrade. Plugin stations at #SXSW.",
         "iPhone",
         "Negative emotion"
        ],
        [
         "1",
         "@jessedee Know about @fludapp ? Awesome iPad/iPhone app that you'll likely appreciate for its design. Also, they're giving free Ts at #SXSW",
         "iPad or iPhone App",
         "Positive emotion"
        ],
        [
         "2",
         "@swonderlin Can not wait for #iPad 2 also. They should sale them down at #SXSW.",
         "iPad",
         "Positive emotion"
        ],
        [
         "3",
         "@sxsw I hope this year's festival isn't as crashy as this year's iPhone app. #sxsw",
         "iPad or iPhone App",
         "Negative emotion"
        ],
        [
         "4",
         "@sxtxstate great stuff on Fri #SXSW: Marissa Mayer (Google), Tim O'Reilly (tech books/conferences) &amp; Matt Mullenweg (Wordpress)",
         "Google",
         "Positive emotion"
        ]
       ],
       "shape": {
        "columns": 3,
        "rows": 5
       }
      },
      "text/html": [
       "<div>\n",
       "<style scoped>\n",
       "    .dataframe tbody tr th:only-of-type {\n",
       "        vertical-align: middle;\n",
       "    }\n",
       "\n",
       "    .dataframe tbody tr th {\n",
       "        vertical-align: top;\n",
       "    }\n",
       "\n",
       "    .dataframe thead th {\n",
       "        text-align: right;\n",
       "    }\n",
       "</style>\n",
       "<table border=\"1\" class=\"dataframe\">\n",
       "  <thead>\n",
       "    <tr style=\"text-align: right;\">\n",
       "      <th></th>\n",
       "      <th>tweet_text</th>\n",
       "      <th>emotion_in_tweet_is_directed_at</th>\n",
       "      <th>is_there_an_emotion_directed_at_a_brand_or_product</th>\n",
       "    </tr>\n",
       "  </thead>\n",
       "  <tbody>\n",
       "    <tr>\n",
       "      <th>0</th>\n",
       "      <td>.@wesley83 I have a 3G iPhone. After 3 hrs twe...</td>\n",
       "      <td>iPhone</td>\n",
       "      <td>Negative emotion</td>\n",
       "    </tr>\n",
       "    <tr>\n",
       "      <th>1</th>\n",
       "      <td>@jessedee Know about @fludapp ? Awesome iPad/i...</td>\n",
       "      <td>iPad or iPhone App</td>\n",
       "      <td>Positive emotion</td>\n",
       "    </tr>\n",
       "    <tr>\n",
       "      <th>2</th>\n",
       "      <td>@swonderlin Can not wait for #iPad 2 also. The...</td>\n",
       "      <td>iPad</td>\n",
       "      <td>Positive emotion</td>\n",
       "    </tr>\n",
       "    <tr>\n",
       "      <th>3</th>\n",
       "      <td>@sxsw I hope this year's festival isn't as cra...</td>\n",
       "      <td>iPad or iPhone App</td>\n",
       "      <td>Negative emotion</td>\n",
       "    </tr>\n",
       "    <tr>\n",
       "      <th>4</th>\n",
       "      <td>@sxtxstate great stuff on Fri #SXSW: Marissa M...</td>\n",
       "      <td>Google</td>\n",
       "      <td>Positive emotion</td>\n",
       "    </tr>\n",
       "  </tbody>\n",
       "</table>\n",
       "</div>"
      ],
      "text/plain": [
       "                                          tweet_text  \\\n",
       "0  .@wesley83 I have a 3G iPhone. After 3 hrs twe...   \n",
       "1  @jessedee Know about @fludapp ? Awesome iPad/i...   \n",
       "2  @swonderlin Can not wait for #iPad 2 also. The...   \n",
       "3  @sxsw I hope this year's festival isn't as cra...   \n",
       "4  @sxtxstate great stuff on Fri #SXSW: Marissa M...   \n",
       "\n",
       "  emotion_in_tweet_is_directed_at  \\\n",
       "0                          iPhone   \n",
       "1              iPad or iPhone App   \n",
       "2                            iPad   \n",
       "3              iPad or iPhone App   \n",
       "4                          Google   \n",
       "\n",
       "  is_there_an_emotion_directed_at_a_brand_or_product  \n",
       "0                                   Negative emotion  \n",
       "1                                   Positive emotion  \n",
       "2                                   Positive emotion  \n",
       "3                                   Negative emotion  \n",
       "4                                   Positive emotion  "
      ]
     },
     "execution_count": 6,
     "metadata": {},
     "output_type": "execute_result"
    }
   ],
   "source": [
    "# Load dataset\n",
    "text_df = pd.read_csv('../../assets/judge-1377884607_tweet_product_company.csv', encoding=\"ISO-8859-1\")\n",
    "\n",
    "# Preview the first 5 rows\n",
    "text_df.head()"
   ]
  },
  {
   "cell_type": "markdown",
   "id": "af423818",
   "metadata": {},
   "source": [
    "#### *Data Summary: shapes, data types*\n",
    "This section checks the dataset's shape and data types, this is important as it will help in identifying if the data is sufficient for modeling or not. We'll also know what kind of data we will be working with.\n",
    "\n",
    "- We are using the `.shape()` method to check the dataset's shape."
   ]
  },
  {
   "cell_type": "code",
   "execution_count": null,
   "id": "bd644c45",
   "metadata": {},
   "outputs": [
    {
     "name": "stdout",
     "output_type": "stream",
     "text": [
      "Rows, Columns: (9093, 3)\n"
     ]
    }
   ],
   "source": [
    "# Shape of the dataset\n",
    "print(\"Rows, Columns:\", text_df.shape)"
   ]
  },
  {
   "cell_type": "markdown",
   "id": "16a7731d",
   "metadata": {},
   "source": [
    "The dataset contains 9093 rows and 3 columns, giving us enough records to work with.\n",
    "\n",
    "- We are using the `.info()` method to retrieve a concise summary of the data."
   ]
  },
  {
   "cell_type": "code",
   "execution_count": null,
   "id": "b8e301cc",
   "metadata": {},
   "outputs": [
    {
     "name": "stdout",
     "output_type": "stream",
     "text": [
      "<class 'pandas.core.frame.DataFrame'>\n",
      "RangeIndex: 9093 entries, 0 to 9092\n",
      "Data columns (total 3 columns):\n",
      " #   Column                                              Non-Null Count  Dtype \n",
      "---  ------                                              --------------  ----- \n",
      " 0   tweet_text                                          9092 non-null   object\n",
      " 1   emotion_in_tweet_is_directed_at                     3291 non-null   object\n",
      " 2   is_there_an_emotion_directed_at_a_brand_or_product  9093 non-null   object\n",
      "dtypes: object(3)\n",
      "memory usage: 213.2+ KB\n"
     ]
    }
   ],
   "source": [
    "# Data types and non-null values\n",
    "text_df.info()"
   ]
  },
  {
   "cell_type": "markdown",
   "id": "11e694b3",
   "metadata": {},
   "source": [
    "The dataset contains 3 columns and all contain values stored as objects. \n",
    "\n",
    "Also, 2 out of the 3 columns contain null values, that is the `tweet_text` and the `emotion_in_tweet_is_directed_at` columns.\n",
    "\n",
    "#### *Checking Data Integrity Issues*\n",
    "In this section we are looking to identify whether the data contains:\n",
    "- Missing values\n",
    "\n",
    "- Duplicated records"
   ]
  },
  {
   "cell_type": "code",
   "execution_count": null,
   "id": "1c8958e2",
   "metadata": {},
   "outputs": [
    {
     "data": {
      "application/vnd.microsoft.datawrangler.viewer.v0+json": {
       "columns": [
        {
         "name": "index",
         "rawType": "object",
         "type": "string"
        },
        {
         "name": "Missing Values",
         "rawType": "int64",
         "type": "integer"
        },
        {
         "name": "Percent",
         "rawType": "float64",
         "type": "float"
        }
       ],
       "ref": "061fb301-e7da-4f9d-900f-05a182a9a5a0",
       "rows": [
        [
         "tweet_text",
         "1",
         "0.010997470581766195"
        ],
        [
         "emotion_in_tweet_is_directed_at",
         "5802",
         "63.807324315407456"
        ]
       ],
       "shape": {
        "columns": 2,
        "rows": 2
       }
      },
      "text/html": [
       "<div>\n",
       "<style scoped>\n",
       "    .dataframe tbody tr th:only-of-type {\n",
       "        vertical-align: middle;\n",
       "    }\n",
       "\n",
       "    .dataframe tbody tr th {\n",
       "        vertical-align: top;\n",
       "    }\n",
       "\n",
       "    .dataframe thead th {\n",
       "        text-align: right;\n",
       "    }\n",
       "</style>\n",
       "<table border=\"1\" class=\"dataframe\">\n",
       "  <thead>\n",
       "    <tr style=\"text-align: right;\">\n",
       "      <th></th>\n",
       "      <th>Missing Values</th>\n",
       "      <th>Percent</th>\n",
       "    </tr>\n",
       "  </thead>\n",
       "  <tbody>\n",
       "    <tr>\n",
       "      <th>tweet_text</th>\n",
       "      <td>1</td>\n",
       "      <td>0.010997</td>\n",
       "    </tr>\n",
       "    <tr>\n",
       "      <th>emotion_in_tweet_is_directed_at</th>\n",
       "      <td>5802</td>\n",
       "      <td>63.807324</td>\n",
       "    </tr>\n",
       "  </tbody>\n",
       "</table>\n",
       "</div>"
      ],
      "text/plain": [
       "                                 Missing Values    Percent\n",
       "tweet_text                                    1   0.010997\n",
       "emotion_in_tweet_is_directed_at            5802  63.807324"
      ]
     },
     "execution_count": 9,
     "metadata": {},
     "output_type": "execute_result"
    }
   ],
   "source": [
    "# Find total number and percentage of missing values.\n",
    "# Retrieve sum of missing values.\n",
    "missing = text_df.isnull().sum()\n",
    "\n",
    "# Turn into percentage.\n",
    "missing_percent = (missing / len(text_df)) * 100\n",
    "\n",
    "# Store in a DataFrame.\n",
    "missing_df = pd.DataFrame({'Missing Values': missing, 'Percent': missing_percent})\n",
    "\n",
    "# Filter out columns that don't have missing values.\n",
    "missing_df[missing_df['Missing Values'] > 0]"
   ]
  },
  {
   "cell_type": "markdown",
   "id": "9318443c",
   "metadata": {},
   "source": [
    "As observed earlier, the data contains missing values in 2 columns. 1 missing value in the `tweet_text` column and in more than 60% records in the `emotion_in_tweet_is_directed_at` column.\n",
    "\n",
    "- In the next cell we are checking for duplicates using the `.duplicated()` method."
   ]
  },
  {
   "cell_type": "code",
   "execution_count": null,
   "id": "99d021f5",
   "metadata": {},
   "outputs": [
    {
     "name": "stdout",
     "output_type": "stream",
     "text": [
      "The dataset contains 22 duplicate records\n"
     ]
    }
   ],
   "source": [
    "# Check for duplicates\n",
    "duplicate_records = text_df.duplicated().sum()\n",
    "\n",
    "print(f'The dataset contains {duplicate_records} duplicate records')"
   ]
  },
  {
   "cell_type": "markdown",
   "id": "b1529e6a",
   "metadata": {},
   "source": [
    "The data contains 22 duplicated records.\n",
    "\n",
    "#### *Descriptive Analysis*\n",
    "We are using the `.describe()` method to generate a summary description of the data."
   ]
  },
  {
   "cell_type": "code",
   "execution_count": null,
   "id": "153791ce",
   "metadata": {},
   "outputs": [
    {
     "data": {
      "application/vnd.microsoft.datawrangler.viewer.v0+json": {
       "columns": [
        {
         "name": "index",
         "rawType": "object",
         "type": "string"
        },
        {
         "name": "tweet_text",
         "rawType": "object",
         "type": "unknown"
        },
        {
         "name": "emotion_in_tweet_is_directed_at",
         "rawType": "object",
         "type": "unknown"
        },
        {
         "name": "is_there_an_emotion_directed_at_a_brand_or_product",
         "rawType": "object",
         "type": "unknown"
        }
       ],
       "ref": "3a851231-cb0e-46c3-b478-1a09056caf2c",
       "rows": [
        [
         "count",
         "9092",
         "3291",
         "9093"
        ],
        [
         "unique",
         "9065",
         "9",
         "4"
        ],
        [
         "top",
         "RT @mention Marissa Mayer: Google Will Connect the Digital &amp; Physical Worlds Through Mobile - {link} #sxsw",
         "iPad",
         "No emotion toward brand or product"
        ],
        [
         "freq",
         "5",
         "946",
         "5389"
        ]
       ],
       "shape": {
        "columns": 3,
        "rows": 4
       }
      },
      "text/html": [
       "<div>\n",
       "<style scoped>\n",
       "    .dataframe tbody tr th:only-of-type {\n",
       "        vertical-align: middle;\n",
       "    }\n",
       "\n",
       "    .dataframe tbody tr th {\n",
       "        vertical-align: top;\n",
       "    }\n",
       "\n",
       "    .dataframe thead th {\n",
       "        text-align: right;\n",
       "    }\n",
       "</style>\n",
       "<table border=\"1\" class=\"dataframe\">\n",
       "  <thead>\n",
       "    <tr style=\"text-align: right;\">\n",
       "      <th></th>\n",
       "      <th>tweet_text</th>\n",
       "      <th>emotion_in_tweet_is_directed_at</th>\n",
       "      <th>is_there_an_emotion_directed_at_a_brand_or_product</th>\n",
       "    </tr>\n",
       "  </thead>\n",
       "  <tbody>\n",
       "    <tr>\n",
       "      <th>count</th>\n",
       "      <td>9092</td>\n",
       "      <td>3291</td>\n",
       "      <td>9093</td>\n",
       "    </tr>\n",
       "    <tr>\n",
       "      <th>unique</th>\n",
       "      <td>9065</td>\n",
       "      <td>9</td>\n",
       "      <td>4</td>\n",
       "    </tr>\n",
       "    <tr>\n",
       "      <th>top</th>\n",
       "      <td>RT @mention Marissa Mayer: Google Will Connect...</td>\n",
       "      <td>iPad</td>\n",
       "      <td>No emotion toward brand or product</td>\n",
       "    </tr>\n",
       "    <tr>\n",
       "      <th>freq</th>\n",
       "      <td>5</td>\n",
       "      <td>946</td>\n",
       "      <td>5389</td>\n",
       "    </tr>\n",
       "  </tbody>\n",
       "</table>\n",
       "</div>"
      ],
      "text/plain": [
       "                                               tweet_text  \\\n",
       "count                                                9092   \n",
       "unique                                               9065   \n",
       "top     RT @mention Marissa Mayer: Google Will Connect...   \n",
       "freq                                                    5   \n",
       "\n",
       "       emotion_in_tweet_is_directed_at  \\\n",
       "count                             3291   \n",
       "unique                               9   \n",
       "top                               iPad   \n",
       "freq                               946   \n",
       "\n",
       "       is_there_an_emotion_directed_at_a_brand_or_product  \n",
       "count                                                9093  \n",
       "unique                                                  4  \n",
       "top                    No emotion toward brand or product  \n",
       "freq                                                 5389  "
      ]
     },
     "execution_count": 11,
     "metadata": {},
     "output_type": "execute_result"
    }
   ],
   "source": [
    "# Summary stats for numerical columns\n",
    "text_df.describe()"
   ]
  },
  {
   "cell_type": "markdown",
   "id": "c6333515",
   "metadata": {},
   "source": [
    "- `tweet_text` contains 9093 records and 9065 unique values. This is a clear indication that we have duplicated rows in the dataset.\n",
    "\n",
    "- `emotion_in_tweet_is_directed_at` contains 3219 records, has 9 unique values where ipad is the most frequent product with 946 reviews.\n",
    "\n",
    "- `is_there_an_emotion_directed_at_a_brand_or_product` contains 9093 records and has 4 unique values where *No emotion toward brand or product* is the most frequent record with 5389 reveiws.\n",
    "\n",
    "### **Data Understanding Summary**\n",
    "#### *Structure*\n",
    "The dataset contains structured data stored in 9,093 rows and 3 columns, with records in all the columns stored as objects.\n",
    "\n",
    "#### *Data Issues and the Next Steps*\n",
    "| Found                 |    Action                                                          |\n",
    "| --------------------- | ------------------------------------------------------------------ |\n",
    "| Missing values        | Replace or drop                                                    |\n",
    "| Duplicates            | Drop using `.drop_duplicates()`                                    |\n",
    "| Long column names     | Replace with short, easy names                                     |\n",
    "| Categorical issues    | Fix inconsistent labels (If any)                                   |"
   ]
  },
  {
   "cell_type": "markdown",
   "id": "3d2207ed",
   "metadata": {},
   "source": [
    "## **Data Cleaning**\n",
    "In this section we are cleaning the dataset to prepare it for modeling. In the previous section, we performed the initial data exploration which not only helped in understanding the dataset but also pointing out some of the issues that could otherwise mislead the project's findings.\n",
    "\n",
    "This is a crucial step for any project before training a machine learning model because it ensures the data is accurate, consistent, and relevant, leading to better model performance and more reliable predictions. Cleaning data helps remove errors, inconsistencies, and irrelevant information that can negatively impact the model's ability to learn and generalize.\n",
    "\n",
    "This session will involve:\n",
    "- Dealing with missing values\n",
    "\n",
    "- Dealing with duplicate records\n",
    "\n",
    "- Dealing with categorical issues\n",
    "\n",
    "- Change column names\n",
    "\n",
    "- Identifying relevant columns based on domain knowledge\n",
    "\n",
    "- Cleaning the reviews and tokenizing them\n",
    "\n",
    "### **Rename Columns**"
   ]
  },
  {
   "cell_type": "code",
   "execution_count": null,
   "id": "8b327af5",
   "metadata": {},
   "outputs": [
    {
     "data": {
      "text/plain": [
       "Index(['tweet', 'product', 'emotion'], dtype='object')"
      ]
     },
     "execution_count": 12,
     "metadata": {},
     "output_type": "execute_result"
    }
   ],
   "source": [
    "# Rename columns\n",
    "text_df.rename(columns={'tweet_text': 'tweet', 'emotion_in_tweet_is_directed_at': 'product', 'is_there_an_emotion_directed_at_a_brand_or_product': 'emotion'}, inplace=True)\n",
    "\n",
    "# Preview changes\n",
    "text_df.columns"
   ]
  },
  {
   "cell_type": "markdown",
   "id": "5fd17f44",
   "metadata": {},
   "source": [
    "### **Missing Values**\n",
    "During the data understanding, we found that 2 columns contain missing values, in this section, we are exploring the columns further to make sure there is no underlying reason other than the fact that the columns are incomplete.\n",
    "\n",
    "This step is crucial as missing values in datasets can significantly impact the accuracy and reliability of analyses and machine learning models. Addressing ensures valid results and avoids introducing bias.\n",
    "\n",
    "The columns with missing values include: `tweet`, `product`. "
   ]
  },
  {
   "cell_type": "code",
   "execution_count": null,
   "id": "8722dc96",
   "metadata": {},
   "outputs": [
    {
     "data": {
      "text/plain": [
       "array(['iPhone', 'iPad or iPhone App', 'iPad', 'Google', nan, 'Android',\n",
       "       'Apple', 'Android App', 'Other Google product or service',\n",
       "       'Other Apple product or service'], dtype=object)"
      ]
     },
     "execution_count": 13,
     "metadata": {},
     "output_type": "execute_result"
    }
   ],
   "source": [
    "# Preview the `product` column\n",
    "text_df['product'].unique()"
   ]
  },
  {
   "cell_type": "code",
   "execution_count": null,
   "id": "5c09de6a",
   "metadata": {},
   "outputs": [],
   "source": [
    "# Get unique product names from the product column (ignoring missing values)\n",
    "product_list = text_df['product'].dropna().unique().tolist()"
   ]
  },
  {
   "cell_type": "code",
   "execution_count": null,
   "id": "9d7601b5",
   "metadata": {},
   "outputs": [],
   "source": [
    "# Extracting product names from tweet column\n",
    "def extract_product(tweet, product_list):\n",
    "    for product in product_list:\n",
    "        # Case-insensitive search\n",
    "        if re.search(r'\\b' + re.escape(product) + r'\\b', tweet, flags=re.IGNORECASE):\n",
    "            return product\n",
    "    return None\n",
    "\n",
    "# Apply function only where product is missing\n",
    "text_df['product_filled'] = text_df.apply(lambda row: row['product'] if pd.notnull(row['product']) else extract_product(str(row['tweet']), product_list) if pd.notnull(row['tweet']) else None, axis=1)"
   ]
  },
  {
   "cell_type": "code",
   "execution_count": null,
   "id": "ad3d09a6",
   "metadata": {},
   "outputs": [
    {
     "name": "stdout",
     "output_type": "stream",
     "text": [
      "Missing before: 5802\n",
      "Missing after : 796\n"
     ]
    }
   ],
   "source": [
    "# Compare before vs after filling\n",
    "print(\"Missing before:\", text_df['product'].isna().sum())\n",
    "print(\"Missing after :\", text_df['product_filled'].isna().sum())\n"
   ]
  },
  {
   "cell_type": "markdown",
   "id": "1de196dc",
   "metadata": {},
   "source": [
    "- Extracting product names from the tweet column has brought down the number of missing product records from 5000+ to 700+ missing records. \n",
    "\n",
    "- In the next cells we are comparing the two columns to ensure we do not accidentally “lose” some values."
   ]
  },
  {
   "cell_type": "code",
   "execution_count": null,
   "id": "3d682498",
   "metadata": {},
   "outputs": [
    {
     "data": {
      "application/vnd.microsoft.datawrangler.viewer.v0+json": {
       "columns": [
        {
         "name": "index",
         "rawType": "int64",
         "type": "integer"
        },
        {
         "name": "product",
         "rawType": "object",
         "type": "unknown"
        },
        {
         "name": "product_filled",
         "rawType": "object",
         "type": "unknown"
        }
       ],
       "ref": "7ced28dd-e409-4e80-b9db-c75e777935ab",
       "rows": [
        [
         "0",
         "iPhone",
         "iPhone"
        ],
        [
         "1",
         "iPad or iPhone App",
         "iPad or iPhone App"
        ],
        [
         "2",
         "iPad",
         "iPad"
        ],
        [
         "3",
         "iPad or iPhone App",
         "iPad or iPhone App"
        ],
        [
         "4",
         "Google",
         "Google"
        ],
        [
         "5",
         null,
         "iPad"
        ],
        [
         "6",
         null,
         null
        ],
        [
         "7",
         "Android",
         "Android"
        ],
        [
         "8",
         "iPad or iPhone App",
         "iPad or iPhone App"
        ],
        [
         "9",
         "Apple",
         "Apple"
        ],
        [
         "10",
         "Android",
         "Android"
        ],
        [
         "11",
         "Android App",
         "Android App"
        ],
        [
         "12",
         "Android App",
         "Android App"
        ],
        [
         "13",
         "Other Google product or service",
         "Other Google product or service"
        ],
        [
         "14",
         "iPad or iPhone App",
         "iPad or iPhone App"
        ],
        [
         "15",
         "iPad or iPhone App",
         "iPad or iPhone App"
        ],
        [
         "16",
         null,
         "iPad"
        ],
        [
         "17",
         "iPhone",
         "iPhone"
        ],
        [
         "18",
         "iPad or iPhone App",
         "iPad or iPhone App"
        ],
        [
         "19",
         "iPad or iPhone App",
         "iPad or iPhone App"
        ],
        [
         "20",
         "iPad",
         "iPad"
        ],
        [
         "21",
         "iPad or iPhone App",
         "iPad or iPhone App"
        ],
        [
         "22",
         "Android App",
         "Android App"
        ],
        [
         "23",
         "iPad or iPhone App",
         "iPad or iPhone App"
        ],
        [
         "24",
         "Android App",
         "Android App"
        ],
        [
         "25",
         "iPad",
         "iPad"
        ],
        [
         "26",
         "iPad or iPhone App",
         "iPad or iPhone App"
        ],
        [
         "27",
         "Other Google product or service",
         "Other Google product or service"
        ],
        [
         "28",
         "iPad or iPhone App",
         "iPad or iPhone App"
        ],
        [
         "29",
         "Android App",
         "Android App"
        ],
        [
         "30",
         "iPad or iPhone App",
         "iPad or iPhone App"
        ],
        [
         "31",
         "iPad or iPhone App",
         "iPad or iPhone App"
        ],
        [
         "32",
         null,
         "Android"
        ],
        [
         "33",
         null,
         "iPad"
        ],
        [
         "34",
         null,
         "iPad"
        ],
        [
         "35",
         null,
         "Google"
        ],
        [
         "36",
         "iPad",
         "iPad"
        ],
        [
         "37",
         null,
         "iPad"
        ],
        [
         "38",
         "Google",
         "Google"
        ],
        [
         "39",
         null,
         "Google"
        ],
        [
         "40",
         "Apple",
         "Apple"
        ],
        [
         "41",
         null,
         "iPhone"
        ],
        [
         "42",
         null,
         "iPhone"
        ],
        [
         "43",
         null,
         "iPad"
        ],
        [
         "44",
         null,
         "iPhone"
        ],
        [
         "45",
         "iPad or iPhone App",
         "iPad or iPhone App"
        ],
        [
         "46",
         null,
         "iPhone"
        ],
        [
         "47",
         "Apple",
         "Apple"
        ],
        [
         "48",
         null,
         "Google"
        ],
        [
         "49",
         "Apple",
         "Apple"
        ]
       ],
       "shape": {
        "columns": 2,
        "rows": 9093
       }
      },
      "text/html": [
       "<div>\n",
       "<style scoped>\n",
       "    .dataframe tbody tr th:only-of-type {\n",
       "        vertical-align: middle;\n",
       "    }\n",
       "\n",
       "    .dataframe tbody tr th {\n",
       "        vertical-align: top;\n",
       "    }\n",
       "\n",
       "    .dataframe thead th {\n",
       "        text-align: right;\n",
       "    }\n",
       "</style>\n",
       "<table border=\"1\" class=\"dataframe\">\n",
       "  <thead>\n",
       "    <tr style=\"text-align: right;\">\n",
       "      <th></th>\n",
       "      <th>product</th>\n",
       "      <th>product_filled</th>\n",
       "    </tr>\n",
       "  </thead>\n",
       "  <tbody>\n",
       "    <tr>\n",
       "      <th>0</th>\n",
       "      <td>iPhone</td>\n",
       "      <td>iPhone</td>\n",
       "    </tr>\n",
       "    <tr>\n",
       "      <th>1</th>\n",
       "      <td>iPad or iPhone App</td>\n",
       "      <td>iPad or iPhone App</td>\n",
       "    </tr>\n",
       "    <tr>\n",
       "      <th>2</th>\n",
       "      <td>iPad</td>\n",
       "      <td>iPad</td>\n",
       "    </tr>\n",
       "    <tr>\n",
       "      <th>3</th>\n",
       "      <td>iPad or iPhone App</td>\n",
       "      <td>iPad or iPhone App</td>\n",
       "    </tr>\n",
       "    <tr>\n",
       "      <th>4</th>\n",
       "      <td>Google</td>\n",
       "      <td>Google</td>\n",
       "    </tr>\n",
       "    <tr>\n",
       "      <th>...</th>\n",
       "      <td>...</td>\n",
       "      <td>...</td>\n",
       "    </tr>\n",
       "    <tr>\n",
       "      <th>9088</th>\n",
       "      <td>iPad</td>\n",
       "      <td>iPad</td>\n",
       "    </tr>\n",
       "    <tr>\n",
       "      <th>9089</th>\n",
       "      <td>NaN</td>\n",
       "      <td>Google</td>\n",
       "    </tr>\n",
       "    <tr>\n",
       "      <th>9090</th>\n",
       "      <td>NaN</td>\n",
       "      <td>Google</td>\n",
       "    </tr>\n",
       "    <tr>\n",
       "      <th>9091</th>\n",
       "      <td>NaN</td>\n",
       "      <td>iPhone</td>\n",
       "    </tr>\n",
       "    <tr>\n",
       "      <th>9092</th>\n",
       "      <td>NaN</td>\n",
       "      <td>Google</td>\n",
       "    </tr>\n",
       "  </tbody>\n",
       "</table>\n",
       "<p>9093 rows × 2 columns</p>\n",
       "</div>"
      ],
      "text/plain": [
       "                 product      product_filled\n",
       "0                 iPhone              iPhone\n",
       "1     iPad or iPhone App  iPad or iPhone App\n",
       "2                   iPad                iPad\n",
       "3     iPad or iPhone App  iPad or iPhone App\n",
       "4                 Google              Google\n",
       "...                  ...                 ...\n",
       "9088                iPad                iPad\n",
       "9089                 NaN              Google\n",
       "9090                 NaN              Google\n",
       "9091                 NaN              iPhone\n",
       "9092                 NaN              Google\n",
       "\n",
       "[9093 rows x 2 columns]"
      ]
     },
     "execution_count": 17,
     "metadata": {},
     "output_type": "execute_result"
    }
   ],
   "source": [
    "# Compare the two columns\n",
    "products = text_df[['product', 'product_filled']]\n",
    "products"
   ]
  },
  {
   "cell_type": "code",
   "execution_count": null,
   "id": "e0fa9f64",
   "metadata": {},
   "outputs": [
    {
     "name": "stdout",
     "output_type": "stream",
     "text": [
      "Number of such cases: 0\n"
     ]
    },
    {
     "data": {
      "application/vnd.microsoft.datawrangler.viewer.v0+json": {
       "columns": [
        {
         "name": "index",
         "rawType": "int64",
         "type": "integer"
        },
        {
         "name": "tweet",
         "rawType": "object",
         "type": "string"
        },
        {
         "name": "product",
         "rawType": "object",
         "type": "string"
        },
        {
         "name": "product_filled",
         "rawType": "object",
         "type": "string"
        }
       ],
       "ref": "045f46c4-04a3-43d1-a62e-b888d0961244",
       "rows": [],
       "shape": {
        "columns": 3,
        "rows": 0
       }
      },
      "text/html": [
       "<div>\n",
       "<style scoped>\n",
       "    .dataframe tbody tr th:only-of-type {\n",
       "        vertical-align: middle;\n",
       "    }\n",
       "\n",
       "    .dataframe tbody tr th {\n",
       "        vertical-align: top;\n",
       "    }\n",
       "\n",
       "    .dataframe thead th {\n",
       "        text-align: right;\n",
       "    }\n",
       "</style>\n",
       "<table border=\"1\" class=\"dataframe\">\n",
       "  <thead>\n",
       "    <tr style=\"text-align: right;\">\n",
       "      <th></th>\n",
       "      <th>tweet</th>\n",
       "      <th>product</th>\n",
       "      <th>product_filled</th>\n",
       "    </tr>\n",
       "  </thead>\n",
       "  <tbody>\n",
       "  </tbody>\n",
       "</table>\n",
       "</div>"
      ],
      "text/plain": [
       "Empty DataFrame\n",
       "Columns: [tweet, product, product_filled]\n",
       "Index: []"
      ]
     },
     "execution_count": 18,
     "metadata": {},
     "output_type": "execute_result"
    }
   ],
   "source": [
    "# Find rows where product_filled is missing but product is not\n",
    "check_df = text_df[text_df['product_filled'].isna() & text_df['product'].notna()]\n",
    "\n",
    "print(\"Number of such cases:\", check_df.shape[0])\n",
    "check_df[['tweet', 'product', 'product_filled']].head(10)"
   ]
  },
  {
   "cell_type": "code",
   "execution_count": null,
   "id": "8838162e",
   "metadata": {},
   "outputs": [
    {
     "name": "stdout",
     "output_type": "stream",
     "text": [
      "Missing values after dropping rows with missing tweet text:\n"
     ]
    },
    {
     "data": {
      "application/vnd.microsoft.datawrangler.viewer.v0+json": {
       "columns": [
        {
         "name": "index",
         "rawType": "object",
         "type": "string"
        },
        {
         "name": "0",
         "rawType": "int64",
         "type": "integer"
        }
       ],
       "ref": "5055aaaa-ddb6-4084-b6fb-4c4cd613fec7",
       "rows": [
        [
         "tweet",
         "0"
        ],
        [
         "emotion",
         "0"
        ],
        [
         "product_filled",
         "795"
        ]
       ],
       "shape": {
        "columns": 1,
        "rows": 3
       }
      },
      "text/plain": [
       "tweet               0\n",
       "emotion             0\n",
       "product_filled    795\n",
       "dtype: int64"
      ]
     },
     "metadata": {},
     "output_type": "display_data"
    }
   ],
   "source": [
    "# Drop rows with missing tweet text\n",
    "text_df.dropna(subset=['tweet'], inplace=True)\n",
    "\n",
    "# Drop column with a lot of missing values\n",
    "text_df.drop(columns= ['product'], inplace= True)\n",
    "\n",
    "# Verify that the row has been dropped\n",
    "print(\"Missing values after dropping rows with missing tweet text:\")\n",
    "display(text_df.isnull().sum())"
   ]
  },
  {
   "cell_type": "code",
   "execution_count": null,
   "id": "4dc3770a",
   "metadata": {},
   "outputs": [
    {
     "data": {
      "application/vnd.microsoft.datawrangler.viewer.v0+json": {
       "columns": [
        {
         "name": "index",
         "rawType": "int64",
         "type": "integer"
        },
        {
         "name": "tweet",
         "rawType": "object",
         "type": "string"
        },
        {
         "name": "emotion",
         "rawType": "object",
         "type": "string"
        },
        {
         "name": "product_filled",
         "rawType": "object",
         "type": "string"
        }
       ],
       "ref": "51be6f41-1dc0-4119-a387-0f999109b4c4",
       "rows": [
        [
         "0",
         ".@wesley83 I have a 3G iPhone. After 3 hrs tweeting at #RISE_Austin, it was dead!  I need to upgrade. Plugin stations at #SXSW.",
         "Negative emotion",
         "iPhone"
        ],
        [
         "1",
         "@jessedee Know about @fludapp ? Awesome iPad/iPhone app that you'll likely appreciate for its design. Also, they're giving free Ts at #SXSW",
         "Positive emotion",
         "iPad or iPhone App"
        ],
        [
         "2",
         "@swonderlin Can not wait for #iPad 2 also. They should sale them down at #SXSW.",
         "Positive emotion",
         "iPad"
        ],
        [
         "3",
         "@sxsw I hope this year's festival isn't as crashy as this year's iPhone app. #sxsw",
         "Negative emotion",
         "iPad or iPhone App"
        ],
        [
         "4",
         "@sxtxstate great stuff on Fri #SXSW: Marissa Mayer (Google), Tim O'Reilly (tech books/conferences) &amp; Matt Mullenweg (Wordpress)",
         "Positive emotion",
         "Google"
        ]
       ],
       "shape": {
        "columns": 3,
        "rows": 5
       }
      },
      "text/html": [
       "<div>\n",
       "<style scoped>\n",
       "    .dataframe tbody tr th:only-of-type {\n",
       "        vertical-align: middle;\n",
       "    }\n",
       "\n",
       "    .dataframe tbody tr th {\n",
       "        vertical-align: top;\n",
       "    }\n",
       "\n",
       "    .dataframe thead th {\n",
       "        text-align: right;\n",
       "    }\n",
       "</style>\n",
       "<table border=\"1\" class=\"dataframe\">\n",
       "  <thead>\n",
       "    <tr style=\"text-align: right;\">\n",
       "      <th></th>\n",
       "      <th>tweet</th>\n",
       "      <th>emotion</th>\n",
       "      <th>product_filled</th>\n",
       "    </tr>\n",
       "  </thead>\n",
       "  <tbody>\n",
       "    <tr>\n",
       "      <th>0</th>\n",
       "      <td>.@wesley83 I have a 3G iPhone. After 3 hrs twe...</td>\n",
       "      <td>Negative emotion</td>\n",
       "      <td>iPhone</td>\n",
       "    </tr>\n",
       "    <tr>\n",
       "      <th>1</th>\n",
       "      <td>@jessedee Know about @fludapp ? Awesome iPad/i...</td>\n",
       "      <td>Positive emotion</td>\n",
       "      <td>iPad or iPhone App</td>\n",
       "    </tr>\n",
       "    <tr>\n",
       "      <th>2</th>\n",
       "      <td>@swonderlin Can not wait for #iPad 2 also. The...</td>\n",
       "      <td>Positive emotion</td>\n",
       "      <td>iPad</td>\n",
       "    </tr>\n",
       "    <tr>\n",
       "      <th>3</th>\n",
       "      <td>@sxsw I hope this year's festival isn't as cra...</td>\n",
       "      <td>Negative emotion</td>\n",
       "      <td>iPad or iPhone App</td>\n",
       "    </tr>\n",
       "    <tr>\n",
       "      <th>4</th>\n",
       "      <td>@sxtxstate great stuff on Fri #SXSW: Marissa M...</td>\n",
       "      <td>Positive emotion</td>\n",
       "      <td>Google</td>\n",
       "    </tr>\n",
       "  </tbody>\n",
       "</table>\n",
       "</div>"
      ],
      "text/plain": [
       "                                               tweet           emotion  \\\n",
       "0  .@wesley83 I have a 3G iPhone. After 3 hrs twe...  Negative emotion   \n",
       "1  @jessedee Know about @fludapp ? Awesome iPad/i...  Positive emotion   \n",
       "2  @swonderlin Can not wait for #iPad 2 also. The...  Positive emotion   \n",
       "3  @sxsw I hope this year's festival isn't as cra...  Negative emotion   \n",
       "4  @sxtxstate great stuff on Fri #SXSW: Marissa M...  Positive emotion   \n",
       "\n",
       "       product_filled  \n",
       "0              iPhone  \n",
       "1  iPad or iPhone App  \n",
       "2                iPad  \n",
       "3  iPad or iPhone App  \n",
       "4              Google  "
      ]
     },
     "execution_count": 20,
     "metadata": {},
     "output_type": "execute_result"
    }
   ],
   "source": [
    "# Preview changes\n",
    "text_df.head()"
   ]
  },
  {
   "cell_type": "markdown",
   "id": "778f69d8",
   "metadata": {},
   "source": [
    "### **Standardization**\n",
    "In this section we are standardizing all the categorical columns by turning them all to lower case, correcting alternate spellings and fixing typos (if any). This is crucial because otherwise we would treat them as separate categories.\n",
    "\n",
    "We are reviewing columns content before standarzing them."
   ]
  },
  {
   "cell_type": "code",
   "execution_count": null,
   "id": "6eb82659",
   "metadata": {},
   "outputs": [
    {
     "name": "stdout",
     "output_type": "stream",
     "text": [
      "\n",
      "--- TWEET ---\n",
      "tweet\n",
      "RT @mention Marissa Mayer: Google Will Connect the Digital &amp; Physical Worlds Through Mobile - {link} #sxsw                                      5\n",
      "RT @mention Google to Launch Major New Social Network Called Circles, Possibly Today {link} #sxsw                                                   4\n",
      "RT @mention Marissa Mayer: Google Will Connect the Digital &amp; Physical Worlds Through Mobile - {link} #SXSW                                      4\n",
      "RT @mention Google to Launch Major New Social Network Called Circles, Possibly Today {link} #SXSW                                                   3\n",
      "RT @mention ÷¼ GO BEYOND BORDERS! ÷_ {link} ã_ #edchat #musedchat #sxsw #sxswi #classical #newTwitter                                            2\n",
      "Win free ipad 2 from webdoc.com #sxsw RT                                                                                                            2\n",
      "Win free iPad 2 from webdoc.com #sxsw RT                                                                                                            2\n",
      "Google to Launch Major New Social Network Called Circles, Possibly Today {link} #sxsw                                                               2\n",
      "Oh. My. God. The #SXSW app for iPad is pure, unadulterated awesome. It's easier to browse events on iPad than on the website!!!                     2\n",
      "Need to buy an iPad2 while I'm in Austin at #sxsw. Not sure if I'll need to Q up at an Austin Apple store?                                          2\n",
      "RT @mention ÷¼ Happy Woman's Day! Make love, not fuss! ÷_ {link} ã_ #edchat #musedchat #sxsw #sxswi #classical #newTwitter                       2\n",
      "I just noticed DST is coming this weekend. How many iPhone users will be an hour late at SXSW come Sunday morning? #SXSW #iPhone                    2\n",
      "Really enjoying the changes in Gowalla 3.0 for Android! Looking forward to seeing what else they &amp; Foursquare have up their sleeves at #SXSW    2\n",
      "Marissa Mayer: Google Will Connect the Digital &amp; Physical Worlds Through Mobile - {link} #sxsw                                                  2\n",
      "RT @mention RT @mention Google to Launch Major New Social Network Called Circles, Possibly Today {link} #sxsw                                       2\n",
      "Name: count, dtype: int64\n",
      "\n",
      "--- EMOTION ---\n",
      "emotion\n",
      "No emotion toward brand or product    5388\n",
      "Positive emotion                      2978\n",
      "Negative emotion                       570\n",
      "I can't tell                           156\n",
      "Name: count, dtype: int64\n",
      "\n",
      "--- PRODUCT_FILLED ---\n",
      "product_filled\n",
      "iPad                               2180\n",
      "Google                             2154\n",
      "Apple                              1579\n",
      "iPhone                             1207\n",
      "None                                795\n",
      "iPad or iPhone App                  470\n",
      "Android                             298\n",
      "Other Google product or service     293\n",
      "Android App                          81\n",
      "Other Apple product or service       35\n",
      "Name: count, dtype: int64\n"
     ]
    }
   ],
   "source": [
    "# View the most occuring records in categorical columns\n",
    "for col in text_df.select_dtypes(include='object').columns:\n",
    "    print(f\"\\n--- {col.upper()} ---\")\n",
    "    print(text_df[col].value_counts(dropna=False).head(15))  # show top 15 values"
   ]
  },
  {
   "cell_type": "code",
   "execution_count": null,
   "id": "08ba15fe",
   "metadata": {},
   "outputs": [
    {
     "name": "stdout",
     "output_type": "stream",
     "text": [
      "\n",
      "--- TWEET ---\n",
      "tweet\n",
      "rt @mention google to launch major new social network called circles, possibly today {link} #sxsw                                            9\n",
      "rt @mention marissa mayer: google will connect the digital &amp; physical worlds through mobile - {link} #sxsw                               9\n",
      "win free ipad 2 from webdoc.com #sxsw rt                                                                                                     6\n",
      "google to launch major new social network called circles, possibly today {link} #sxsw                                                        4\n",
      "rt @mention rt @mention it's not a rumor: apple is opening up a temporary store in downtown austin for #sxsw and the ipad 2 launch {link}    3\n",
      "before it even begins, apple wins #sxsw {link}                                                                                               3\n",
      "rt @mention it's not a rumor: apple is opening up a temporary store in downtown austin for #sxsw and the ipad 2 launch {link}                3\n",
      "rt @mention rt @mention google to launch major new social network called circles, possibly today {link} #sxsw                                3\n",
      "marissa mayer: google will connect the digital &amp; physical worlds through mobile - {link} #sxsw                                           3\n",
      "rt @mention team heading to big boi show, thanks to @mention crew. rt and find the owl for free tattoo {link} #sxsw                          2\n",
      "Name: count, dtype: int64\n",
      "\n",
      "--- EMOTION ---\n",
      "emotion\n",
      "no emotion toward brand or product    5388\n",
      "positive emotion                      2978\n",
      "negative emotion                       570\n",
      "i can't tell                           156\n",
      "Name: count, dtype: int64\n",
      "\n",
      "--- PRODUCT_FILLED ---\n",
      "product_filled\n",
      "ipad                               2180\n",
      "google                             2154\n",
      "apple                              1579\n",
      "iphone                             1207\n",
      "none                                795\n",
      "ipad or iphone app                  470\n",
      "android                             298\n",
      "other google product or service     293\n",
      "android app                          81\n",
      "other apple product or service       35\n",
      "Name: count, dtype: int64\n"
     ]
    }
   ],
   "source": [
    "# Create standardization function.\n",
    "def clean_categorical_columns(df, show_value_counts=False, top_n=10):\n",
    "    \"\"\"\n",
    "    Standardizes text in all object columns:\n",
    "    - Converts to lowercase\n",
    "    - Strips whitespace\n",
    "    - Replaces multiple spaces with one\n",
    "\n",
    "    Parameters:\n",
    "    - df: your dataframe\n",
    "    - show_value_counts: if True, prints value counts per column\n",
    "    - top_n: how many top values to show if show_value_counts is True\n",
    "\n",
    "    Returns:\n",
    "    - cleaned dataframe\n",
    "    \"\"\"\n",
    "    df_cleaned = df.copy()\n",
    "    cat_cols = df_cleaned.select_dtypes(include='object').columns\n",
    "\n",
    "    for col in cat_cols:\n",
    "        df_cleaned[col] = (\n",
    "            df_cleaned[col]\n",
    "            .astype(str)\n",
    "            .str.lower()\n",
    "            .str.strip()\n",
    "            .str.replace(r'\\s+', ' ', regex=True)\n",
    "        )\n",
    "        if show_value_counts:\n",
    "            print(f\"\\n--- {col.upper()} ---\")\n",
    "            print(df_cleaned[col].value_counts(dropna=False).head(top_n))\n",
    "    \n",
    "    return df_cleaned\n",
    "\n",
    "text_cleaned = clean_categorical_columns(text_df, show_value_counts=True)"
   ]
  },
  {
   "cell_type": "code",
   "execution_count": null,
   "id": "3ae1b820",
   "metadata": {},
   "outputs": [
    {
     "name": "stdout",
     "output_type": "stream",
     "text": [
      "['negative' 'positive' 'neutral' 'mixed']\n"
     ]
    }
   ],
   "source": [
    "# Define a mapping dictionary\n",
    "emotion_map = {\n",
    "    \"positive emotion\": \"positive\",\n",
    "    \"negative emotion\": \"negative\",\n",
    "    \"i can't tell\": \"mixed\",\n",
    "    \"no emotion toward brand or product\": \"neutral\"\n",
    "}\n",
    "\n",
    "# Apply mapping\n",
    "text_cleaned['emotion'] = text_cleaned['emotion'].replace(emotion_map)\n",
    "\n",
    "# Check unique values after renaming\n",
    "print(text_cleaned['emotion'].unique())\n"
   ]
  },
  {
   "cell_type": "markdown",
   "id": "8e936655",
   "metadata": {},
   "source": [
    "### **Dropping Duplicate Records**\n",
    "During data understanding we found that the dataset contains 22 duplicated records, also, when checking the columns' unique values, we noticed that some columns contained same texts in different cases. Here we are dropping them to maintain data integrity and accuracy, prevent biased analysis, optimize storage and performance, and ensure that machine learning models can generalize well. \n",
    "\n",
    "Duplicates can distort findings, and negatively impact the quality of insights derived from the data. We are using the `.drop_duplicates()` method."
   ]
  },
  {
   "cell_type": "code",
   "execution_count": null,
   "id": "78cf6126",
   "metadata": {},
   "outputs": [],
   "source": [
    "# Drop duplicate records\n",
    "text_df.drop_duplicates(inplace= True)"
   ]
  },
  {
   "cell_type": "code",
   "execution_count": null,
   "id": "33b07dd7",
   "metadata": {},
   "outputs": [
    {
     "name": "stdout",
     "output_type": "stream",
     "text": [
      "The dataset contains 0 duplicate records\n"
     ]
    }
   ],
   "source": [
    "# Confirm duplicates are dropped\n",
    "duplicate_records = text_df.duplicated().sum()\n",
    "\n",
    "print(f'The dataset contains {duplicate_records} duplicate records')"
   ]
  },
  {
   "cell_type": "markdown",
   "id": "1a5a15b6",
   "metadata": {},
   "source": [
    "### **Preprocessing `tweet` Column**\n",
    "Here we are creating a function that takes in the `tweet` column in our dataframe and preprocesses the documents. The preprocessed text will be saved to a new column in our `text_cleaned` dataframe.\n",
    "\n",
    "The function:\n",
    "- removes punctuation\n",
    "\n",
    "- removes stopwords\n",
    "\n",
    "- tokenizes the texts\n",
    "\n",
    "- removes links and @ mentions"
   ]
  },
  {
   "cell_type": "code",
   "execution_count": null,
   "id": "9e228d33",
   "metadata": {},
   "outputs": [
    {
     "name": "stderr",
     "output_type": "stream",
     "text": [
      "[nltk_data] Downloading package punkt to\n",
      "[nltk_data]     C:\\Users\\Johny\\AppData\\Roaming\\nltk_data...\n",
      "[nltk_data]   Package punkt is already up-to-date!\n",
      "[nltk_data] Downloading package stopwords to\n",
      "[nltk_data]     C:\\Users\\Johny\\AppData\\Roaming\\nltk_data...\n",
      "[nltk_data]   Package stopwords is already up-to-date!\n",
      "[nltk_data] Downloading package punkt_tab to\n",
      "[nltk_data]     C:\\Users\\Johny\\AppData\\Roaming\\nltk_data...\n",
      "[nltk_data]   Package punkt_tab is already up-to-date!\n"
     ]
    },
    {
     "data": {
      "application/vnd.microsoft.datawrangler.viewer.v0+json": {
       "columns": [
        {
         "name": "index",
         "rawType": "int64",
         "type": "integer"
        },
        {
         "name": "tweet",
         "rawType": "object",
         "type": "string"
        },
        {
         "name": "cleaned_tweets",
         "rawType": "object",
         "type": "string"
        }
       ],
       "ref": "557e0e2e-1681-46fd-a173-bb028151f414",
       "rows": [
        [
         "0",
         ".@wesley83 i have a 3g iphone. after 3 hrs tweeting at #rise_austin, it was dead! i need to upgrade. plugin stations at #sxsw.",
         "3g iphone 3 hrs tweeting rise_austin dead need upgrade plugin stations sxsw"
        ],
        [
         "1",
         "@jessedee know about @fludapp ? awesome ipad/iphone app that you'll likely appreciate for its design. also, they're giving free ts at #sxsw",
         "know awesome ipadiphone app youll likely appreciate design also theyre giving free ts sxsw"
        ],
        [
         "2",
         "@swonderlin can not wait for #ipad 2 also. they should sale them down at #sxsw.",
         "wait ipad 2 also sale sxsw"
        ],
        [
         "3",
         "@sxsw i hope this year's festival isn't as crashy as this year's iphone app. #sxsw",
         "hope years festival isnt crashy years iphone app sxsw"
        ],
        [
         "4",
         "@sxtxstate great stuff on fri #sxsw: marissa mayer (google), tim o'reilly (tech books/conferences) &amp; matt mullenweg (wordpress)",
         "great stuff fri sxsw marissa mayer google tim oreilly tech booksconferences amp matt mullenweg wordpress"
        ]
       ],
       "shape": {
        "columns": 2,
        "rows": 5
       }
      },
      "text/html": [
       "<div>\n",
       "<style scoped>\n",
       "    .dataframe tbody tr th:only-of-type {\n",
       "        vertical-align: middle;\n",
       "    }\n",
       "\n",
       "    .dataframe tbody tr th {\n",
       "        vertical-align: top;\n",
       "    }\n",
       "\n",
       "    .dataframe thead th {\n",
       "        text-align: right;\n",
       "    }\n",
       "</style>\n",
       "<table border=\"1\" class=\"dataframe\">\n",
       "  <thead>\n",
       "    <tr style=\"text-align: right;\">\n",
       "      <th></th>\n",
       "      <th>tweet</th>\n",
       "      <th>cleaned_tweets</th>\n",
       "    </tr>\n",
       "  </thead>\n",
       "  <tbody>\n",
       "    <tr>\n",
       "      <th>0</th>\n",
       "      <td>.@wesley83 i have a 3g iphone. after 3 hrs twe...</td>\n",
       "      <td>3g iphone 3 hrs tweeting rise_austin dead need...</td>\n",
       "    </tr>\n",
       "    <tr>\n",
       "      <th>1</th>\n",
       "      <td>@jessedee know about @fludapp ? awesome ipad/i...</td>\n",
       "      <td>know awesome ipadiphone app youll likely appre...</td>\n",
       "    </tr>\n",
       "    <tr>\n",
       "      <th>2</th>\n",
       "      <td>@swonderlin can not wait for #ipad 2 also. the...</td>\n",
       "      <td>wait ipad 2 also sale sxsw</td>\n",
       "    </tr>\n",
       "    <tr>\n",
       "      <th>3</th>\n",
       "      <td>@sxsw i hope this year's festival isn't as cra...</td>\n",
       "      <td>hope years festival isnt crashy years iphone a...</td>\n",
       "    </tr>\n",
       "    <tr>\n",
       "      <th>4</th>\n",
       "      <td>@sxtxstate great stuff on fri #sxsw: marissa m...</td>\n",
       "      <td>great stuff fri sxsw marissa mayer google tim ...</td>\n",
       "    </tr>\n",
       "  </tbody>\n",
       "</table>\n",
       "</div>"
      ],
      "text/plain": [
       "                                               tweet  \\\n",
       "0  .@wesley83 i have a 3g iphone. after 3 hrs twe...   \n",
       "1  @jessedee know about @fludapp ? awesome ipad/i...   \n",
       "2  @swonderlin can not wait for #ipad 2 also. the...   \n",
       "3  @sxsw i hope this year's festival isn't as cra...   \n",
       "4  @sxtxstate great stuff on fri #sxsw: marissa m...   \n",
       "\n",
       "                                      cleaned_tweets  \n",
       "0  3g iphone 3 hrs tweeting rise_austin dead need...  \n",
       "1  know awesome ipadiphone app youll likely appre...  \n",
       "2                         wait ipad 2 also sale sxsw  \n",
       "3  hope years festival isnt crashy years iphone a...  \n",
       "4  great stuff fri sxsw marissa mayer google tim ...  "
      ]
     },
     "metadata": {},
     "output_type": "display_data"
    }
   ],
   "source": [
    "# Download necessary NLTK data\n",
    "nltk.download('punkt')\n",
    "nltk.download('stopwords')\n",
    "nltk.download('punkt_tab')\n",
    "\n",
    "\n",
    "stop_words = set(stopwords.words('english'))\n",
    "\n",
    "def clean_tweet_text(text):\n",
    "    # Ensure the input is a string\n",
    "    if not isinstance(text, str):\n",
    "        return \"\" # Return an empty string for non-string inputs\n",
    "\n",
    "    # Remove mentions (@...) and links (http://...)\n",
    "    text = re.sub(r'@\\w+|http\\S+', '', text)\n",
    "\n",
    "    # Remove punctuation\n",
    "    text = re.sub(r'[^\\w\\s]', '', text)\n",
    "\n",
    "    # Tokenize the text\n",
    "    tokens = word_tokenize(text)\n",
    "    \n",
    "    # Remove stop words\n",
    "    tokens = [word for word in tokens if word not in stop_words]\n",
    "    return ' '.join(tokens)\n",
    "\n",
    "# Apply the cleaning function to the tweet_text column\n",
    "text_cleaned['cleaned_tweets'] = text_cleaned['tweet'].apply(clean_tweet_text)\n",
    "\n",
    "# Display the original and cleaned text for comparison\n",
    "display(text_cleaned[['tweet', 'cleaned_tweets']].head())"
   ]
  },
  {
   "cell_type": "code",
   "execution_count": null,
   "id": "e35f70d1",
   "metadata": {},
   "outputs": [
    {
     "name": "stdout",
     "output_type": "stream",
     "text": [
      "<class 'pandas.core.frame.DataFrame'>\n",
      "Index: 9092 entries, 0 to 9092\n",
      "Data columns (total 4 columns):\n",
      " #   Column          Non-Null Count  Dtype \n",
      "---  ------          --------------  ----- \n",
      " 0   tweet           9092 non-null   object\n",
      " 1   emotion         9092 non-null   object\n",
      " 2   product_filled  9092 non-null   object\n",
      " 3   cleaned_tweets  9092 non-null   object\n",
      "dtypes: object(4)\n",
      "memory usage: 355.2+ KB\n"
     ]
    }
   ],
   "source": [
    "# Preview the cleaned data's summary\n",
    "text_cleaned.info()"
   ]
  },
  {
   "cell_type": "code",
   "execution_count": null,
   "id": "a516ad0a",
   "metadata": {},
   "outputs": [
    {
     "data": {
      "application/vnd.microsoft.datawrangler.viewer.v0+json": {
       "columns": [
        {
         "name": "index",
         "rawType": "int64",
         "type": "integer"
        },
        {
         "name": "tweet",
         "rawType": "object",
         "type": "string"
        },
        {
         "name": "emotion",
         "rawType": "object",
         "type": "string"
        },
        {
         "name": "product_filled",
         "rawType": "object",
         "type": "string"
        },
        {
         "name": "cleaned_tweets",
         "rawType": "object",
         "type": "string"
        }
       ],
       "ref": "13fd69c9-f5cd-4528-9810-d95bb5cc751f",
       "rows": [
        [
         "0",
         ".@wesley83 i have a 3g iphone. after 3 hrs tweeting at #rise_austin, it was dead! i need to upgrade. plugin stations at #sxsw.",
         "negative",
         "iphone",
         "3g iphone 3 hrs tweeting rise_austin dead need upgrade plugin stations sxsw"
        ],
        [
         "1",
         "@jessedee know about @fludapp ? awesome ipad/iphone app that you'll likely appreciate for its design. also, they're giving free ts at #sxsw",
         "positive",
         "ipad or iphone app",
         "know awesome ipadiphone app youll likely appreciate design also theyre giving free ts sxsw"
        ],
        [
         "2",
         "@swonderlin can not wait for #ipad 2 also. they should sale them down at #sxsw.",
         "positive",
         "ipad",
         "wait ipad 2 also sale sxsw"
        ],
        [
         "3",
         "@sxsw i hope this year's festival isn't as crashy as this year's iphone app. #sxsw",
         "negative",
         "ipad or iphone app",
         "hope years festival isnt crashy years iphone app sxsw"
        ],
        [
         "4",
         "@sxtxstate great stuff on fri #sxsw: marissa mayer (google), tim o'reilly (tech books/conferences) &amp; matt mullenweg (wordpress)",
         "positive",
         "google",
         "great stuff fri sxsw marissa mayer google tim oreilly tech booksconferences amp matt mullenweg wordpress"
        ]
       ],
       "shape": {
        "columns": 4,
        "rows": 5
       }
      },
      "text/html": [
       "<div>\n",
       "<style scoped>\n",
       "    .dataframe tbody tr th:only-of-type {\n",
       "        vertical-align: middle;\n",
       "    }\n",
       "\n",
       "    .dataframe tbody tr th {\n",
       "        vertical-align: top;\n",
       "    }\n",
       "\n",
       "    .dataframe thead th {\n",
       "        text-align: right;\n",
       "    }\n",
       "</style>\n",
       "<table border=\"1\" class=\"dataframe\">\n",
       "  <thead>\n",
       "    <tr style=\"text-align: right;\">\n",
       "      <th></th>\n",
       "      <th>tweet</th>\n",
       "      <th>emotion</th>\n",
       "      <th>product_filled</th>\n",
       "      <th>cleaned_tweets</th>\n",
       "    </tr>\n",
       "  </thead>\n",
       "  <tbody>\n",
       "    <tr>\n",
       "      <th>0</th>\n",
       "      <td>.@wesley83 i have a 3g iphone. after 3 hrs twe...</td>\n",
       "      <td>negative</td>\n",
       "      <td>iphone</td>\n",
       "      <td>3g iphone 3 hrs tweeting rise_austin dead need...</td>\n",
       "    </tr>\n",
       "    <tr>\n",
       "      <th>1</th>\n",
       "      <td>@jessedee know about @fludapp ? awesome ipad/i...</td>\n",
       "      <td>positive</td>\n",
       "      <td>ipad or iphone app</td>\n",
       "      <td>know awesome ipadiphone app youll likely appre...</td>\n",
       "    </tr>\n",
       "    <tr>\n",
       "      <th>2</th>\n",
       "      <td>@swonderlin can not wait for #ipad 2 also. the...</td>\n",
       "      <td>positive</td>\n",
       "      <td>ipad</td>\n",
       "      <td>wait ipad 2 also sale sxsw</td>\n",
       "    </tr>\n",
       "    <tr>\n",
       "      <th>3</th>\n",
       "      <td>@sxsw i hope this year's festival isn't as cra...</td>\n",
       "      <td>negative</td>\n",
       "      <td>ipad or iphone app</td>\n",
       "      <td>hope years festival isnt crashy years iphone a...</td>\n",
       "    </tr>\n",
       "    <tr>\n",
       "      <th>4</th>\n",
       "      <td>@sxtxstate great stuff on fri #sxsw: marissa m...</td>\n",
       "      <td>positive</td>\n",
       "      <td>google</td>\n",
       "      <td>great stuff fri sxsw marissa mayer google tim ...</td>\n",
       "    </tr>\n",
       "  </tbody>\n",
       "</table>\n",
       "</div>"
      ],
      "text/plain": [
       "                                               tweet   emotion  \\\n",
       "0  .@wesley83 i have a 3g iphone. after 3 hrs twe...  negative   \n",
       "1  @jessedee know about @fludapp ? awesome ipad/i...  positive   \n",
       "2  @swonderlin can not wait for #ipad 2 also. the...  positive   \n",
       "3  @sxsw i hope this year's festival isn't as cra...  negative   \n",
       "4  @sxtxstate great stuff on fri #sxsw: marissa m...  positive   \n",
       "\n",
       "       product_filled                                     cleaned_tweets  \n",
       "0              iphone  3g iphone 3 hrs tweeting rise_austin dead need...  \n",
       "1  ipad or iphone app  know awesome ipadiphone app youll likely appre...  \n",
       "2                ipad                         wait ipad 2 also sale sxsw  \n",
       "3  ipad or iphone app  hope years festival isnt crashy years iphone a...  \n",
       "4              google  great stuff fri sxsw marissa mayer google tim ...  "
      ]
     },
     "execution_count": 28,
     "metadata": {},
     "output_type": "execute_result"
    }
   ],
   "source": [
    "# preview the first 5 rows\n",
    "text_cleaned.head()"
   ]
  },
  {
   "cell_type": "code",
   "execution_count": null,
   "id": "11fc8621",
   "metadata": {},
   "outputs": [],
   "source": [
    "# Saving the cleaned dataset in a new file\n",
    "text_cleaned.to_csv('../../assets/Cleaned_Tweets.csv', index= False)"
   ]
  },
  {
   "cell_type": "markdown",
   "id": "4e6cb880",
   "metadata": {},
   "source": [
    "## **Exploratory Data Analysis**"
   ]
  },
  {
   "cell_type": "code",
   "execution_count": null,
   "id": "b0f5b619",
   "metadata": {},
   "outputs": [
    {
     "name": "stderr",
     "output_type": "stream",
     "text": [
      "C:\\Users\\Johny\\AppData\\Local\\Temp\\ipykernel_12708\\1569334025.py:2: FutureWarning: \n",
      "\n",
      "Passing `palette` without assigning `hue` is deprecated and will be removed in v0.14.0. Assign the `x` variable to `hue` and set `legend=False` for the same effect.\n",
      "\n",
      "  sns.countplot(x='emotion', data= text_cleaned, palette='Set2')\n"
     ]
    },
    {
     "data": {
      "image/png": "[encoded data removed]",
      "text/plain": [
       "<Figure size 640x480 with 1 Axes>"
      ]
     },
     "metadata": {},
     "output_type": "display_data"
    },
    {
     "name": "stdout",
     "output_type": "stream",
     "text": [
      "emotion\n",
      "neutral     5388\n",
      "positive    2978\n",
      "negative     570\n",
      "mixed        156\n",
      "Name: count, dtype: int64\n"
     ]
    }
   ],
   "source": [
    "\n",
    "\n",
    "\n",
    "# Count distribution\n",
    "sns.countplot(x='emotion', data= text_cleaned, palette='Set2')\n",
    "plt.title(\"Class Distribution (Positive vs Negative)\")\n",
    "plt.show()\n",
    "\n",
    "# Print raw counts\n",
    "print(text_cleaned['emotion'].value_counts())"
   ]
  },
  {
   "cell_type": "code",
   "execution_count": null,
   "id": "69d9b67b",
   "metadata": {},
   "outputs": [
    {
     "name": "stderr",
     "output_type": "stream",
     "text": [
      "C:\\Users\\Johny\\AppData\\Local\\Temp\\ipykernel_12708\\102049712.py:19: FutureWarning: \n",
      "\n",
      "Passing `palette` without assigning `hue` is deprecated and will be removed in v0.14.0. Assign the `y` variable to `hue` and set `legend=False` for the same effect.\n",
      "\n",
      "  sns.barplot(x=list(counts), y=list(words), palette=\"Greens_r\", ax= ax1)\n",
      "C:\\Users\\Johny\\AppData\\Local\\Temp\\ipykernel_12708\\102049712.py:23: FutureWarning: \n",
      "\n",
      "Passing `palette` without assigning `hue` is deprecated and will be removed in v0.14.0. Assign the `y` variable to `hue` and set `legend=False` for the same effect.\n",
      "\n",
      "  sns.barplot(x=list(counts), y=list(words), palette=\"Greens_r\", ax= ax2)\n"
     ]
    },
    {
     "data": {
      "image/png": "[encoded data removed]",
      "text/plain": [
       "<Figure size 2000x1500 with 2 Axes>"
      ]
     },
     "metadata": {},
     "output_type": "display_data"
    }
   ],
   "source": [
    "def get_top_words(texts, n=20):\n",
    "    texts = [t for t in texts if isinstance(t, str) and t.strip() != \"\"]  # filter empty\n",
    "    if len(texts) == 0:\n",
    "        return []  # nothing to process\n",
    "\n",
    "    vec = CountVectorizer(stop_words='english').fit(texts)\n",
    "    bag_of_words = vec.transform(texts)\n",
    "    sum_words = bag_of_words.sum(axis=0)\n",
    "    words_freq = [(word, sum_words[0, idx]) for word, idx in vec.vocabulary_.items()]\n",
    "    return sorted(words_freq, key=lambda x: x[1], reverse=True)[:n]\n",
    "\n",
    "top_pos = get_top_words(text_cleaned[text_cleaned['emotion']==\"positive\"]['cleaned_tweets'])\n",
    "top_neg = get_top_words(text_cleaned[text_cleaned['emotion']==\"negative\"]['cleaned_tweets'])\n",
    "\n",
    "# Plotting example for positive\n",
    "fig, (ax1, ax2) = plt.subplots(figsize= (20, 15), nrows= 2)\n",
    "\n",
    "words, counts = zip(*top_pos)\n",
    "sns.barplot(x=list(counts), y=list(words), palette=\"Greens_r\", ax= ax1)\n",
    "plt.title(\"Top Words in Positive Reviews\")\n",
    "\n",
    "words, counts = zip(*top_neg)\n",
    "sns.barplot(x=list(counts), y=list(words), palette=\"Greens_r\", ax= ax2)\n",
    "plt.title(\"Top Words in Negative Reviews\")\n",
    "plt.show()\n"
   ]
  },
  {
   "cell_type": "code",
   "execution_count": null,
   "id": "e7600ce2",
   "metadata": {},
   "outputs": [
    {
     "data": {
      "image/png": "[encoded data removed]",
      "text/plain": [
       "<Figure size 640x480 with 1 Axes>"
      ]
     },
     "metadata": {},
     "output_type": "display_data"
    },
    {
     "data": {
      "image/png": "[encoded data removed]",
      "text/plain": [
       "<Figure size 640x480 with 1 Axes>"
      ]
     },
     "metadata": {},
     "output_type": "display_data"
    }
   ],
   "source": [
    "text_cleaned['text_length'] = text_cleaned['cleaned_tweets'].apply(lambda x: len(x.split()))\n",
    "\n",
    "sns.histplot(text_cleaned['text_length'], bins=50, kde=True)\n",
    "plt.title(\"Sentence Length Distribution\")\n",
    "plt.xlabel(\"Number of Words\")\n",
    "plt.ylabel(\"Frequency\")\n",
    "plt.show()\n",
    "\n",
    "# Compare by class\n",
    "sns.boxplot(x='emotion', y='text_length', data=text_cleaned)\n",
    "plt.title(\"Sentence Length per Class\")\n",
    "plt.show()\n"
   ]
  },
  {
   "cell_type": "code",
   "execution_count": null,
   "id": "5870ad45",
   "metadata": {},
   "outputs": [
    {
     "name": "stdout",
     "output_type": "stream",
     "text": [
      "Top 20 Most Frequent Words (Raw Tweets):\n",
      "[('#sxsw', 7830), ('@mention', 6703), ('the', 4357), ('{link}', 4255), ('to', 3561), ('at', 3054), ('rt', 2897), ('for', 2537), ('a', 2253), ('in', 1875), ('ipad', 1871), ('google', 1861), ('of', 1709), ('is', 1682), ('apple', 1634), ('and', 1588), ('on', 1303), ('store', 1225), ('new', 1082), ('i', 1050)]\n"
     ]
    }
   ],
   "source": [
    "# Most common words (including hashtags, mentions, etc.)... BEFORE preprocessing\n",
    "all_words = ' '.join(text_cleaned['tweet']).split()\n",
    "common_words = Counter(all_words).most_common(20)\n",
    "print(\"Top 20 Most Frequent Words (Raw Tweets):\")\n",
    "print(common_words)"
   ]
  },
  {
   "cell_type": "code",
   "execution_count": null,
   "id": "29d759ea",
   "metadata": {},
   "outputs": [
    {
     "data": {
      "image/png": "[encoded data removed]",
      "text/plain": [
       "<Figure size 1200x600 with 1 Axes>"
      ]
     },
     "metadata": {},
     "output_type": "display_data"
    }
   ],
   "source": [
    "# Separate words and counts for plotting\n",
    "Common_words = [word for word, count in common_words]\n",
    "counts = [count for word, count in common_words]\n",
    "\n",
    "# Plot\n",
    "plt.figure(figsize=(12,6))\n",
    "plt.bar(Common_words, counts)\n",
    "plt.xticks(rotation=45)\n",
    "plt.title(\"Top 20 Most Common Words (Before Preprocessing)\")\n",
    "plt.xlabel(\"Words\")\n",
    "plt.ylabel(\"Frequency\")\n",
    "plt.show()"
   ]
  },
  {
   "cell_type": "code",
   "execution_count": null,
   "id": "210033af",
   "metadata": {},
   "outputs": [],
   "source": [
    "# Most common words AFTER preprocessing\n",
    "words = ' '.join(text_cleaned['cleaned_tweets']).split()\n",
    "word_counts = Counter(words).most_common(20)"
   ]
  },
  {
   "cell_type": "code",
   "execution_count": null,
   "id": "d79f2309",
   "metadata": {},
   "outputs": [
    {
     "data": {
      "image/png": "[encoded data removed]",
      "text/plain": [
       "<Figure size 1200x600 with 1 Axes>"
      ]
     },
     "metadata": {},
     "output_type": "display_data"
    }
   ],
   "source": [
    "# Separate words and counts for plotting\n",
    "common_words = [word for word, count in word_counts]\n",
    "counts = [count for word, count in word_counts]\n",
    "\n",
    "# Plot\n",
    "plt.figure(figsize=(12,6))\n",
    "plt.bar(common_words, counts)\n",
    "plt.xticks(rotation=45)\n",
    "plt.title(\"Top 20 Most Common Words (After Preprocessing)\")\n",
    "plt.xlabel(\"Words\")\n",
    "plt.ylabel(\"Frequency\")\n",
    "plt.show()"
   ]
  },
  {
   "cell_type": "markdown",
   "id": "ef6d0a1e",
   "metadata": {},
   "source": [
    "# **Binary Classification**\n",
    "In this notebook, we are performing binary classifications on the tweets, focusing on the `negative` and `positive` records. This step is important to our project as it will help us work with the specified classes marking a milestone before we engage other classes.\n",
    "\n",
    "The activities in the notebook will include;\n",
    "- Importing relevant packages and loading the dataset\n",
    "\n",
    "- Choosing relevant columns and splitting them into train, test and validation sets.\n",
    "\n",
    "- Feature engineering.\n",
    "\n",
    "- Training binary classification models.\n",
    "\n",
    "## **Initial preparation**\n",
    "In this step, we are importing the relevant packages and basically preparaing our data before we begin training our models.\n",
    "\n",
    "### *Import Relevant Libraries*"
   ]
  },
  {
   "cell_type": "code",
   "execution_count": null,
   "id": "90c3b2c5",
   "metadata": {},
   "outputs": [
    {
     "data": {
      "application/vnd.microsoft.datawrangler.viewer.v0+json": {
       "columns": [
        {
         "name": "index",
         "rawType": "int64",
         "type": "integer"
        },
        {
         "name": "tweet",
         "rawType": "object",
         "type": "string"
        },
        {
         "name": "emotion",
         "rawType": "object",
         "type": "string"
        },
        {
         "name": "product_filled",
         "rawType": "object",
         "type": "string"
        },
        {
         "name": "cleaned_tweets",
         "rawType": "object",
         "type": "string"
        }
       ],
       "ref": "311fe58e-096a-4b8c-be2e-7a88633ad60f",
       "rows": [
        [
         "0",
         ".@wesley83 i have a 3g iphone. after 3 hrs tweeting at #rise_austin, it was dead! i need to upgrade. plugin stations at #sxsw.",
         "negative",
         "iphone",
         "3g iphone 3 hrs tweeting rise_austin dead need upgrade plugin stations sxsw"
        ],
        [
         "1",
         "@jessedee know about @fludapp ? awesome ipad/iphone app that you'll likely appreciate for its design. also, they're giving free ts at #sxsw",
         "positive",
         "ipad or iphone app",
         "know awesome ipadiphone app youll likely appreciate design also theyre giving free ts sxsw"
        ],
        [
         "2",
         "@swonderlin can not wait for #ipad 2 also. they should sale them down at #sxsw.",
         "positive",
         "ipad",
         "wait ipad 2 also sale sxsw"
        ],
        [
         "3",
         "@sxsw i hope this year's festival isn't as crashy as this year's iphone app. #sxsw",
         "negative",
         "ipad or iphone app",
         "hope years festival isnt crashy years iphone app sxsw"
        ],
        [
         "4",
         "@sxtxstate great stuff on fri #sxsw: marissa mayer (google), tim o'reilly (tech books/conferences) &amp; matt mullenweg (wordpress)",
         "positive",
         "google",
         "great stuff fri sxsw marissa mayer google tim oreilly tech booksconferences amp matt mullenweg wordpress"
        ]
       ],
       "shape": {
        "columns": 4,
        "rows": 5
       }
      },
      "text/html": [
       "<div>\n",
       "<style scoped>\n",
       "    .dataframe tbody tr th:only-of-type {\n",
       "        vertical-align: middle;\n",
       "    }\n",
       "\n",
       "    .dataframe tbody tr th {\n",
       "        vertical-align: top;\n",
       "    }\n",
       "\n",
       "    .dataframe thead th {\n",
       "        text-align: right;\n",
       "    }\n",
       "</style>\n",
       "<table border=\"1\" class=\"dataframe\">\n",
       "  <thead>\n",
       "    <tr style=\"text-align: right;\">\n",
       "      <th></th>\n",
       "      <th>tweet</th>\n",
       "      <th>emotion</th>\n",
       "      <th>product_filled</th>\n",
       "      <th>cleaned_tweets</th>\n",
       "    </tr>\n",
       "  </thead>\n",
       "  <tbody>\n",
       "    <tr>\n",
       "      <th>0</th>\n",
       "      <td>.@wesley83 i have a 3g iphone. after 3 hrs twe...</td>\n",
       "      <td>negative</td>\n",
       "      <td>iphone</td>\n",
       "      <td>3g iphone 3 hrs tweeting rise_austin dead need...</td>\n",
       "    </tr>\n",
       "    <tr>\n",
       "      <th>1</th>\n",
       "      <td>@jessedee know about @fludapp ? awesome ipad/i...</td>\n",
       "      <td>positive</td>\n",
       "      <td>ipad or iphone app</td>\n",
       "      <td>know awesome ipadiphone app youll likely appre...</td>\n",
       "    </tr>\n",
       "    <tr>\n",
       "      <th>2</th>\n",
       "      <td>@swonderlin can not wait for #ipad 2 also. the...</td>\n",
       "      <td>positive</td>\n",
       "      <td>ipad</td>\n",
       "      <td>wait ipad 2 also sale sxsw</td>\n",
       "    </tr>\n",
       "    <tr>\n",
       "      <th>3</th>\n",
       "      <td>@sxsw i hope this year's festival isn't as cra...</td>\n",
       "      <td>negative</td>\n",
       "      <td>ipad or iphone app</td>\n",
       "      <td>hope years festival isnt crashy years iphone a...</td>\n",
       "    </tr>\n",
       "    <tr>\n",
       "      <th>4</th>\n",
       "      <td>@sxtxstate great stuff on fri #sxsw: marissa m...</td>\n",
       "      <td>positive</td>\n",
       "      <td>google</td>\n",
       "      <td>great stuff fri sxsw marissa mayer google tim ...</td>\n",
       "    </tr>\n",
       "  </tbody>\n",
       "</table>\n",
       "</div>"
      ],
      "text/plain": [
       "                                               tweet   emotion  \\\n",
       "0  .@wesley83 i have a 3g iphone. after 3 hrs twe...  negative   \n",
       "1  @jessedee know about @fludapp ? awesome ipad/i...  positive   \n",
       "2  @swonderlin can not wait for #ipad 2 also. the...  positive   \n",
       "3  @sxsw i hope this year's festival isn't as cra...  negative   \n",
       "4  @sxtxstate great stuff on fri #sxsw: marissa m...  positive   \n",
       "\n",
       "       product_filled                                     cleaned_tweets  \n",
       "0              iphone  3g iphone 3 hrs tweeting rise_austin dead need...  \n",
       "1  ipad or iphone app  know awesome ipadiphone app youll likely appre...  \n",
       "2                ipad                         wait ipad 2 also sale sxsw  \n",
       "3  ipad or iphone app  hope years festival isnt crashy years iphone a...  \n",
       "4              google  great stuff fri sxsw marissa mayer google tim ...  "
      ]
     },
     "execution_count": 38,
     "metadata": {},
     "output_type": "execute_result"
    }
   ],
   "source": [
    "# Load dataset\n",
    "text_cleaned = pd.read_csv(\"../../assets/Cleaned_Tweets.csv\")\n",
    "\n",
    "# Preview the first 5 rows\n",
    "text_cleaned.head()                   "
   ]
  },
  {
   "cell_type": "code",
   "execution_count": null,
   "id": "06333fca",
   "metadata": {},
   "outputs": [
    {
     "data": {
      "application/vnd.microsoft.datawrangler.viewer.v0+json": {
       "columns": [
        {
         "name": "index",
         "rawType": "int64",
         "type": "integer"
        },
        {
         "name": "tweet",
         "rawType": "object",
         "type": "string"
        },
        {
         "name": "emotion",
         "rawType": "object",
         "type": "string"
        },
        {
         "name": "product_filled",
         "rawType": "object",
         "type": "string"
        },
        {
         "name": "cleaned_tweets",
         "rawType": "object",
         "type": "string"
        }
       ],
       "ref": "19786832-7fde-48f8-b811-80b3539643cd",
       "rows": [
        [
         "0",
         ".@wesley83 i have a 3g iphone. after 3 hrs tweeting at #rise_austin, it was dead! i need to upgrade. plugin stations at #sxsw.",
         "negative",
         "iphone",
         "3g iphone 3 hrs tweeting rise_austin dead need upgrade plugin stations sxsw"
        ],
        [
         "1",
         "@jessedee know about @fludapp ? awesome ipad/iphone app that you'll likely appreciate for its design. also, they're giving free ts at #sxsw",
         "positive",
         "ipad or iphone app",
         "know awesome ipadiphone app youll likely appreciate design also theyre giving free ts sxsw"
        ],
        [
         "2",
         "@swonderlin can not wait for #ipad 2 also. they should sale them down at #sxsw.",
         "positive",
         "ipad",
         "wait ipad 2 also sale sxsw"
        ],
        [
         "3",
         "@sxsw i hope this year's festival isn't as crashy as this year's iphone app. #sxsw",
         "negative",
         "ipad or iphone app",
         "hope years festival isnt crashy years iphone app sxsw"
        ],
        [
         "4",
         "@sxtxstate great stuff on fri #sxsw: marissa mayer (google), tim o'reilly (tech books/conferences) &amp; matt mullenweg (wordpress)",
         "positive",
         "google",
         "great stuff fri sxsw marissa mayer google tim oreilly tech booksconferences amp matt mullenweg wordpress"
        ]
       ],
       "shape": {
        "columns": 4,
        "rows": 5
       }
      },
      "text/html": [
       "<div>\n",
       "<style scoped>\n",
       "    .dataframe tbody tr th:only-of-type {\n",
       "        vertical-align: middle;\n",
       "    }\n",
       "\n",
       "    .dataframe tbody tr th {\n",
       "        vertical-align: top;\n",
       "    }\n",
       "\n",
       "    .dataframe thead th {\n",
       "        text-align: right;\n",
       "    }\n",
       "</style>\n",
       "<table border=\"1\" class=\"dataframe\">\n",
       "  <thead>\n",
       "    <tr style=\"text-align: right;\">\n",
       "      <th></th>\n",
       "      <th>tweet</th>\n",
       "      <th>emotion</th>\n",
       "      <th>product_filled</th>\n",
       "      <th>cleaned_tweets</th>\n",
       "    </tr>\n",
       "  </thead>\n",
       "  <tbody>\n",
       "    <tr>\n",
       "      <th>0</th>\n",
       "      <td>.@wesley83 i have a 3g iphone. after 3 hrs twe...</td>\n",
       "      <td>negative</td>\n",
       "      <td>iphone</td>\n",
       "      <td>3g iphone 3 hrs tweeting rise_austin dead need...</td>\n",
       "    </tr>\n",
       "    <tr>\n",
       "      <th>1</th>\n",
       "      <td>@jessedee know about @fludapp ? awesome ipad/i...</td>\n",
       "      <td>positive</td>\n",
       "      <td>ipad or iphone app</td>\n",
       "      <td>know awesome ipadiphone app youll likely appre...</td>\n",
       "    </tr>\n",
       "    <tr>\n",
       "      <th>2</th>\n",
       "      <td>@swonderlin can not wait for #ipad 2 also. the...</td>\n",
       "      <td>positive</td>\n",
       "      <td>ipad</td>\n",
       "      <td>wait ipad 2 also sale sxsw</td>\n",
       "    </tr>\n",
       "    <tr>\n",
       "      <th>3</th>\n",
       "      <td>@sxsw i hope this year's festival isn't as cra...</td>\n",
       "      <td>negative</td>\n",
       "      <td>ipad or iphone app</td>\n",
       "      <td>hope years festival isnt crashy years iphone a...</td>\n",
       "    </tr>\n",
       "    <tr>\n",
       "      <th>4</th>\n",
       "      <td>@sxtxstate great stuff on fri #sxsw: marissa m...</td>\n",
       "      <td>positive</td>\n",
       "      <td>google</td>\n",
       "      <td>great stuff fri sxsw marissa mayer google tim ...</td>\n",
       "    </tr>\n",
       "  </tbody>\n",
       "</table>\n",
       "</div>"
      ],
      "text/plain": [
       "                                               tweet   emotion  \\\n",
       "0  .@wesley83 i have a 3g iphone. after 3 hrs twe...  negative   \n",
       "1  @jessedee know about @fludapp ? awesome ipad/i...  positive   \n",
       "2  @swonderlin can not wait for #ipad 2 also. the...  positive   \n",
       "3  @sxsw i hope this year's festival isn't as cra...  negative   \n",
       "4  @sxtxstate great stuff on fri #sxsw: marissa m...  positive   \n",
       "\n",
       "       product_filled                                     cleaned_tweets  \n",
       "0              iphone  3g iphone 3 hrs tweeting rise_austin dead need...  \n",
       "1  ipad or iphone app  know awesome ipadiphone app youll likely appre...  \n",
       "2                ipad                         wait ipad 2 also sale sxsw  \n",
       "3  ipad or iphone app  hope years festival isnt crashy years iphone a...  \n",
       "4              google  great stuff fri sxsw marissa mayer google tim ...  "
      ]
     },
     "execution_count": 39,
     "metadata": {},
     "output_type": "execute_result"
    }
   ],
   "source": [
    "# Filter the dataset to remain with negative and positive emotion\n",
    "binary_df = text_cleaned[text_cleaned[\"emotion\"].isin(['positive', 'negative'])]\n",
    "\n",
    "# Preview filtered data\n",
    "binary_df.head()"
   ]
  },
  {
   "cell_type": "markdown",
   "id": "143d8463",
   "metadata": {},
   "source": [
    "### *Preprocessing*\n",
    "After successfully separating the data to remain with only binary classes, we are now preparing our data for modeling by;\n",
    "- Selecting columns for the predictor and target variables.\n",
    "\n",
    "- Converting our target variable to binary (0, 1)\n",
    "\n",
    "- Splitting the data into test and train sets.\n",
    "\n",
    "Here we are using the `cleaned_tweets` column as our predictor and the `emotion` column as our target variable."
   ]
  },
  {
   "cell_type": "code",
   "execution_count": null,
   "id": "77c5ce7a",
   "metadata": {},
   "outputs": [],
   "source": [
    "# Put predictor and target columns in their respective variables.\n",
    "X_binary = binary_df[\"cleaned_tweets\"]\n",
    "y_binary = binary_df[\"emotion\"]\n",
    "\n",
    "# Covert the y_binary column to binary.\n",
    "y_binary = y_binary.map({'negative': 0, 'positive': 1})\n",
    "\n",
    "# Split the data into train and test sets.\n",
    "Xb_train, Xb_test, yb_train, yb_test = train_test_split(X_binary, y_binary, test_size=0.2, random_state=42, stratify=y_binary)"
   ]
  },
  {
   "cell_type": "markdown",
   "id": "eb6eb8f9",
   "metadata": {},
   "source": [
    "In previous projects, we've had issues in the evaluation step due to validating our models using the train set. Here we are splitting our training set further to have;\n",
    "- **temp set**- This is the dataset that we are using to train the models.\n",
    "\n",
    "- **val set**- This is the dataset that we are using to evaluate how our model generalizes to new data.\n",
    "\n",
    "This is important because it helps us train our models better and also ensures we only use our hold out dataset after choosing our final model."
   ]
  },
  {
   "cell_type": "code",
   "execution_count": null,
   "id": "741ce713",
   "metadata": {},
   "outputs": [],
   "source": [
    "# Splitting the train set into temp and validation sets.\n",
    "Xb_temp, Xb_val, yb_temp, yb_val= train_test_split(Xb_train, yb_train, test_size=0.2, random_state=42, stratify=yb_train)"
   ]
  },
  {
   "cell_type": "markdown",
   "id": "375c349f",
   "metadata": {},
   "source": [
    "We have successfully prepared our data for modeling.\n",
    "\n",
    "## **Model training**\n",
    "In this section, we are training our models to correctly classify whether a tweet is negative or positive.\n",
    "\n",
    "This will include models such as;\n",
    "- Logistic Regression\n",
    "\n",
    "- SVM\n",
    "\n",
    "- Random Forest\n",
    "\n",
    "- XGBoost\n",
    "\n",
    "- Gradient Descent\n",
    "\n",
    "### *Baseline Model*\n",
    "Here we are using TF-IDF to vectorize our data, and logistic regression to classify it."
   ]
  },
  {
   "cell_type": "code",
   "execution_count": null,
   "id": "4599a4d8",
   "metadata": {},
   "outputs": [
    {
     "name": "stdout",
     "output_type": "stream",
     "text": [
      "Classification Report:\n",
      "               precision    recall  f1-score   support\n",
      "\n",
      "           0       0.86      0.07      0.12        91\n",
      "           1       0.85      1.00      0.92       477\n",
      "\n",
      "    accuracy                           0.85       568\n",
      "   macro avg       0.85      0.53      0.52       568\n",
      "weighted avg       0.85      0.85      0.79       568\n",
      "\n",
      "Confusion Matrix:\n",
      " [[  6  85]\n",
      " [  1 476]]\n"
     ]
    }
   ],
   "source": [
    "# Define pipeline\n",
    "sentiment_pipeline = Pipeline([\n",
    "    (\"tfidf\", TfidfVectorizer(max_features=5000, ngram_range=(1,2))),\n",
    "    (\"clf\", LogisticRegression(max_iter=1000))\n",
    "])\n",
    "\n",
    "# Fit pipeline\n",
    "sentiment_pipeline.fit(Xb_temp, yb_temp)\n",
    "\n",
    "# Predictions\n",
    "y_pred = sentiment_pipeline.predict(Xb_val)\n",
    "\n",
    "# Evaluation\n",
    "print(\"Classification Report:\\n\", classification_report(yb_val, y_pred))\n",
    "print(\"Confusion Matrix:\\n\", confusion_matrix(yb_val, y_pred))"
   ]
  },
  {
   "cell_type": "markdown",
   "id": "f0564f16",
   "metadata": {},
   "source": [
    "#### *SUMMARY:*\n",
    "Our overall model performance is terrible, the classification report shows very poor recall for class 0 with only 7%, meaning that the model is barely predicting any negatives correctly and it’s biased toward predicting positive, class 1, almost all the time.\n",
    "\n",
    "This is a clear indication that we have a class imbalance issue. It heavily points out that we may:\n",
    "- have a heavily skewed class distribution.\n",
    "\n",
    "Due to this, the model is learning features that mostly correlate with positives.\n",
    "\n",
    "In the next cell, we are inspecting the class distribution in our dataset."
   ]
  },
  {
   "cell_type": "code",
   "execution_count": null,
   "id": "f376669a",
   "metadata": {},
   "outputs": [
    {
     "data": {
      "image/png": "[encoded data removed]",
      "text/plain": [
       "<Figure size 640x480 with 1 Axes>"
      ]
     },
     "metadata": {},
     "output_type": "display_data"
    }
   ],
   "source": [
    "# Inspect class distribution\n",
    "plt.hist(y_binary);"
   ]
  },
  {
   "cell_type": "markdown",
   "id": "dca03754",
   "metadata": {},
   "source": [
    "### *Applying SMOTE*\n",
    "To deal with the class imbalance, we are applying SMOTE to the y_binary."
   ]
  },
  {
   "cell_type": "code",
   "execution_count": null,
   "id": "e76eb25a",
   "metadata": {},
   "outputs": [
    {
     "name": "stdout",
     "output_type": "stream",
     "text": [
      "Classification Report:\n",
      "               precision    recall  f1-score   support\n",
      "\n",
      "           0       0.53      0.53      0.53        91\n",
      "           1       0.91      0.91      0.91       477\n",
      "\n",
      "    accuracy                           0.85       568\n",
      "   macro avg       0.72      0.72      0.72       568\n",
      "weighted avg       0.85      0.85      0.85       568\n",
      "\n",
      "Confusion Matrix:\n",
      " [[ 48  43]\n",
      " [ 42 435]]\n"
     ]
    }
   ],
   "source": [
    "# Define pipeline\n",
    "smote_pipeline = ImbPipeline([\n",
    "    (\"tfidf\", TfidfVectorizer(max_features=5000, ngram_range=(1,2))),\n",
    "    (\"smote\", SMOTE(random_state=42)),\n",
    "    (\"clf\", LogisticRegression(max_iter=1000, class_weight=None))  # class_weight not needed since we use SMOTE\n",
    "])\n",
    "\n",
    "# Fit pipeline\n",
    "smote_pipeline.fit(Xb_temp, yb_temp)\n",
    "\n",
    "# Predictions\n",
    "y_pred = smote_pipeline.predict(Xb_val)\n",
    "\n",
    "# Evaluation\n",
    "print(\"Classification Report:\\n\", classification_report(yb_val, y_pred))\n",
    "print(\"Confusion Matrix:\\n\", confusion_matrix(yb_val, y_pred))"
   ]
  },
  {
   "cell_type": "markdown",
   "id": "2c9e2288",
   "metadata": {},
   "source": [
    "#### *SUMMARY:*\n",
    "This model performed better than the baseline model, this is attributable to SMOTE. SMOTE helped the model pick up more of the minority class, class 0, compared to the previous model.\n",
    "\n",
    "- Recall for class 0 went from 0.07 to 0.53, a big improvement meaning that now the model catches more positive cases.\n",
    "\n",
    "- Precision for class 0 dropped from 0.86 to 0.54, which is expected, because SMOTE increases false positives.\n",
    "\n",
    "- Class 1 stayed strong with 0.91 precision/recall, while overall accuracy stayed at 85%, but the model is now more balanced in detecting both classes.\n",
    "\n",
    "\n",
    "### *Parameter Tuning*"
   ]
  },
  {
   "cell_type": "code",
   "execution_count": null,
   "id": "4b7ca773",
   "metadata": {},
   "outputs": [
    {
     "name": "stdout",
     "output_type": "stream",
     "text": [
      "Fitting 5 folds for each of 48 candidates, totalling 240 fits\n",
      "Best Parameters: {'clf__C': 10, 'clf__penalty': 'l2', 'clf__solver': 'lbfgs', 'tfidf__max_features': 5000, 'tfidf__ngram_range': (1, 1)}\n",
      "\n",
      "Classification Report:\n",
      "               precision    recall  f1-score   support\n",
      "\n",
      "           0       0.58      0.49      0.54        91\n",
      "           1       0.91      0.93      0.92       477\n",
      "\n",
      "    accuracy                           0.86       568\n",
      "   macro avg       0.75      0.71      0.73       568\n",
      "weighted avg       0.85      0.86      0.86       568\n",
      "\n",
      "\n",
      "Confusion Matrix:\n",
      " [[ 45  46]\n",
      " [ 32 445]]\n"
     ]
    }
   ],
   "source": [
    "# Define the parameters\n",
    "param_grid = {\n",
    "    \"tfidf__max_features\": [3000, 5000, 7000],\n",
    "    \"tfidf__ngram_range\": [(1,1), (1,2)],\n",
    "    \"clf__C\": [0.01, 0.1, 1, 10],\n",
    "    \"clf__solver\": [\"liblinear\", \"lbfgs\"],\n",
    "    \"clf__penalty\": [\"l2\"]\n",
    "}\n",
    "\n",
    "# Grid search\n",
    "grid_search = GridSearchCV(\n",
    "    smote_pipeline,\n",
    "    param_grid,\n",
    "    cv=5,\n",
    "    scoring=\"f1_macro\",\n",
    "    n_jobs=-1,\n",
    "    verbose=2\n",
    ")\n",
    "\n",
    "# Fit grid search\n",
    "grid_search.fit(Xb_temp, yb_temp)\n",
    "\n",
    "# Best parameters\n",
    "print(\"Best Parameters:\", grid_search.best_params_)\n",
    "\n",
    "# Evaluate on test set\n",
    "best_model = grid_search.best_estimator_\n",
    "y_pred = best_model.predict(Xb_val)\n",
    "\n",
    "print(\"\\nClassification Report:\\n\", classification_report(yb_val, y_pred))\n",
    "print(\"\\nConfusion Matrix:\\n\", confusion_matrix(yb_val, y_pred))"
   ]
  },
  {
   "cell_type": "markdown",
   "id": "298f1533",
   "metadata": {},
   "source": [
    "#### *SUMMARY:*\n",
    "This model, compared to the previous one improved, but barely;\n",
    "- Recall for class 0 went from 0.53  0.48.\n",
    "\n",
    "- Recall for class 1 stayed strong at 0.93.\n",
    "\n",
    "However, despite the stillness and drop, the overall accuracy went up to 86%.\n",
    "\n",
    "### *Training Multiple Binary Models*\n",
    "In this section, we are training several models simultaneously."
   ]
  },
  {
   "cell_type": "code",
   "execution_count": null,
   "id": "a86fc3c3",
   "metadata": {},
   "outputs": [
    {
     "name": "stdout",
     "output_type": "stream",
     "text": [
      "\n",
      "SVM Accuracy: 0.8662\n",
      "              precision    recall  f1-score   support\n",
      "\n",
      "           0       0.60      0.49      0.54        91\n",
      "           1       0.91      0.94      0.92       477\n",
      "\n",
      "    accuracy                           0.87       568\n",
      "   macro avg       0.75      0.72      0.73       568\n",
      "weighted avg       0.86      0.87      0.86       568\n",
      "\n",
      "\n",
      "Random Forest Accuracy: 0.8908\n",
      "              precision    recall  f1-score   support\n",
      "\n",
      "           0       0.84      0.40      0.54        91\n",
      "           1       0.90      0.99      0.94       477\n",
      "\n",
      "    accuracy                           0.89       568\n",
      "   macro avg       0.87      0.69      0.74       568\n",
      "weighted avg       0.89      0.89      0.87       568\n",
      "\n"
     ]
    },
    {
     "name": "stderr",
     "output_type": "stream",
     "text": [
      "c:\\Users\\Johny\\anaconda3\\Lib\\site-packages\\xgboost\\training.py:183: UserWarning: [22:31:16] WARNING: C:\\actions-runner\\_work\\xgboost\\xgboost\\src\\learner.cc:738: \n",
      "Parameters: { \"use_label_encoder\" } are not used.\n",
      "\n",
      "  bst.update(dtrain, iteration=i, fobj=obj)\n"
     ]
    },
    {
     "name": "stdout",
     "output_type": "stream",
     "text": [
      "\n",
      "XGBoost Accuracy: 0.8574\n",
      "              precision    recall  f1-score   support\n",
      "\n",
      "           0       0.61      0.31      0.41        91\n",
      "           1       0.88      0.96      0.92       477\n",
      "\n",
      "    accuracy                           0.86       568\n",
      "   macro avg       0.74      0.63      0.66       568\n",
      "weighted avg       0.84      0.86      0.84       568\n",
      "\n",
      "\n",
      "Gradient Boosting Accuracy: 0.8380\n",
      "              precision    recall  f1-score   support\n",
      "\n",
      "           0       0.49      0.49      0.49        91\n",
      "           1       0.90      0.90      0.90       477\n",
      "\n",
      "    accuracy                           0.84       568\n",
      "   macro avg       0.70      0.70      0.70       568\n",
      "weighted avg       0.84      0.84      0.84       568\n",
      "\n",
      "\n",
      "Summary: {'SVM': 0.8661971830985915, 'Random Forest': 0.8908450704225352, 'XGBoost': 0.8573943661971831, 'Gradient Boosting': 0.8380281690140845}\n"
     ]
    }
   ],
   "source": [
    "# Define all models\n",
    "models = {\n",
    "    \"SVM\": LinearSVC(random_state=42),\n",
    "    \"Random Forest\": RandomForestClassifier(n_estimators=200, random_state=42),\n",
    "    \"XGBoost\": XGBClassifier(use_label_encoder=False, eval_metric=\"logloss\", random_state=42),\n",
    "    \"Gradient Boosting\": GradientBoostingClassifier(random_state=42)\n",
    "}\n",
    "\n",
    "results = {}\n",
    "\n",
    "# Create a pipeline\n",
    "for name, clf in models.items():\n",
    "    pipe = ImbPipeline([\n",
    "        (\"tfidf\", TfidfVectorizer(max_features=5000, ngram_range=(1,2))),\n",
    "        (\"smote\", SMOTE(random_state=42)),\n",
    "        (\"clf\", clf)\n",
    "    ])\n",
    "    \n",
    "     # Fit\n",
    "    pipe.fit(Xb_temp, yb_temp)\n",
    "    \n",
    "    # Predict\n",
    "    y_pred = pipe.predict(Xb_val)\n",
    "    \n",
    "    # Evaluate\n",
    "    acc = accuracy_score(yb_val, y_pred)\n",
    "    print(f\"\\n{name} Accuracy: {acc:.4f}\")\n",
    "    print(classification_report(yb_val, y_pred))\n",
    "    \n",
    "    results[name] = acc\n",
    "\n",
    "print(\"\\nSummary:\", results)\n",
    "    "
   ]
  },
  {
   "cell_type": "markdown",
   "id": "bb1d1110",
   "metadata": {},
   "source": [
    "#### *SUMMARY:*\n",
    "SVM\n",
    "\n",
    "Class 0: precision 0.60, recall 0.49, f1 0.54\n",
    "→ Only ~49% of negative tweets were correctly identified. When it predicts negative, it’s right 60% of the time.\n",
    "\n",
    "Class 1: precision 0.91, recall 0.94, f1 0.92\n",
    "→ Very good at detecting positives.\n",
    "\n",
    "Macro F1: 0.73 → average performance across classes.\n",
    "\n",
    "Weighted F1: 0.86 → reflects class imbalance.\n",
    "\n",
    "Random Forest\n",
    "\n",
    "Class 0: precision 0.84, recall 0.40, f1 0.54\n",
    "→ Predicts negatives less often (recall 0.40) but when it does, it’s usually correct (precision 0.84).\n",
    "\n",
    "Class 1: precision 0.90, recall 0.99, f1 0.94 → excellent detection of positives.\n",
    "\n",
    "Accuracy highest (0.89) but minority class recall is low, so many negatives are missed.\n",
    "\n",
    "XGBoost\n",
    "\n",
    "Class 0: precision 0.61, recall 0.31, f1 0.41 → struggles with negatives.\n",
    "\n",
    "Class 1: precision 0.88, recall 0.96, f1 0.92 → strong on positives.\n",
    "\n",
    "Overall weighted F1: 0.84.\n",
    "\n",
    "Gradient Boosting\n",
    "\n",
    "Class 0: precision 0.50, recall 0.49, f1 0.50 → slightly better balance for negative class.\n",
    "\n",
    "Class 1: precision 0.90, recall 0.91, f1 0.90 → good detection of positives.\n",
    "\n",
    "Weighted F1: 0.84.\n",
    "\n",
    "4️ Key Takeaways\n",
    "\n",
    "Minority class detection is poor across all models: recall for class 0 is below 0.5 for most models.\n",
    "\n",
    "Random Forest & SVM are strongest overall, but still biased towards positives.\n",
    "\n",
    "Gradient Boosting is more balanced on class 0 but has lower overall accuracy.\n",
    "\n",
    "Macro F1 is useful here — it shows balanced performance across classes"
   ]
  },
  {
   "cell_type": "code",
   "execution_count": null,
   "id": "5e72c342",
   "metadata": {},
   "outputs": [
    {
     "name": "stdout",
     "output_type": "stream",
     "text": [
      "\n",
      " Running GridSearch for SVM...\n",
      "Fitting 3 folds for each of 3 candidates, totalling 9 fits\n",
      "SVM Best Params: {'clf__C': 1}\n",
      "SVM Accuracy: 0.8662\n",
      "              precision    recall  f1-score   support\n",
      "\n",
      "           0       0.60      0.49      0.54        91\n",
      "           1       0.91      0.94      0.92       477\n",
      "\n",
      "    accuracy                           0.87       568\n",
      "   macro avg       0.75      0.72      0.73       568\n",
      "weighted avg       0.86      0.87      0.86       568\n",
      "\n",
      "\n",
      " Running GridSearch for Random Forest...\n",
      "Fitting 3 folds for each of 6 candidates, totalling 18 fits\n",
      "Random Forest Best Params: {'clf__max_depth': None, 'clf__n_estimators': 200}\n",
      "Random Forest Accuracy: 0.8908\n",
      "              precision    recall  f1-score   support\n",
      "\n",
      "           0       0.84      0.40      0.54        91\n",
      "           1       0.90      0.99      0.94       477\n",
      "\n",
      "    accuracy                           0.89       568\n",
      "   macro avg       0.87      0.69      0.74       568\n",
      "weighted avg       0.89      0.89      0.87       568\n",
      "\n",
      "\n",
      " Running GridSearch for XGBoost...\n",
      "Fitting 3 folds for each of 12 candidates, totalling 36 fits\n"
     ]
    },
    {
     "name": "stderr",
     "output_type": "stream",
     "text": [
      "c:\\Users\\Johny\\anaconda3\\Lib\\site-packages\\xgboost\\training.py:183: UserWarning: [22:32:24] WARNING: C:\\actions-runner\\_work\\xgboost\\xgboost\\src\\learner.cc:738: \n",
      "Parameters: { \"use_label_encoder\" } are not used.\n",
      "\n",
      "  bst.update(dtrain, iteration=i, fobj=obj)\n"
     ]
    },
    {
     "name": "stdout",
     "output_type": "stream",
     "text": [
      "XGBoost Best Params: {'clf__learning_rate': 0.3, 'clf__max_depth': 3, 'clf__n_estimators': 200}\n",
      "XGBoost Accuracy: 0.8574\n",
      "              precision    recall  f1-score   support\n",
      "\n",
      "           0       0.61      0.31      0.41        91\n",
      "           1       0.88      0.96      0.92       477\n",
      "\n",
      "    accuracy                           0.86       568\n",
      "   macro avg       0.74      0.63      0.66       568\n",
      "weighted avg       0.84      0.86      0.84       568\n",
      "\n",
      "\n",
      " Running GridSearch for Gradient Boosting...\n",
      "Fitting 3 folds for each of 12 candidates, totalling 36 fits\n",
      "Gradient Boosting Best Params: {'clf__learning_rate': 0.3, 'clf__max_depth': 3, 'clf__n_estimators': 200}\n",
      "Gradient Boosting Accuracy: 0.8609\n",
      "              precision    recall  f1-score   support\n",
      "\n",
      "           0       0.59      0.43      0.50        91\n",
      "           1       0.90      0.94      0.92       477\n",
      "\n",
      "    accuracy                           0.86       568\n",
      "   macro avg       0.74      0.69      0.71       568\n",
      "weighted avg       0.85      0.86      0.85       568\n",
      "\n",
      "\n",
      " Summary of Results:\n",
      "SVM: Accuracy=0.8662, Best Params={'clf__C': 1}\n",
      "Random Forest: Accuracy=0.8908, Best Params={'clf__max_depth': None, 'clf__n_estimators': 200}\n",
      "XGBoost: Accuracy=0.8574, Best Params={'clf__learning_rate': 0.3, 'clf__max_depth': 3, 'clf__n_estimators': 200}\n",
      "Gradient Boosting: Accuracy=0.8609, Best Params={'clf__learning_rate': 0.3, 'clf__max_depth': 3, 'clf__n_estimators': 200}\n"
     ]
    }
   ],
   "source": [
    "# Define models and param grids\n",
    "models_and_params = {\n",
    "    \"SVM\": (\n",
    "        LinearSVC(random_state=42),\n",
    "        {\n",
    "            \"clf__C\": [0.1, 1, 10]\n",
    "        }\n",
    "    ),\n",
    "    \"Random Forest\": (\n",
    "        RandomForestClassifier(random_state=42),\n",
    "        {\n",
    "            \"clf__n_estimators\": [100, 200],\n",
    "            \"clf__max_depth\": [None, 10, 20]\n",
    "        }\n",
    "    ),\n",
    "    \"XGBoost\": (\n",
    "        XGBClassifier(use_label_encoder=False, eval_metric=\"logloss\", random_state=42),\n",
    "        {\n",
    "            \"clf__n_estimators\": [100, 200],\n",
    "            \"clf__max_depth\": [3, 6, 10],\n",
    "            \"clf__learning_rate\": [0.1, 0.3]\n",
    "        }\n",
    "    ),\n",
    "    \"Gradient Boosting\": (\n",
    "        GradientBoostingClassifier(random_state=42),\n",
    "        {\n",
    "            \"clf__n_estimators\": [100, 200],\n",
    "            \"clf__learning_rate\": [0.05, 0.1, 0.3],\n",
    "            \"clf__max_depth\": [3, 5]\n",
    "        }\n",
    "    )\n",
    "}\n",
    "\n",
    "results = {}\n",
    "\n",
    "for name, (clf, param_grid) in models_and_params.items():\n",
    "    print(f\"\\n Running GridSearch for {name}...\")\n",
    "    \n",
    "    pipe = ImbPipeline([\n",
    "        (\"tfidf\", TfidfVectorizer(max_features=5000, ngram_range=(1,2))),\n",
    "        (\"smote\", SMOTE(random_state=42)),\n",
    "        (\"clf\", clf)\n",
    "    ])\n",
    "    \n",
    "    grid = GridSearchCV(pipe, param_grid, cv=3, scoring=\"accuracy\", n_jobs=-1, verbose=1)\n",
    "    grid.fit(Xb_temp, yb_temp)\n",
    "    \n",
    "    y_pred = grid.predict(Xb_val)\n",
    "    \n",
    "    acc = accuracy_score(yb_val, y_pred)\n",
    "    print(f\"{name} Best Params: {grid.best_params_}\")\n",
    "    print(f\"{name} Accuracy: {acc:.4f}\")\n",
    "    print(classification_report(yb_val, y_pred))\n",
    "    \n",
    "    results[name] = {\"Accuracy\": acc, \"Best Params\": grid.best_params_}\n",
    "\n",
    "print(\"\\n Summary of Results:\")\n",
    "for model, res in results.items():\n",
    "    print(f\"{model}: Accuracy={res['Accuracy']:.4f}, Best Params={res['Best Params']}\")"
   ]
  },
  {
   "cell_type": "markdown",
   "id": "bb390b5f",
   "metadata": {},
   "source": [
    "1. SVM (C=1)\n",
    "\n",
    "Accuracy: 0.87\n",
    "\n",
    "Class 0 recall = 0.49 → means it only catches about half of the negative tweets.\n",
    "\n",
    "Class 1 recall = 0.94 → almost perfect on positive tweets.\n",
    " Balanced, but minority class still weak.\n",
    "\n",
    "2. Random Forest (n_estimators=200, max_depth=None)\n",
    "\n",
    "Accuracy: 0.89 (highest overall).\n",
    "\n",
    "Class 0 recall = 0.40 (worse than SVM).\n",
    "\n",
    "Class 1 recall = 0.99 (almost perfect on majority class).\n",
    " Best accuracy, but very biased towards positives. Might not be fair if you care about detecting negatives.\n",
    "\n",
    "3. XGBoost (lr=0.3, depth=3, n_estimators=200)\n",
    "\n",
    "Accuracy: 0.86\n",
    "\n",
    "Class 0 recall = 0.31 (lowest so far).\n",
    "\n",
    "Class 1 recall = 0.96 (excellent).\n",
    " Again, struggles with negatives.\n",
    "\n",
    "4. Gradient Boosting (lr=0.3, depth=3, n_estimators=200)\n",
    "\n",
    "Accuracy: 0.86\n",
    "\n",
    "Class 0 recall = 0.43\n",
    "\n",
    "Class 1 recall = 0.94\n",
    " Similar to SVM, but slightly worse balance.\n",
    "\n",
    " Takeaway:\n",
    "\n",
    "Random Forest gives the best accuracy (0.89) but is biased (low recall on negatives).\n",
    "\n",
    "SVM and Gradient Boosting are more balanced (they at least get ~0.43–0.49 recall on negatives).\n",
    "\n",
    "XGBoost underperformed here (on the minority class).\n",
    "\n",
    "So the “best” model depends on your business goal:\n",
    "\n",
    "If you care about catching all negative tweets (to monitor complaints), SVM or Gradient Boosting are better.\n",
    "\n",
    "If you care more about overall accuracy, Random Forest wins."
   ]
  },
  {
   "cell_type": "markdown",
   "id": "e59ad6cc",
   "metadata": {},
   "source": [
    "# Model Evaluation"
   ]
  },
  {
   "cell_type": "markdown",
   "id": "0062ec94",
   "metadata": {},
   "source": [
    "- In this section we will evaluate all the 5 models to find which one is the best for binary classification\n",
    "- We will boil down to how the model is able to detect the positives and the negatives minimizing false positives and false negatives."
   ]
  },
  {
   "cell_type": "code",
   "execution_count": null,
   "id": "6c2ce664",
   "metadata": {},
   "outputs": [
    {
     "name": "stderr",
     "output_type": "stream",
     "text": [
      "c:\\Users\\Johny\\anaconda3\\Lib\\site-packages\\xgboost\\training.py:183: UserWarning: [22:33:34] WARNING: C:\\actions-runner\\_work\\xgboost\\xgboost\\src\\learner.cc:738: \n",
      "Parameters: { \"use_label_encoder\" } are not used.\n",
      "\n",
      "  bst.update(dtrain, iteration=i, fobj=obj)\n"
     ]
    },
    {
     "data": {
      "application/vnd.microsoft.datawrangler.viewer.v0+json": {
       "columns": [
        {
         "name": "index",
         "rawType": "object",
         "type": "string"
        },
        {
         "name": "Accuracy",
         "rawType": "float64",
         "type": "float"
        },
        {
         "name": "Precision",
         "rawType": "float64",
         "type": "float"
        },
        {
         "name": "Recall",
         "rawType": "float64",
         "type": "float"
        },
        {
         "name": "F1-score",
         "rawType": "float64",
         "type": "float"
        },
        {
         "name": "ROC-AUC",
         "rawType": "float64",
         "type": "float"
        }
       ],
       "ref": "7c8d85e0-1372-43bc-beee-23221dc9a020",
       "rows": [
        [
         "Logistic Regression",
         "0.846830985915493",
         "0.8469750889679716",
         "0.9979035639412998",
         "0.9162656400384985",
         "0.8484345842836409"
        ],
        [
         "Random Forest",
         "0.8820422535211268",
         "0.8796296296296297",
         "0.9958071278825996",
         "0.9341199606686332",
         "0.7852650494159927"
        ],
        [
         "Gradient Boosting",
         "0.8609154929577465",
         "0.8644688644688645",
         "0.989517819706499",
         "0.9227761485826002",
         "0.7778584099338819"
        ],
        [
         "Linear SVM",
         "0.8767605633802817",
         "0.8876190476190476",
         "0.9769392033542977",
         "0.9301397205588823",
         "0.8511991153500587"
        ],
        [
         "XGBoost",
         "0.8661971830985915",
         "0.874766355140187",
         "0.9811320754716981",
         "0.924901185770751",
         "0.7785725804593728"
        ]
       ],
       "shape": {
        "columns": 5,
        "rows": 5
       }
      },
      "text/html": [
       "<div>\n",
       "<style scoped>\n",
       "    .dataframe tbody tr th:only-of-type {\n",
       "        vertical-align: middle;\n",
       "    }\n",
       "\n",
       "    .dataframe tbody tr th {\n",
       "        vertical-align: top;\n",
       "    }\n",
       "\n",
       "    .dataframe thead th {\n",
       "        text-align: right;\n",
       "    }\n",
       "</style>\n",
       "<table border=\"1\" class=\"dataframe\">\n",
       "  <thead>\n",
       "    <tr style=\"text-align: right;\">\n",
       "      <th></th>\n",
       "      <th>Accuracy</th>\n",
       "      <th>Precision</th>\n",
       "      <th>Recall</th>\n",
       "      <th>F1-score</th>\n",
       "      <th>ROC-AUC</th>\n",
       "    </tr>\n",
       "  </thead>\n",
       "  <tbody>\n",
       "    <tr>\n",
       "      <th>Logistic Regression</th>\n",
       "      <td>0.846831</td>\n",
       "      <td>0.846975</td>\n",
       "      <td>0.997904</td>\n",
       "      <td>0.916266</td>\n",
       "      <td>0.848435</td>\n",
       "    </tr>\n",
       "    <tr>\n",
       "      <th>Random Forest</th>\n",
       "      <td>0.882042</td>\n",
       "      <td>0.879630</td>\n",
       "      <td>0.995807</td>\n",
       "      <td>0.934120</td>\n",
       "      <td>0.785265</td>\n",
       "    </tr>\n",
       "    <tr>\n",
       "      <th>Gradient Boosting</th>\n",
       "      <td>0.860915</td>\n",
       "      <td>0.864469</td>\n",
       "      <td>0.989518</td>\n",
       "      <td>0.922776</td>\n",
       "      <td>0.777858</td>\n",
       "    </tr>\n",
       "    <tr>\n",
       "      <th>Linear SVM</th>\n",
       "      <td>0.876761</td>\n",
       "      <td>0.887619</td>\n",
       "      <td>0.976939</td>\n",
       "      <td>0.930140</td>\n",
       "      <td>0.851199</td>\n",
       "    </tr>\n",
       "    <tr>\n",
       "      <th>XGBoost</th>\n",
       "      <td>0.866197</td>\n",
       "      <td>0.874766</td>\n",
       "      <td>0.981132</td>\n",
       "      <td>0.924901</td>\n",
       "      <td>0.778573</td>\n",
       "    </tr>\n",
       "  </tbody>\n",
       "</table>\n",
       "</div>"
      ],
      "text/plain": [
       "                     Accuracy  Precision    Recall  F1-score   ROC-AUC\n",
       "Logistic Regression  0.846831   0.846975  0.997904  0.916266  0.848435\n",
       "Random Forest        0.882042   0.879630  0.995807  0.934120  0.785265\n",
       "Gradient Boosting    0.860915   0.864469  0.989518  0.922776  0.777858\n",
       "Linear SVM           0.876761   0.887619  0.976939  0.930140  0.851199\n",
       "XGBoost              0.866197   0.874766  0.981132  0.924901  0.778573"
      ]
     },
     "metadata": {},
     "output_type": "display_data"
    },
    {
     "data": {
      "image/png": "[encoded data removed]",
      "text/plain": [
       "<Figure size 1500x800 with 5 Axes>"
      ]
     },
     "metadata": {},
     "output_type": "display_data"
    },
    {
     "data": {
      "image/png": "[encoded data removed]",
      "text/plain": [
       "<Figure size 800x600 with 1 Axes>"
      ]
     },
     "metadata": {},
     "output_type": "display_data"
    }
   ],
   "source": [
    "models = {\n",
    "    \"Logistic Regression\": LogisticRegression(max_iter=500, random_state=42),\n",
    "    \"Random Forest\": RandomForestClassifier(random_state=42),\n",
    "    \"Gradient Boosting\": GradientBoostingClassifier(random_state=42),\n",
    "    \"Linear SVM\": LinearSVC(random_state=42),\n",
    "    \"XGBoost\": XGBClassifier(eval_metric=\"logloss\", use_label_encoder=False, random_state=42)\n",
    "}\n",
    "\n",
    "# --------------------------\n",
    "# We will store the results here\n",
    "# --------------------------\n",
    "results = {}\n",
    "conf_matrices = {}\n",
    "roc_data = {}\n",
    "\n",
    "# --------------------------\n",
    "# Single evaluation loop with the validation set\n",
    "# --------------------------\n",
    "for name, model in models.items():\n",
    "    pipe = Pipeline([\n",
    "        (\"tfidf\", TfidfVectorizer()),\n",
    "        (\"clf\", model)\n",
    "    ])\n",
    "\n",
    "    # Train\n",
    "    pipe.fit(Xb_temp, yb_temp)\n",
    "\n",
    "    # Predictions\n",
    "    y_pred = pipe.predict(Xb_val)\n",
    "\n",
    "    # Probas for ROC\n",
    "    if hasattr(pipe.named_steps[\"clf\"], \"predict_proba\"):\n",
    "        y_proba = pipe.predict_proba(Xb_val)[:, 1]\n",
    "    elif hasattr(pipe.named_steps[\"clf\"], \"decision_function\"):\n",
    "        y_proba = pipe.decision_function(Xb_val)\n",
    "    else:\n",
    "        y_proba = None\n",
    "\n",
    "    # Metrics\n",
    "    report = classification_report(yb_val, y_pred, output_dict=True)\n",
    "    acc = accuracy_score(yb_val, y_pred)\n",
    "    auc = roc_auc_score(yb_val, y_proba) if y_proba is not None else None\n",
    "\n",
    "    results[name] = {\n",
    "        \"Accuracy\": acc,\n",
    "        \"Precision\": report[\"1\"][\"precision\"],\n",
    "        \"Recall\": report[\"1\"][\"recall\"],\n",
    "        \"F1-score\": report[\"1\"][\"f1-score\"],\n",
    "        \"ROC-AUC\": auc\n",
    "    }\n",
    "\n",
    "    # Confusion matrix\n",
    "    conf_matrices[name] = confusion_matrix(yb_val, y_pred)\n",
    "\n",
    "    # ROC data\n",
    "    if y_proba is not None:\n",
    "        fpr, tpr, _ = roc_curve(yb_val, y_proba)\n",
    "        roc_data[name] = (fpr, tpr, auc)\n",
    "\n",
    "# --------------------------\n",
    "# Results Table\n",
    "# --------------------------\n",
    "results_df = pd.DataFrame(results).T\n",
    "display(results_df)\n",
    "\n",
    "# --------------------------\n",
    "# Confusion Matrices Heatmaps\n",
    "# --------------------------\n",
    "n_models = len(conf_matrices)\n",
    "cols = 3\n",
    "rows = (n_models + cols - 1) // cols\n",
    "\n",
    "fig, axes = plt.subplots(rows, cols, figsize=(5*cols, 4*rows))\n",
    "\n",
    "for ax, (name, cm) in zip(axes.flatten(), conf_matrices.items()):\n",
    "    sns.heatmap(cm, annot=True, fmt=\"d\", cmap=\"Blues\", cbar=False,\n",
    "                xticklabels=[\"Negative\", \"Positive\"],\n",
    "                yticklabels=[\"Negative\", \"Positive\"], ax=ax)\n",
    "    ax.set_title(name)\n",
    "    ax.set_xlabel(\"Predicted\")\n",
    "    ax.set_ylabel(\"Actual\")\n",
    "\n",
    "# Remove unused subplots\n",
    "for ax in axes.flatten()[len(conf_matrices):]:\n",
    "    ax.remove()\n",
    "\n",
    "plt.tight_layout()\n",
    "plt.show()\n",
    "\n",
    "# --------------------------\n",
    "# ROC Curves\n",
    "# --------------------------\n",
    "plt.figure(figsize=(8,6))\n",
    "for name, (fpr, tpr, auc) in roc_data.items():\n",
    "    plt.plot(fpr, tpr, label=f\"{name} (AUC={auc:.2f})\")\n",
    "\n",
    "plt.plot([0,1], [0,1], \"k--\")\n",
    "plt.xlabel(\"False Positive Rate\")\n",
    "plt.ylabel(\"True Positive Rate\")\n",
    "plt.title(\"ROC Curves\")\n",
    "plt.legend()\n",
    "plt.show()"
   ]
  },
  {
   "cell_type": "markdown",
   "id": "6ef21ff9",
   "metadata": {},
   "source": [
    "## 📊 Model Evaluation Results\n",
    "\n",
    "| Model                | Accuracy | Precision | Recall  | F1-Score | ROC-AUC |\n",
    "|-----------------------|----------|-----------|---------|----------|---------|\n",
    "| Logistic Regression   | **0.847** | 0.847     | **0.998** | 0.916    | 0.848   |\n",
    "| Random Forest         | **0.882** | 0.880     | **0.996** | **0.934** | 0.785   |\n",
    "| Gradient Boosting     | 0.861    | 0.864     | 0.990   | 0.923    | 0.778   |\n",
    "| Linear SVM            | 0.877    | **0.888** | 0.977   | 0.930    | **0.851** |\n",
    "| XGBoost               | 0.866    | 0.875     | 0.981   | 0.925    | 0.779   |"
   ]
  },
  {
   "cell_type": "markdown",
   "id": "6ac4d2f4",
   "metadata": {},
   "source": [
    "Analysis of Model Performance Metrics\n",
    "This table compares five different machine learning models across five key evaluation metrics. The high Recall scores across all models suggest the dataset might have a class imbalance, meaning one class (likely the positive class) has significantly more examples than the other.\n",
    "\n",
    "Here is a breakdown of each model's performance:\n",
    "\n",
    "Logistic Regression: Shows solid and balanced performance across all metrics. Its high Recall (0.998) means it is excellent at identifying positive cases, but its Precision (0.847) is lower than others, indicating it has more false positives. Its ROC-AUC is strong, confirming good overall separability.\n",
    "\n",
    "Random Forest: This is the top-performing model in terms of overall accuracy (0.882) and F1-score (0.934). It achieves the best balance between Precision and Recall. However, its ROC-AUC score (0.785) is surprisingly the lowest, which can sometimes happen with imbalanced data and might warrant a closer look at the probability calibrations.\n",
    "\n",
    "Gradient Boosting & XGBoost: These two boosting algorithms perform very similarly. They have good but not top-tier Accuracy and F1-scores. Their key weakness is a relatively low ROC-AUC, similar to Random Forest, suggesting their ability to distinguish between classes is less robust than Logistic Regression or SVM.\n",
    "\n",
    "Linear SVM: Demonstrates very strong performance, boasting the highest Precision (0.888) and a very high F1-score (0.930). This means when it predicts a positive, it is most likely to be correct. Its high ROC-AUC score is second only to Logistic Regression, indicating excellent model confidence.\n",
    "\n",
    "Summary and Recommendation\n",
    "Best Overall Model: Random Forest, due to its highest Accuracy and F1-score, which best balances the trade-off between false positives and false negatives.\n",
    "\n",
    "Best for High-Certainty Predictions: Linear SVM, if your priority is minimizing false positives (i.e., you want to be very sure a prediction is positive when you make it).\n",
    "\n",
    "Key Observation: All models have exceptionally high Recall (>0.97). This means they are all very good at capturing nearly all positive instances in the data. The primary differences between them lie in how many false positives they generate (reflected in Precision)."
   ]
  }
 ],
 "metadata": {
  "kernelspec": {
   "display_name": "base",
   "language": "python",
   "name": "python3"
  },
  "language_info": {
   "codemirror_mode": {
    "name": "ipython",
    "version": 3
   },
   "file_extension": ".py",
   "mimetype": "text/x-python",
   "name": "python",
   "nbconvert_exporter": "python",
   "pygments_lexer": "ipython3",
   "version": "3.12.7"
  }
 },
 "nbformat": 4,
 "nbformat_minor": 5
}
