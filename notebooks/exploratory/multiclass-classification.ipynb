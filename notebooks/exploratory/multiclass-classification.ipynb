{
 "cells": [
  {
   "cell_type": "markdown",
   "id": "74cb702e",
   "metadata": {},
   "source": [
    "## Multiclass-Classification"
   ]
  },
  {
   "cell_type": "markdown",
   "id": "169430df",
   "metadata": {},
   "source": [
    "### Here we are to introduce another label named `neutral` in addition to the `negative` and `positive` "
   ]
  },
  {
   "cell_type": "code",
   "execution_count": 3,
   "id": "9e260429",
   "metadata": {},
   "outputs": [],
   "source": [
    "# --- 1. Import Libraries ---\n",
    "import pandas as pd\n",
    "from sklearn.model_selection import train_test_split\n",
    "from sklearn.feature_extraction.text import TfidfVectorizer\n",
    "from sklearn.linear_model import LogisticRegression\n",
    "from sklearn.naive_bayes import MultinomialNB\n",
    "from sklearn.ensemble import RandomForestClassifier\n",
    "from xgboost import XGBClassifier\n",
    "from sklearn.svm import SVC\n",
    "from sklearn.metrics import classification_report, confusion_matrix, accuracy_score\n",
    "from imblearn.over_sampling import SMOTE\n",
    "from imblearn.pipeline import Pipeline as ImbPipeline\n",
    "from sklearn.pipeline import Pipeline\n",
    "\n",
    "\n",
    "import matplotlib.pyplot as plt\n",
    "import seaborn as sns\n",
    "import joblib"
   ]
  },
  {
   "cell_type": "code",
   "execution_count": 4,
   "id": "7ba672d8",
   "metadata": {},
   "outputs": [
    {
     "data": {
      "text/html": [
       "<div>\n",
       "<style scoped>\n",
       "    .dataframe tbody tr th:only-of-type {\n",
       "        vertical-align: middle;\n",
       "    }\n",
       "\n",
       "    .dataframe tbody tr th {\n",
       "        vertical-align: top;\n",
       "    }\n",
       "\n",
       "    .dataframe thead th {\n",
       "        text-align: right;\n",
       "    }\n",
       "</style>\n",
       "<table border=\"1\" class=\"dataframe\">\n",
       "  <thead>\n",
       "    <tr style=\"text-align: right;\">\n",
       "      <th></th>\n",
       "      <th>tweet</th>\n",
       "      <th>emotion</th>\n",
       "      <th>product_filled</th>\n",
       "      <th>cleaned_tweets</th>\n",
       "      <th>text_length</th>\n",
       "    </tr>\n",
       "  </thead>\n",
       "  <tbody>\n",
       "    <tr>\n",
       "      <th>0</th>\n",
       "      <td>.@wesley83 i have a 3g iphone. after 3 hrs twe...</td>\n",
       "      <td>negative</td>\n",
       "      <td>iphone</td>\n",
       "      <td>3g iphone 3 hrs tweeting rise_austin dead need...</td>\n",
       "      <td>12</td>\n",
       "    </tr>\n",
       "    <tr>\n",
       "      <th>1</th>\n",
       "      <td>@jessedee know about @fludapp ? awesome ipad/i...</td>\n",
       "      <td>positive</td>\n",
       "      <td>ipad or iphone app</td>\n",
       "      <td>know awesome ipadiphone app youll likely appre...</td>\n",
       "      <td>14</td>\n",
       "    </tr>\n",
       "    <tr>\n",
       "      <th>2</th>\n",
       "      <td>@swonderlin can not wait for #ipad 2 also. the...</td>\n",
       "      <td>positive</td>\n",
       "      <td>ipad</td>\n",
       "      <td>wait ipad 2 also sale sxsw</td>\n",
       "      <td>6</td>\n",
       "    </tr>\n",
       "    <tr>\n",
       "      <th>3</th>\n",
       "      <td>@sxsw i hope this year's festival isn't as cra...</td>\n",
       "      <td>negative</td>\n",
       "      <td>ipad or iphone app</td>\n",
       "      <td>hope years festival isnt crashy years iphone a...</td>\n",
       "      <td>9</td>\n",
       "    </tr>\n",
       "    <tr>\n",
       "      <th>4</th>\n",
       "      <td>@sxtxstate great stuff on fri #sxsw: marissa m...</td>\n",
       "      <td>positive</td>\n",
       "      <td>google</td>\n",
       "      <td>great stuff fri sxsw marissa mayer google tim ...</td>\n",
       "      <td>15</td>\n",
       "    </tr>\n",
       "  </tbody>\n",
       "</table>\n",
       "</div>"
      ],
      "text/plain": [
       "                                               tweet   emotion  \\\n",
       "0  .@wesley83 i have a 3g iphone. after 3 hrs twe...  negative   \n",
       "1  @jessedee know about @fludapp ? awesome ipad/i...  positive   \n",
       "2  @swonderlin can not wait for #ipad 2 also. the...  positive   \n",
       "3  @sxsw i hope this year's festival isn't as cra...  negative   \n",
       "4  @sxtxstate great stuff on fri #sxsw: marissa m...  positive   \n",
       "\n",
       "       product_filled                                     cleaned_tweets  \\\n",
       "0              iphone  3g iphone 3 hrs tweeting rise_austin dead need...   \n",
       "1  ipad or iphone app  know awesome ipadiphone app youll likely appre...   \n",
       "2                ipad                         wait ipad 2 also sale sxsw   \n",
       "3  ipad or iphone app  hope years festival isnt crashy years iphone a...   \n",
       "4              google  great stuff fri sxsw marissa mayer google tim ...   \n",
       "\n",
       "   text_length  \n",
       "0           12  \n",
       "1           14  \n",
       "2            6  \n",
       "3            9  \n",
       "4           15  "
      ]
     },
     "execution_count": 4,
     "metadata": {},
     "output_type": "execute_result"
    }
   ],
   "source": [
    "# --- 2. Load Data ---\n",
    "text_cleaned = pd.read_csv(\"../../assets/Cleaned_Tweets.csv\")\n",
    "text_cleaned.head()"
   ]
  },
  {
   "cell_type": "code",
   "execution_count": 6,
   "id": "f60d9a37",
   "metadata": {},
   "outputs": [
    {
     "data": {
      "text/html": [
       "<div>\n",
       "<style scoped>\n",
       "    .dataframe tbody tr th:only-of-type {\n",
       "        vertical-align: middle;\n",
       "    }\n",
       "\n",
       "    .dataframe tbody tr th {\n",
       "        vertical-align: top;\n",
       "    }\n",
       "\n",
       "    .dataframe thead th {\n",
       "        text-align: right;\n",
       "    }\n",
       "</style>\n",
       "<table border=\"1\" class=\"dataframe\">\n",
       "  <thead>\n",
       "    <tr style=\"text-align: right;\">\n",
       "      <th></th>\n",
       "      <th>tweet</th>\n",
       "      <th>emotion</th>\n",
       "      <th>product_filled</th>\n",
       "      <th>cleaned_tweets</th>\n",
       "      <th>text_length</th>\n",
       "    </tr>\n",
       "  </thead>\n",
       "  <tbody>\n",
       "    <tr>\n",
       "      <th>0</th>\n",
       "      <td>.@wesley83 i have a 3g iphone. after 3 hrs twe...</td>\n",
       "      <td>negative</td>\n",
       "      <td>iphone</td>\n",
       "      <td>3g iphone 3 hrs tweeting rise_austin dead need...</td>\n",
       "      <td>12</td>\n",
       "    </tr>\n",
       "    <tr>\n",
       "      <th>1</th>\n",
       "      <td>@jessedee know about @fludapp ? awesome ipad/i...</td>\n",
       "      <td>positive</td>\n",
       "      <td>ipad or iphone app</td>\n",
       "      <td>know awesome ipadiphone app youll likely appre...</td>\n",
       "      <td>14</td>\n",
       "    </tr>\n",
       "    <tr>\n",
       "      <th>2</th>\n",
       "      <td>@swonderlin can not wait for #ipad 2 also. the...</td>\n",
       "      <td>positive</td>\n",
       "      <td>ipad</td>\n",
       "      <td>wait ipad 2 also sale sxsw</td>\n",
       "      <td>6</td>\n",
       "    </tr>\n",
       "    <tr>\n",
       "      <th>3</th>\n",
       "      <td>@sxsw i hope this year's festival isn't as cra...</td>\n",
       "      <td>negative</td>\n",
       "      <td>ipad or iphone app</td>\n",
       "      <td>hope years festival isnt crashy years iphone a...</td>\n",
       "      <td>9</td>\n",
       "    </tr>\n",
       "    <tr>\n",
       "      <th>4</th>\n",
       "      <td>@sxtxstate great stuff on fri #sxsw: marissa m...</td>\n",
       "      <td>positive</td>\n",
       "      <td>google</td>\n",
       "      <td>great stuff fri sxsw marissa mayer google tim ...</td>\n",
       "      <td>15</td>\n",
       "    </tr>\n",
       "    <tr>\n",
       "      <th>...</th>\n",
       "      <td>...</td>\n",
       "      <td>...</td>\n",
       "      <td>...</td>\n",
       "      <td>...</td>\n",
       "      <td>...</td>\n",
       "    </tr>\n",
       "    <tr>\n",
       "      <th>9087</th>\n",
       "      <td>ipad everywhere. #sxsw {link}</td>\n",
       "      <td>positive</td>\n",
       "      <td>ipad</td>\n",
       "      <td>ipad everywhere sxsw link</td>\n",
       "      <td>4</td>\n",
       "    </tr>\n",
       "    <tr>\n",
       "      <th>9088</th>\n",
       "      <td>wave, buzz... rt @mention we interrupt your re...</td>\n",
       "      <td>neutral</td>\n",
       "      <td>google</td>\n",
       "      <td>wave buzz rt interrupt regularly scheduled sxs...</td>\n",
       "      <td>14</td>\n",
       "    </tr>\n",
       "    <tr>\n",
       "      <th>9089</th>\n",
       "      <td>google's zeiger, a physician never reported po...</td>\n",
       "      <td>neutral</td>\n",
       "      <td>google</td>\n",
       "      <td>googles zeiger physician never reported potent...</td>\n",
       "      <td>17</td>\n",
       "    </tr>\n",
       "    <tr>\n",
       "      <th>9090</th>\n",
       "      <td>some verizon iphone customers complained their...</td>\n",
       "      <td>neutral</td>\n",
       "      <td>iphone</td>\n",
       "      <td>verizon iphone customers complained time fell ...</td>\n",
       "      <td>14</td>\n",
       "    </tr>\n",
       "    <tr>\n",
       "      <th>9091</th>\n",
       "      <td>ï¡ïàü_êîò£áââ_£â_ûârt @...</td>\n",
       "      <td>neutral</td>\n",
       "      <td>google</td>\n",
       "      <td>ïïàü_êîòáââ_â_ûârt google tests ûïcheckin offe...</td>\n",
       "      <td>7</td>\n",
       "    </tr>\n",
       "  </tbody>\n",
       "</table>\n",
       "<p>8936 rows × 5 columns</p>\n",
       "</div>"
      ],
      "text/plain": [
       "                                                  tweet   emotion  \\\n",
       "0     .@wesley83 i have a 3g iphone. after 3 hrs twe...  negative   \n",
       "1     @jessedee know about @fludapp ? awesome ipad/i...  positive   \n",
       "2     @swonderlin can not wait for #ipad 2 also. the...  positive   \n",
       "3     @sxsw i hope this year's festival isn't as cra...  negative   \n",
       "4     @sxtxstate great stuff on fri #sxsw: marissa m...  positive   \n",
       "...                                                 ...       ...   \n",
       "9087                      ipad everywhere. #sxsw {link}  positive   \n",
       "9088  wave, buzz... rt @mention we interrupt your re...   neutral   \n",
       "9089  google's zeiger, a physician never reported po...   neutral   \n",
       "9090  some verizon iphone customers complained their...   neutral   \n",
       "9091  ï¡ïàü_êîò£áââ_£â_ûârt @...   neutral   \n",
       "\n",
       "          product_filled                                     cleaned_tweets  \\\n",
       "0                 iphone  3g iphone 3 hrs tweeting rise_austin dead need...   \n",
       "1     ipad or iphone app  know awesome ipadiphone app youll likely appre...   \n",
       "2                   ipad                         wait ipad 2 also sale sxsw   \n",
       "3     ipad or iphone app  hope years festival isnt crashy years iphone a...   \n",
       "4                 google  great stuff fri sxsw marissa mayer google tim ...   \n",
       "...                  ...                                                ...   \n",
       "9087                ipad                          ipad everywhere sxsw link   \n",
       "9088              google  wave buzz rt interrupt regularly scheduled sxs...   \n",
       "9089              google  googles zeiger physician never reported potent...   \n",
       "9090              iphone  verizon iphone customers complained time fell ...   \n",
       "9091              google  ïïàü_êîòáââ_â_ûârt google tests ûïcheckin offe...   \n",
       "\n",
       "      text_length  \n",
       "0              12  \n",
       "1              14  \n",
       "2               6  \n",
       "3               9  \n",
       "4              15  \n",
       "...           ...  \n",
       "9087            4  \n",
       "9088           14  \n",
       "9089           17  \n",
       "9090           14  \n",
       "9091            7  \n",
       "\n",
       "[8936 rows x 5 columns]"
      ]
     },
     "execution_count": 6,
     "metadata": {},
     "output_type": "execute_result"
    }
   ],
   "source": [
    "multi_df = text_cleaned[text_cleaned[\"emotion\"].isin(['positive', 'negative','neutral'])]\n",
    "multi_df"
   ]
  },
  {
   "cell_type": "code",
   "execution_count": 7,
   "id": "2bee50f5",
   "metadata": {},
   "outputs": [],
   "source": [
    "X_multi = multi_df[\"cleaned_tweets\"]\n",
    "y_multi = multi_df[\"emotion\"]\n",
    "\n",
    "y_multi = y_multi.map({'negative': 0, 'positive': 1, 'neutral': 2})\n",
    "\n",
    "\n",
    "Xmultib_train, Xmultib_test, ymultib_train, ymultib_test = train_test_split(\n",
    "    X_multi, y_multi, test_size=0.2, random_state=42, stratify=y_multi\n",
    ")"
   ]
  },
  {
   "cell_type": "markdown",
   "id": "13c2d216",
   "metadata": {},
   "source": [
    "### - Splitting data into test, train and validation data to be able to both train, test and validate our models"
   ]
  },
  {
   "cell_type": "code",
   "execution_count": 8,
   "id": "53b19fb7",
   "metadata": {},
   "outputs": [],
   "source": [
    "Xmultib_temp, Xmultib_val, ymultib_temp, ymultib_val= train_test_split(\n",
    "    Xmultib_train, ymultib_train, test_size=0.2, random_state=42, stratify=ymultib_train\n",
    ")"
   ]
  },
  {
   "cell_type": "markdown",
   "id": "3f474a24",
   "metadata": {},
   "source": [
    "### Baseline Model (Logistic Regression ) with TDIDF"
   ]
  },
  {
   "cell_type": "code",
   "execution_count": 9,
   "id": "9a014994",
   "metadata": {},
   "outputs": [
    {
     "name": "stdout",
     "output_type": "stream",
     "text": [
      "Classification Report:\n",
      "               precision    recall  f1-score   support\n",
      "\n",
      "           0       0.89      0.09      0.16        91\n",
      "           1       0.63      0.47      0.54       477\n",
      "           2       0.70      0.87      0.78       862\n",
      "\n",
      "    accuracy                           0.69      1430\n",
      "   macro avg       0.74      0.48      0.49      1430\n",
      "weighted avg       0.69      0.69      0.66      1430\n",
      "\n",
      "Confusion Matrix:\n",
      " [[  8  18  65]\n",
      " [  1 225 251]\n",
      " [  0 113 749]]\n"
     ]
    }
   ],
   "source": [
    "sentiment_pipeline = Pipeline([\n",
    "    (\"tfidf\", TfidfVectorizer(max_features=5000, ngram_range=(1,2))),\n",
    "    (\"clf\", LogisticRegression(max_iter=1000))\n",
    "])\n",
    "\n",
    "# Fit pipeline\n",
    "sentiment_pipeline.fit(Xmultib_temp, ymultib_temp)\n",
    "\n",
    "# Predictions\n",
    "y_pred = sentiment_pipeline.predict(Xmultib_val)\n",
    "\n",
    "# Evaluation\n",
    "print(\"Classification Report:\\n\", classification_report(ymultib_val, y_pred))\n",
    "print(\"Confusion Matrix:\\n\", confusion_matrix(ymultib_val, y_pred))"
   ]
  },
  {
   "cell_type": "code",
   "execution_count": 10,
   "id": "033ba689",
   "metadata": {},
   "outputs": [
    {
     "data": {
      "image/png": "[encoded data removed]",
      "text/plain": [
       "<Figure size 640x480 with 2 Axes>"
      ]
     },
     "metadata": {},
     "output_type": "display_data"
    }
   ],
   "source": [
    "from sklearn.metrics import confusion_matrix, ConfusionMatrixDisplay\n",
    "\n",
    "y_pred = sentiment_pipeline.predict(Xmultib_val)\n",
    "cm = confusion_matrix(ymultib_val, y_pred)\n",
    "labels = sentiment_pipeline.classes_\n",
    "disp = ConfusionMatrixDisplay(confusion_matrix=cm, display_labels=labels)\n",
    "disp.plot(cmap=\"Blues\", values_format=\"d\", xticks_rotation=45)\n",
    "plt.title(\"Confusion Matrix\")\n",
    "plt.show()\n"
   ]
  },
  {
   "cell_type": "markdown",
   "id": "351f2d68",
   "metadata": {},
   "source": [
    "- The model performs **best on class 2** (good recall and precision).  \n",
    "- It struggles **heavily with class 0**, where most samples are wrongly classified as class 2.  \n",
    "- Class 1 has **moderate performance**, but a large portion is still misclassified as class 2.  \n",
    "- The imbalance in class distribution (class 2 has the most samples) likely contributes to the poor recall of minority classes (especially class 0)."
   ]
  },
  {
   "cell_type": "markdown",
   "id": "7ce310e9",
   "metadata": {},
   "source": [
    "###  Managing class imbalance with SMOTE"
   ]
  },
  {
   "cell_type": "code",
   "execution_count": 11,
   "id": "f126c9e4",
   "metadata": {},
   "outputs": [
    {
     "name": "stdout",
     "output_type": "stream",
     "text": [
      "Classification Report:\n",
      "               precision    recall  f1-score   support\n",
      "\n",
      "           0       0.31      0.42      0.35        91\n",
      "           1       0.56      0.59      0.57       477\n",
      "           2       0.75      0.70      0.72       862\n",
      "\n",
      "    accuracy                           0.64      1430\n",
      "   macro avg       0.54      0.57      0.55      1430\n",
      "weighted avg       0.66      0.64      0.65      1430\n",
      "\n",
      "Confusion Matrix:\n",
      " [[ 38  22  31]\n",
      " [ 29 282 166]\n",
      " [ 57 204 601]]\n"
     ]
    }
   ],
   "source": [
    "smote_pipeline = ImbPipeline([\n",
    "    (\"tfidf\", TfidfVectorizer(max_features=5000, ngram_range=(1,2))),\n",
    "    (\"smote\", SMOTE(random_state=42)),\n",
    "    (\"clf\", LogisticRegression(max_iter=1000, class_weight=None))  # class_weight not needed since we use SMOTE\n",
    "])\n",
    "\n",
    "# Fit pipeline\n",
    "smote_pipeline.fit(Xmultib_temp, ymultib_temp)\n",
    "\n",
    "# Predictions\n",
    "y_pred = smote_pipeline.predict(Xmultib_val)\n",
    "\n",
    "# Evaluation\n",
    "print(\"Classification Report:\\n\", classification_report(ymultib_val, y_pred))\n",
    "print(\"Confusion Matrix:\\n\", confusion_matrix(ymultib_val, y_pred))"
   ]
  },
  {
   "cell_type": "code",
   "execution_count": 12,
   "id": "90ae8e01",
   "metadata": {},
   "outputs": [
    {
     "data": {
      "image/png": "[encoded data removed]",
      "text/plain": [
       "<Figure size 600x400 with 1 Axes>"
      ]
     },
     "metadata": {},
     "output_type": "display_data"
    }
   ],
   "source": [
    "\n",
    "y_pred = smote_pipeline.predict(Xmultib_val)\n",
    "cm = confusion_matrix(ymultib_val, y_pred)\n",
    "\n",
    "plt.figure(figsize=(6,4))\n",
    "sns.heatmap(cm, annot=True, fmt=\"d\", cmap=\"Blues\", cbar=False,\n",
    "            xticklabels=smote_pipeline.classes_,\n",
    "            yticklabels=smote_pipeline.classes_)\n",
    "plt.xlabel(\"Predicted\")\n",
    "plt.ylabel(\"Actual\")\n",
    "plt.title(\"Confusion Matrix (SMOTE Pipeline)\")\n",
    "plt.show()\n",
    "\n"
   ]
  },
  {
   "cell_type": "markdown",
   "id": "f46d5c43",
   "metadata": {},
   "source": [
    "1. **SMOTE greatly improved recall for Class 0**, which was nearly ignored before.  \n",
    "2. The model is now **more balanced across all three classes** (macro recall improved from 0.48 → 0.57).  \n",
    "3. Accuracy dropped slightly (69% → 64%), but this is expected because the model now prioritizes **fairness across classes** instead of always favoring the majority class.  \n",
    "4. Trade-off: More false positives for Class 0, but much better representation overall.  \n"
   ]
  },
  {
   "cell_type": "markdown",
   "id": "d836f3a5",
   "metadata": {},
   "source": [
    "## GRID SEARCH      "
   ]
  },
  {
   "cell_type": "code",
   "execution_count": 15,
   "id": "5b0f20af",
   "metadata": {},
   "outputs": [
    {
     "name": "stdout",
     "output_type": "stream",
     "text": [
      "Fitting 5 folds for each of 48 candidates, totalling 240 fits\n",
      "Best Parameters: {'clf__C': 10, 'clf__penalty': 'l2', 'clf__solver': 'liblinear', 'tfidf__max_features': 7000, 'tfidf__ngram_range': (1, 1)}\n",
      "\n",
      "Classification Report:\n",
      "               precision    recall  f1-score   support\n",
      "\n",
      "           0       0.41      0.53      0.46       114\n",
      "           1       0.58      0.64      0.61       596\n",
      "           2       0.77      0.70      0.73      1078\n",
      "\n",
      "    accuracy                           0.67      1788\n",
      "   macro avg       0.59      0.62      0.60      1788\n",
      "weighted avg       0.68      0.67      0.67      1788\n",
      "\n",
      "\n",
      "Confusion Matrix:\n",
      " [[ 60  20  34]\n",
      " [ 22 381 193]\n",
      " [ 63 259 756]]\n"
     ]
    }
   ],
   "source": [
    "from sklearn.model_selection import GridSearchCV     \n",
    "param_grid = {\n",
    "    \"tfidf__max_features\": [3000, 5000, 7000],\n",
    "    \"tfidf__ngram_range\": [(1,1), (1,2)],\n",
    "    \"clf__C\": [0.01, 0.1, 1, 10],\n",
    "    \"clf__solver\": [\"liblinear\", \"lbfgs\"],\n",
    "    \"clf__penalty\": [\"l2\"] \n",
    "}\n",
    "\n",
    "# Grid search\n",
    "grid_search = GridSearchCV(\n",
    "    smote_pipeline,\n",
    "    param_grid,\n",
    "    cv=5,\n",
    "    scoring=\"f1_macro\",\n",
    "    n_jobs=-1,\n",
    "    verbose=2\n",
    ")\n",
    "\n",
    "# Fit grid search\n",
    "grid_search.fit(Xmultib_train, ymultib_train)\n",
    "\n",
    "# Best parameters\n",
    "print(\"Best Parameters:\", grid_search.best_params_)\n",
    "\n",
    "# Evaluate on test set\n",
    "best_model = grid_search.best_estimator_\n",
    "y_pred = best_model.predict(Xmultib_test)\n",
    "\n",
    "from sklearn.metrics import classification_report, confusion_matrix\n",
    "print(\"\\nClassification Report:\\n\", classification_report(ymultib_test, y_pred))\n",
    "print(\"\\nConfusion Matrix:\\n\", confusion_matrix(ymultib_test, y_pred))"
   ]
  },
  {
   "cell_type": "markdown",
   "id": "341ddb86",
   "metadata": {},
   "source": [
    "Interpretation by Class\n",
    "\n",
    "1. Class 0 (minority, 114 samples):\n",
    "\n",
    "- Recall improved to 0.53, meaning the model is now catching more than half of these cases.\n",
    "- Precision is lower (0.41), showing some false positives, but this is a fair trade-off for better recall.\n",
    "\n",
    "2. Class 1 (596 samples):\n",
    "\n",
    "- Balanced performance (Precision = 0.58, Recall = 0.64, F1 = 0.61).\n",
    "- Model is doing better than before in both capturing class 1 and keeping false positives under control.\n",
    "\n",
    "3. Class 2 (majority, 1078 samples):\n",
    "\n",
    "- Strongest performance overall: Precision = 0.77, Recall = 0.70.\n",
    "- Slight trade-off between recall and precision, but still the best-performing class."
   ]
  },
  {
   "cell_type": "markdown",
   "id": "760d6413",
   "metadata": {},
   "source": [
    "### Pipeline with Different Models (SVM, RANDOM FOREST, XGBOOST, GRADIENT BOOSTING)"
   ]
  },
  {
   "cell_type": "code",
   "execution_count": 16,
   "id": "bbb4f2dd",
   "metadata": {},
   "outputs": [
    {
     "name": "stdout",
     "output_type": "stream",
     "text": [
      "\n",
      "SVM Accuracy: 0.6399\n",
      "              precision    recall  f1-score   support\n",
      "\n",
      "           0       0.33      0.35      0.34        91\n",
      "           1       0.55      0.60      0.57       477\n",
      "           2       0.74      0.69      0.72       862\n",
      "\n",
      "    accuracy                           0.64      1430\n",
      "   macro avg       0.54      0.55      0.54      1430\n",
      "weighted avg       0.65      0.64      0.64      1430\n",
      "\n",
      "\n",
      "Random Forest Accuracy: 0.6874\n",
      "              precision    recall  f1-score   support\n",
      "\n",
      "           0       0.51      0.22      0.31        91\n",
      "           1       0.64      0.50      0.56       477\n",
      "           2       0.71      0.84      0.77       862\n",
      "\n",
      "    accuracy                           0.69      1430\n",
      "   macro avg       0.62      0.52      0.55      1430\n",
      "weighted avg       0.67      0.69      0.67      1430\n",
      "\n"
     ]
    },
    {
     "name": "stderr",
     "output_type": "stream",
     "text": [
      "C:\\Users\\User\\AppData\\Roaming\\Python\\Python311\\site-packages\\xgboost\\training.py:183: UserWarning: [01:34:07] WARNING: C:\\actions-runner\\_work\\xgboost\\xgboost\\src\\learner.cc:738: \n",
      "Parameters: { \"use_label_encoder\" } are not used.\n",
      "\n",
      "  bst.update(dtrain, iteration=i, fobj=obj)\n"
     ]
    },
    {
     "name": "stdout",
     "output_type": "stream",
     "text": [
      "\n",
      "XGBoost Accuracy: 0.6601\n",
      "              precision    recall  f1-score   support\n",
      "\n",
      "           0       0.33      0.21      0.26        91\n",
      "           1       0.61      0.45      0.52       477\n",
      "           2       0.70      0.82      0.76       862\n",
      "\n",
      "    accuracy                           0.66      1430\n",
      "   macro avg       0.54      0.49      0.51      1430\n",
      "weighted avg       0.64      0.66      0.64      1430\n",
      "\n",
      "\n",
      "Gradient Boosting Accuracy: 0.6168\n",
      "              precision    recall  f1-score   support\n",
      "\n",
      "           0       0.21      0.35      0.26        91\n",
      "           1       0.58      0.44      0.50       477\n",
      "           2       0.70      0.74      0.72       862\n",
      "\n",
      "    accuracy                           0.62      1430\n",
      "   macro avg       0.50      0.51      0.49      1430\n",
      "weighted avg       0.63      0.62      0.62      1430\n",
      "\n",
      "\n",
      "Summary of Results: {'SVM': 0.6398601398601399, 'Random Forest': 0.6874125874125874, 'XGBoost': 0.6601398601398601, 'Gradient Boosting': 0.6167832167832168}\n"
     ]
    }
   ],
   "source": [
    "from sklearn.svm import LinearSVC\n",
    "from sklearn.ensemble import RandomForestClassifier, GradientBoostingClassifier\n",
    "from xgboost import XGBClassifier\n",
    "from sklearn.metrics import accuracy_score\n",
    "\n",
    "\n",
    "\n",
    "models = {\n",
    "    \"SVM\": LinearSVC(random_state=42),\n",
    "    \"Random Forest\": RandomForestClassifier(n_estimators=200, random_state=42),\n",
    "    \"XGBoost\": XGBClassifier(use_label_encoder=False, eval_metric=\"logloss\", random_state=42),\n",
    "    \"Gradient Boosting\": GradientBoostingClassifier(random_state=42)\n",
    "}\n",
    "\n",
    "results = {}\n",
    "\n",
    "for name, clf in models.items():\n",
    "    pipe = ImbPipeline([\n",
    "        (\"tfidf\", TfidfVectorizer(max_features=5000, ngram_range=(1,2))),\n",
    "        (\"smote\", SMOTE(random_state=42)),\n",
    "        (\"clf\", clf)\n",
    "    ])\n",
    "    \n",
    "     # Fit\n",
    "    pipe.fit(Xmultib_temp, ymultib_temp)\n",
    "    \n",
    "    # Predict\n",
    "    y_pred = pipe.predict(Xmultib_val)\n",
    "    \n",
    "    # Evaluate\n",
    "    acc = accuracy_score(ymultib_val, y_pred)\n",
    "    print(f\"\\n{name} Accuracy: {acc:.4f}\")\n",
    "    print(classification_report(ymultib_val, y_pred))\n",
    "    \n",
    "    results[name] = acc\n",
    "\n",
    "print(\"\\nSummary of Results:\", results)\n"
   ]
  },
  {
   "cell_type": "markdown",
   "id": "99fc7c31",
   "metadata": {},
   "source": [
    "### Fine Tuning the Models"
   ]
  },
  {
   "cell_type": "code",
   "execution_count": 17,
   "id": "e2c5ea3a",
   "metadata": {},
   "outputs": [
    {
     "name": "stdout",
     "output_type": "stream",
     "text": [
      "\n",
      " Running GridSearch for SVM...\n",
      "Fitting 3 folds for each of 3 candidates, totalling 9 fits\n",
      "SVM Best Params: {'clf__C': 1}\n",
      "SVM Accuracy: 0.6399,  Macro F1: 0.5422\n",
      "              precision    recall  f1-score   support\n",
      "\n",
      "           0       0.33      0.35      0.34        91\n",
      "           1       0.55      0.60      0.57       477\n",
      "           2       0.74      0.69      0.72       862\n",
      "\n",
      "    accuracy                           0.64      1430\n",
      "   macro avg       0.54      0.55      0.54      1430\n",
      "weighted avg       0.65      0.64      0.64      1430\n",
      "\n",
      "\n",
      " Running GridSearch for Random Forest...\n",
      "Fitting 3 folds for each of 6 candidates, totalling 18 fits\n",
      "Random Forest Best Params: {'clf__max_depth': None, 'clf__n_estimators': 200}\n",
      "Random Forest Accuracy: 0.6874,  Macro F1: 0.5463\n",
      "              precision    recall  f1-score   support\n",
      "\n",
      "           0       0.51      0.22      0.31        91\n",
      "           1       0.64      0.50      0.56       477\n",
      "           2       0.71      0.84      0.77       862\n",
      "\n",
      "    accuracy                           0.69      1430\n",
      "   macro avg       0.62      0.52      0.55      1430\n",
      "weighted avg       0.67      0.69      0.67      1430\n",
      "\n",
      "\n",
      " Running GridSearch for XGBoost...\n",
      "Fitting 3 folds for each of 12 candidates, totalling 36 fits\n"
     ]
    },
    {
     "name": "stderr",
     "output_type": "stream",
     "text": [
      "C:\\Users\\User\\AppData\\Roaming\\Python\\Python311\\site-packages\\xgboost\\training.py:183: UserWarning: [01:41:36] WARNING: C:\\actions-runner\\_work\\xgboost\\xgboost\\src\\learner.cc:738: \n",
      "Parameters: { \"use_label_encoder\" } are not used.\n",
      "\n",
      "  bst.update(dtrain, iteration=i, fobj=obj)\n"
     ]
    },
    {
     "name": "stdout",
     "output_type": "stream",
     "text": [
      "XGBoost Best Params: {'clf__learning_rate': 0.1, 'clf__max_depth': 10, 'clf__n_estimators': 200}\n",
      "XGBoost Accuracy: 0.6699,  Macro F1: 0.5123\n",
      "              precision    recall  f1-score   support\n",
      "\n",
      "           0       0.34      0.19      0.24        91\n",
      "           1       0.62      0.47      0.53       477\n",
      "           2       0.70      0.83      0.76       862\n",
      "\n",
      "    accuracy                           0.67      1430\n",
      "   macro avg       0.55      0.50      0.51      1430\n",
      "weighted avg       0.65      0.67      0.65      1430\n",
      "\n",
      "\n",
      " Running GridSearch for Gradient Boosting...\n",
      "Fitting 3 folds for each of 12 candidates, totalling 36 fits\n",
      "Gradient Boosting Best Params: {'clf__learning_rate': 0.3, 'clf__max_depth': 5, 'clf__n_estimators': 200}\n",
      "Gradient Boosting Accuracy: 0.6664,  Macro F1: 0.5424\n",
      "              precision    recall  f1-score   support\n",
      "\n",
      "           0       0.40      0.26      0.32        91\n",
      "           1       0.58      0.54      0.56       477\n",
      "           2       0.72      0.78      0.75       862\n",
      "\n",
      "    accuracy                           0.67      1430\n",
      "   macro avg       0.57      0.53      0.54      1430\n",
      "weighted avg       0.66      0.67      0.66      1430\n",
      "\n",
      "\n",
      " Summary of Results:\n",
      "SVM: Accuracy=0.6399, Best Params={'clf__C': 1}\n",
      "Random Forest: Accuracy=0.6874, Best Params={'clf__max_depth': None, 'clf__n_estimators': 200}\n",
      "XGBoost: Accuracy=0.6699, Best Params={'clf__learning_rate': 0.1, 'clf__max_depth': 10, 'clf__n_estimators': 200}\n",
      "Gradient Boosting: Accuracy=0.6664, Best Params={'clf__learning_rate': 0.3, 'clf__max_depth': 5, 'clf__n_estimators': 200}\n"
     ]
    }
   ],
   "source": [
    "# Define models and param grids\n",
    "from sklearn.metrics import f1_score\n",
    "\n",
    "\n",
    "models_and_params = {\n",
    "    \"SVM\": (\n",
    "        LinearSVC(random_state=42),\n",
    "        {\n",
    "            \"clf__C\": [0.1, 1, 10]\n",
    "        }\n",
    "    ),\n",
    "    \"Random Forest\": (\n",
    "        RandomForestClassifier(random_state=42),\n",
    "        {\n",
    "            \"clf__n_estimators\": [100, 200],\n",
    "            \"clf__max_depth\": [None, 10, 20]\n",
    "        }\n",
    "    ),\n",
    "    \"XGBoost\": (\n",
    "        XGBClassifier(use_label_encoder=False, eval_metric=\"logloss\", random_state=42),\n",
    "        {\n",
    "            \"clf__n_estimators\": [100, 200],\n",
    "            \"clf__max_depth\": [3, 6, 10],\n",
    "            \"clf__learning_rate\": [0.1, 0.3]\n",
    "        }\n",
    "    ),\n",
    "    \"Gradient Boosting\": (\n",
    "        GradientBoostingClassifier(random_state=42),\n",
    "        {\n",
    "            \"clf__n_estimators\": [100, 200],\n",
    "            \"clf__learning_rate\": [0.05, 0.1, 0.3],\n",
    "            \"clf__max_depth\": [3, 5]\n",
    "        }\n",
    "    )\n",
    "}\n",
    "\n",
    "results = {}\n",
    "\n",
    "for name, (clf, param_grid) in models_and_params.items():\n",
    "    print(f\"\\n Running GridSearch for {name}...\")\n",
    "    \n",
    "    pipe = ImbPipeline([\n",
    "        (\"tfidf\", TfidfVectorizer(max_features=5000, ngram_range=(1,2))),\n",
    "        (\"smote\", SMOTE(random_state=42)),\n",
    "        (\"clf\", clf)\n",
    "    ])\n",
    "    \n",
    "    grid = GridSearchCV(pipe, param_grid, cv=3, scoring=\"accuracy\", n_jobs=-1, verbose=1)\n",
    "    grid.fit(Xmultib_temp, ymultib_temp)\n",
    "    \n",
    "    y_pred = grid.predict(Xmultib_val)\n",
    "    \n",
    "    acc = accuracy_score(ymultib_val, y_pred)\n",
    "    f1 = f1_score(ymultib_val, y_pred, average=\"macro\")\n",
    "\n",
    "    print(f\"{name} Best Params: {grid.best_params_}\")\n",
    "    print(f\"{name} Accuracy: {acc:.4f},  Macro F1: {f1:.4f}\")\n",
    "    print(classification_report(ymultib_val, y_pred))\n",
    "    \n",
    "    results[name] = {\"Accuracy\": acc, \"Best Params\": grid.best_params_}\n",
    "\n",
    "print(\"\\n Summary of Results:\")\n",
    "for model, res in results.items():\n",
    "    print(f\"{model}: Accuracy={res['Accuracy']:.4f}, Best Params={res['Best Params']}\")"
   ]
  },
  {
   "cell_type": "code",
   "execution_count": 18,
   "id": "99074f81",
   "metadata": {},
   "outputs": [
    {
     "data": {
      "image/png": "[encoded data removed]",
      "text/plain": [
       "<Figure size 900x600 with 1 Axes>"
      ]
     },
     "metadata": {},
     "output_type": "display_data"
    },
    {
     "name": "stdout",
     "output_type": "stream",
     "text": [
      "\n",
      " Best Model: Random Forest\n",
      "   Accuracy: 0.6874\n",
      "   Best Params: {'clf__max_depth': None, 'clf__n_estimators': 200}\n"
     ]
    }
   ],
   "source": [
    "plt.figure(figsize=(9,6))\n",
    "accuracies = {m: res[\"Accuracy\"] for m, res in results.items()}\n",
    "plt.bar(accuracies.keys(), accuracies.values(), color=\"skyblue\", edgecolor=\"black\")\n",
    "\n",
    "# Highlight best model\n",
    "best_model = max(accuracies, key=accuracies.get)\n",
    "best_acc = accuracies[best_model]\n",
    "plt.bar(best_model, best_acc, color=\"green\", edgecolor=\"black\",\n",
    "        label=f\"Best: {best_model} ({best_acc:.4f})\")\n",
    "\n",
    "plt.title(\"Model Comparison (Accuracy after GridSearch)\", fontsize=14)\n",
    "plt.ylabel(\"Accuracy\", fontsize=12)\n",
    "plt.ylim(0,1)\n",
    "plt.grid(axis=\"y\", linestyle=\"--\", alpha=0.7)\n",
    "plt.legend()\n",
    "plt.show()\n",
    "\n",
    "print(f\"\\n Best Model: {best_model}\")\n",
    "print(f\"   Accuracy: {best_acc:.4f}\")\n",
    "print(f\"   Best Params: {results[best_model]['Best Params']}\")\n",
    "\n",
    "\n",
    "\n",
    "\n"
   ]
  },
  {
   "cell_type": "markdown",
   "id": "92caa60e",
   "metadata": {},
   "source": [
    "### Here the best model is Random Forest\n",
    "we will use this pipeline to train and get the best models measuring accuracy and f1 score and then save the model using joblib"
   ]
  },
  {
   "cell_type": "code",
   "execution_count": 19,
   "id": "41a151cd",
   "metadata": {},
   "outputs": [
    {
     "name": "stdout",
     "output_type": "stream",
     "text": [
      "\n",
      " Running GridSearch for SVM...\n",
      "Fitting 3 folds for each of 3 candidates, totalling 9 fits\n",
      "SVM Best Params: {'clf__C': 1}\n",
      "SVM Accuracy: 0.6399,  Macro F1: 0.5422\n",
      "              precision    recall  f1-score   support\n",
      "\n",
      "           0       0.33      0.35      0.34        91\n",
      "           1       0.55      0.60      0.57       477\n",
      "           2       0.74      0.69      0.72       862\n",
      "\n",
      "    accuracy                           0.64      1430\n",
      "   macro avg       0.54      0.55      0.54      1430\n",
      "weighted avg       0.65      0.64      0.64      1430\n",
      "\n",
      "\n",
      " Running GridSearch for Random Forest...\n",
      "Fitting 3 folds for each of 6 candidates, totalling 18 fits\n",
      "Random Forest Best Params: {'clf__max_depth': None, 'clf__n_estimators': 100}\n",
      "Random Forest Accuracy: 0.6867,  Macro F1: 0.5424\n",
      "              precision    recall  f1-score   support\n",
      "\n",
      "           0       0.51      0.21      0.30        91\n",
      "           1       0.62      0.50      0.56       477\n",
      "           2       0.72      0.84      0.77       862\n",
      "\n",
      "    accuracy                           0.69      1430\n",
      "   macro avg       0.62      0.52      0.54      1430\n",
      "weighted avg       0.67      0.69      0.67      1430\n",
      "\n",
      "\n",
      " Running GridSearch for XGBoost...\n",
      "Fitting 3 folds for each of 12 candidates, totalling 36 fits\n"
     ]
    },
    {
     "name": "stderr",
     "output_type": "stream",
     "text": [
      "C:\\Users\\User\\AppData\\Roaming\\Python\\Python311\\site-packages\\xgboost\\training.py:183: UserWarning: [01:56:49] WARNING: C:\\actions-runner\\_work\\xgboost\\xgboost\\src\\learner.cc:738: \n",
      "Parameters: { \"use_label_encoder\" } are not used.\n",
      "\n",
      "  bst.update(dtrain, iteration=i, fobj=obj)\n"
     ]
    },
    {
     "name": "stdout",
     "output_type": "stream",
     "text": [
      "XGBoost Best Params: {'clf__learning_rate': 0.3, 'clf__max_depth': 10, 'clf__n_estimators': 100}\n",
      "XGBoost Accuracy: 0.6720,  Macro F1: 0.5190\n",
      "              precision    recall  f1-score   support\n",
      "\n",
      "           0       0.38      0.19      0.25        91\n",
      "           1       0.60      0.50      0.54       477\n",
      "           2       0.71      0.82      0.76       862\n",
      "\n",
      "    accuracy                           0.67      1430\n",
      "   macro avg       0.56      0.50      0.52      1430\n",
      "weighted avg       0.65      0.67      0.66      1430\n",
      "\n",
      "\n",
      " Running GridSearch for Gradient Boosting...\n",
      "Fitting 3 folds for each of 12 candidates, totalling 36 fits\n",
      "Gradient Boosting Best Params: {'clf__learning_rate': 0.3, 'clf__max_depth': 5, 'clf__n_estimators': 100}\n",
      "Gradient Boosting Accuracy: 0.6671,  Macro F1: 0.5348\n",
      "              precision    recall  f1-score   support\n",
      "\n",
      "           0       0.32      0.26      0.29        91\n",
      "           1       0.60      0.52      0.56       477\n",
      "           2       0.72      0.79      0.75       862\n",
      "\n",
      "    accuracy                           0.67      1430\n",
      "   macro avg       0.55      0.53      0.53      1430\n",
      "weighted avg       0.66      0.67      0.66      1430\n",
      "\n",
      "\n",
      " Summary of Results:\n",
      "SVM: Accuracy=0.6399, Macro F1=0.5422, Best Params={'clf__C': 1}\n",
      "Random Forest: Accuracy=0.6867, Macro F1=0.5424, Best Params={'clf__max_depth': None, 'clf__n_estimators': 100}\n",
      "XGBoost: Accuracy=0.6720, Macro F1=0.5190, Best Params={'clf__learning_rate': 0.3, 'clf__max_depth': 10, 'clf__n_estimators': 100}\n",
      "Gradient Boosting: Accuracy=0.6671, Macro F1=0.5348, Best Params={'clf__learning_rate': 0.3, 'clf__max_depth': 5, 'clf__n_estimators': 100}\n",
      "\n",
      "Best model saved as best_model_random_forest.pkl (Model: Random Forest, Macro F1=0.5424)\n"
     ]
    }
   ],
   "source": [
    "from sklearn.metrics import f1_score, accuracy_score, classification_report\n",
    "import joblib\n",
    "\n",
    "models_and_params = {\n",
    "    \"SVM\": (\n",
    "        LinearSVC(random_state=42),\n",
    "        {\n",
    "            \"clf__C\": [0.1, 1, 10]\n",
    "        }\n",
    "    ),\n",
    "    \"Random Forest\": (\n",
    "        RandomForestClassifier(random_state=42),\n",
    "        {\n",
    "            \"clf__n_estimators\": [100, 200],\n",
    "            \"clf__max_depth\": [None, 10, 20]\n",
    "        }\n",
    "    ),\n",
    "    \"XGBoost\": (\n",
    "        XGBClassifier(use_label_encoder=False, eval_metric=\"logloss\", random_state=42),\n",
    "        {\n",
    "            \"clf__n_estimators\": [100, 200],\n",
    "            \"clf__max_depth\": [3, 6, 10],\n",
    "            \"clf__learning_rate\": [0.1, 0.3]\n",
    "        }\n",
    "    ),\n",
    "    \"Gradient Boosting\": (\n",
    "        GradientBoostingClassifier(random_state=42),\n",
    "        {\n",
    "            \"clf__n_estimators\": [100, 200],\n",
    "            \"clf__learning_rate\": [0.05, 0.1, 0.3],\n",
    "            \"clf__max_depth\": [3, 5]\n",
    "        }\n",
    "    )\n",
    "}\n",
    "\n",
    "results = {}\n",
    "best_model = None\n",
    "best_model_name = None\n",
    "best_f1 = -1  # keep track of best macro f1 score\n",
    "\n",
    "for name, (clf, param_grid) in models_and_params.items():\n",
    "    print(f\"\\n Running GridSearch for {name}...\")\n",
    "    \n",
    "    pipe = ImbPipeline([\n",
    "        (\"tfidf\", TfidfVectorizer(max_features=5000, ngram_range=(1,2))),\n",
    "        (\"smote\", SMOTE(random_state=42)),\n",
    "        (\"clf\", clf)\n",
    "    ])\n",
    "    \n",
    "    grid = GridSearchCV(pipe, param_grid, cv=3, scoring=\"f1_macro\", n_jobs=-1, verbose=1)\n",
    "    grid.fit(Xmultib_temp, ymultib_temp)\n",
    "    \n",
    "    y_pred = grid.predict(Xmultib_val)\n",
    "    \n",
    "    acc = accuracy_score(ymultib_val, y_pred)\n",
    "    f1 = f1_score(ymultib_val, y_pred, average=\"macro\")\n",
    "\n",
    "    print(f\"{name} Best Params: {grid.best_params_}\")\n",
    "    print(f\"{name} Accuracy: {acc:.4f},  Macro F1: {f1:.4f}\")\n",
    "    print(classification_report(ymultib_val, y_pred))\n",
    "    \n",
    "    results[name] = {\n",
    "        \"Accuracy\": acc,\n",
    "        \"Macro F1\": f1,\n",
    "        \"Best Params\": grid.best_params_,\n",
    "        \"Best Estimator\": grid.best_estimator_\n",
    "    }\n",
    "\n",
    "    # track the best model by macro f1\n",
    "    if f1 > best_f1:\n",
    "        best_f1 = f1\n",
    "        best_model = grid.best_estimator_\n",
    "        best_model_name = name\n",
    "\n",
    "print(\"\\n Summary of Results:\")\n",
    "for model, res in results.items():\n",
    "    print(f\"{model}: Accuracy={res['Accuracy']:.4f}, Macro F1={res['Macro F1']:.4f}, Best Params={res['Best Params']}\")\n",
    "\n",
    "# Save the best model\n",
    "joblib.dump(best_model, f\"best_model_{best_model_name.replace(' ', '_').lower()}.pkl\")\n",
    "print(f\"\\nBest model saved as best_model_{best_model_name.replace(' ', '_').lower()}.pkl (Model: {best_model_name}, Macro F1={best_f1:.4f})\")\n"
   ]
  },
  {
   "cell_type": "markdown",
   "id": "73738a1b",
   "metadata": {},
   "source": [
    "### BERT"
   ]
  },
  {
   "cell_type": "code",
   "execution_count": null,
   "id": "c789d9f0",
   "metadata": {},
   "outputs": [],
   "source": [
    "from datasets import Dataset\n",
    "from sklearn.model_selection import train_test_split\n",
    "\n",
    "# Use same labels as your notebook\n",
    "label2id = {\"negative\": 0, \"positive\": 1, \"neutral\": 2}\n",
    "id2label = {v: k for k, v in label2id.items()}\n",
    "\n",
    "df = pd.DataFrame({\"text\": X_multi, \"label\": y_multi})\n",
    "\n",
    "# Train/val/test split\n",
    "train_texts, temp_texts, train_labels, temp_labels = train_test_split(\n",
    "    df[\"text\"], df[\"label\"], test_size=0.3, stratify=df[\"label\"], random_state=42\n",
    ")\n",
    "val_texts, test_texts, val_labels, test_labels = train_test_split(\n",
    "    temp_texts, temp_labels, test_size=0.5, stratify=temp_labels, random_state=42\n",
    ")\n",
    "\n",
    "train_df = pd.DataFrame({\"text\": train_texts, \"label\": train_labels})\n",
    "val_df   = pd.DataFrame({\"text\": val_texts, \"label\": val_labels})\n",
    "test_df  = pd.DataFrame({\"text\": test_texts, \"label\": test_labels})\n",
    "\n",
    "train_dataset = Dataset.from_pandas(train_df)\n",
    "val_dataset   = Dataset.from_pandas(val_df)\n",
    "test_dataset  = Dataset.from_pandas(test_df)\n"
   ]
  },
  {
   "cell_type": "markdown",
   "id": "d4c1b02e",
   "metadata": {},
   "source": [
    "##  Tokenize Text with BERT Tokenizer"
   ]
  },
  {
   "cell_type": "code",
   "execution_count": null,
   "id": "b110edbe",
   "metadata": {},
   "outputs": [],
   "source": [
    "from sklearn.metrics import f1_score, accuracy_score, classification_report\n",
    "import joblib\n",
    "\n",
    "models_and_params = {\n",
    "    \"SVM\": (\n",
    "        LinearSVC(random_state=42),\n",
    "        {\n",
    "            \"clf__C\": [0.1, 1, 10]\n",
    "        }\n",
    "    ),\n",
    "    \"Random Forest\": (\n",
    "        RandomForestClassifier(random_state=42),\n",
    "        {\n",
    "            \"clf__n_estimators\": [100, 200],\n",
    "            \"clf__max_depth\": [None, 10, 20]\n",
    "        }\n",
    "    ),\n",
    "    \"XGBoost\": (\n",
    "        XGBClassifier(use_label_encoder=False, eval_metric=\"logloss\", random_state=42),\n",
    "        {\n",
    "            \"clf__n_estimators\": [100, 200],\n",
    "            \"clf__max_depth\": [3, 6, 10],\n",
    "            \"clf__learning_rate\": [0.1, 0.3]\n",
    "        }\n",
    "    ),\n",
    "    \"Gradient Boosting\": (\n",
    "        GradientBoostingClassifier(random_state=42),\n",
    "        {\n",
    "            \"clf__n_estimators\": [100, 200],\n",
    "            \"clf__learning_rate\": [0.05, 0.1, 0.3],\n",
    "            \"clf__max_depth\": [3, 5]\n",
    "        }\n",
    "    )\n",
    "}\n",
    "\n",
    "results = {}\n",
    "best_model = None\n",
    "best_model_name = None\n",
    "best_f1 = -1  # keep track of best macro f1 score\n",
    "\n",
    "for name, (clf, param_grid) in models_and_params.items():\n",
    "    print(f\"\\n Running GridSearch for {name}...\")\n",
    "    \n",
    "    pipe = ImbPipeline([\n",
    "        (\"tfidf\", TfidfVectorizer(max_features=5000, ngram_range=(1,2))),\n",
    "        (\"smote\", SMOTE(random_state=42)),\n",
    "        (\"clf\", clf)\n",
    "    ])\n",
    "    \n",
    "    grid = GridSearchCV(pipe, param_grid, cv=3, scoring=\"f1_macro\", n_jobs=-1, verbose=1)\n",
    "    grid.fit(Xmultib_temp, ymultib_temp)\n",
    "    \n",
    "    y_pred = grid.predict(Xmultib_val)\n",
    "    \n",
    "    acc = accuracy_score(ymultib_val, y_pred)\n",
    "    f1 = f1_score(ymultib_val, y_pred, average=\"macro\")\n",
    "\n",
    "    print(f\"{name} Best Params: {grid.best_params_}\")\n",
    "    print(f\"{name} Accuracy: {acc:.4f},  Macro F1: {f1:.4f}\")\n",
    "    print(classification_report(ymultib_val, y_pred))\n",
    "    \n",
    "    results[name] = {\n",
    "        \"Accuracy\": acc,\n",
    "        \"Macro F1\": f1,\n",
    "        \"Best Params\": grid.best_params_,\n",
    "        \"Best Estimator\": grid.best_estimator_\n",
    "    }\n",
    "\n",
    "    # track the best model by macro f1\n",
    "    if f1 > best_f1:\n",
    "        best_f1 = f1\n",
    "        best_model = grid.best_estimator_\n",
    "        best_model_name = name\n",
    "\n",
    "print(\"\\n Summary of Results:\")\n",
    "for model, res in results.items():\n",
    "    print(f\"{model}: Accuracy={res['Accuracy']:.4f}, Macro F1={res['Macro F1']:.4f}, Best Params={res['Best Params']}\")\n",
    "\n",
    "# Save the best model\n",
    "joblib.dump(best_model, f\"best_model_{best_model_name.replace(' ', '_').lower()}.pkl\")\n",
    "print(f\"\\nBest model saved as best_model_{best_model_name.replace(' ', '_').lower()}.pkl (Model: {best_model_name}, Macro F1={best_f1:.4f})\")\n"
   ]
  },
  {
   "cell_type": "code",
   "execution_count": 29,
   "id": "76271343",
   "metadata": {},
   "outputs": [
    {
     "data": {
      "application/vnd.jupyter.widget-view+json": {
       "model_id": "c8284f05a52c4a56b9ba7fa1517aa881",
       "version_major": 2,
       "version_minor": 0
      },
      "text/plain": [
       "Map:   0%|          | 0/6255 [00:00<?, ? examples/s]"
      ]
     },
     "metadata": {},
     "output_type": "display_data"
    },
    {
     "data": {
      "application/vnd.jupyter.widget-view+json": {
       "model_id": "2e35225e8ba14ad8b1d3dc3a2b7ee572",
       "version_major": 2,
       "version_minor": 0
      },
      "text/plain": [
       "Map:   0%|          | 0/1340 [00:00<?, ? examples/s]"
      ]
     },
     "metadata": {},
     "output_type": "display_data"
    },
    {
     "data": {
      "application/vnd.jupyter.widget-view+json": {
       "model_id": "0c898db732f64d37ac41a8143cfa281d",
       "version_major": 2,
       "version_minor": 0
      },
      "text/plain": [
       "Map:   0%|          | 0/1341 [00:00<?, ? examples/s]"
      ]
     },
     "metadata": {},
     "output_type": "display_data"
    }
   ],
   "source": [
    "from transformers import BertTokenizerFast\n",
    "\n",
    "tokenizer = BertTokenizerFast.from_pretrained(\"bert-base-uncased\")\n",
    "\n",
    "def tokenize(batch):\n",
    "    return tokenizer(batch[\"text\"], padding=\"max_length\", truncation=True, max_length=128)\n",
    "\n",
    "train_dataset = train_dataset.map(tokenize, batched=True)\n",
    "val_dataset   = val_dataset.map(tokenize, batched=True)\n",
    "test_dataset  = test_dataset.map(tokenize, batched=True)\n",
    "\n",
    "train_dataset.set_format(\"torch\", columns=[\"input_ids\", \"attention_mask\", \"label\"])\n",
    "val_dataset.set_format(\"torch\", columns=[\"input_ids\", \"attention_mask\", \"label\"])\n",
    "test_dataset.set_format(\"torch\", columns=[\"input_ids\", \"attention_mask\", \"label\"])\n"
   ]
  },
  {
   "cell_type": "markdown",
   "id": "ff4a30eb",
   "metadata": {},
   "source": [
    "### Define BERT Model"
   ]
  },
  {
   "cell_type": "code",
   "execution_count": 30,
   "id": "f1b94beb",
   "metadata": {},
   "outputs": [
    {
     "name": "stderr",
     "output_type": "stream",
     "text": [
      "Some weights of BertForSequenceClassification were not initialized from the model checkpoint at bert-base-uncased and are newly initialized: ['classifier.bias', 'classifier.weight']\n",
      "You should probably TRAIN this model on a down-stream task to be able to use it for predictions and inference.\n"
     ]
    }
   ],
   "source": [
    "from transformers import BertForSequenceClassification\n",
    "\n",
    "num_labels = len(label2id)\n",
    "model = BertForSequenceClassification.from_pretrained(\n",
    "    \"bert-base-uncased\", \n",
    "    num_labels=num_labels,\n",
    "    id2label=id2label,\n",
    "    label2id=label2id\n",
    ")\n"
   ]
  },
  {
   "cell_type": "markdown",
   "id": "0406b3da",
   "metadata": {},
   "source": [
    "### Training Setup"
   ]
  },
  {
   "cell_type": "code",
   "execution_count": 31,
   "id": "b6176b47",
   "metadata": {},
   "outputs": [],
   "source": [
    "\n",
    "from transformers import TrainingArguments, Trainer\n",
    "import numpy as np\n",
    "from sklearn.metrics import accuracy_score, precision_recall_fscore_support\n",
    "\n",
    "def compute_metrics(pred):\n",
    "    labels = pred.label_ids\n",
    "    preds = np.argmax(pred.predictions, axis=1)\n",
    "    precision, recall, f1, _ = precision_recall_fscore_support(labels, preds, average=\"macro\")\n",
    "    acc = accuracy_score(labels, preds)\n",
    "    return {\"accuracy\": acc, \"f1\": f1, \"precision\": precision, \"recall\": recall}\n",
    "\n"
   ]
  },
  {
   "cell_type": "code",
   "execution_count": 19,
   "id": "8232403f",
   "metadata": {},
   "outputs": [],
   "source": [
    "training_args = TrainingArguments(\n",
    "    output_dir=\"./results\",\n",
    "    do_eval=True,\n",
    "    eval_strategy=\"epoch\",\n",
    "    save_strategy=\"epoch\",\n",
    "    per_device_train_batch_size=16,\n",
    "    per_device_eval_batch_size=16,\n",
    "    num_train_epochs=3,\n",
    "    weight_decay=0.01,\n",
    "    logging_dir=\"./logs\",\n",
    "    load_best_model_at_end=True,\n",
    ")"
   ]
  },
  {
   "cell_type": "markdown",
   "id": "0a81a1fb",
   "metadata": {},
   "source": [
    "### Train BERT\n"
   ]
  },
  {
   "cell_type": "code",
   "execution_count": 20,
   "id": "17ebb28f",
   "metadata": {},
   "outputs": [
    {
     "name": "stderr",
     "output_type": "stream",
     "text": [
      "C:\\Users\\User\\AppData\\Local\\Temp\\ipykernel_22740\\984575968.py:1: FutureWarning: `tokenizer` is deprecated and will be removed in version 5.0.0 for `Trainer.__init__`. Use `processing_class` instead.\n",
      "  trainer = Trainer(\n",
      "C:\\Users\\User\\AppData\\Roaming\\Python\\Python311\\site-packages\\torch\\utils\\data\\dataloader.py:666: UserWarning: 'pin_memory' argument is set as true but no accelerator is found, then device pinned memory won't be used.\n",
      "  warnings.warn(warn_msg)\n"
     ]
    },
    {
     "data": {
      "text/html": [
       "\n",
       "    <div>\n",
       "      \n",
       "      <progress value='1173' max='1173' style='width:300px; height:20px; vertical-align: middle;'></progress>\n",
       "      [1173/1173 14:00:28, Epoch 3/3]\n",
       "    </div>\n",
       "    <table border=\"1\" class=\"dataframe\">\n",
       "  <thead>\n",
       " <tr style=\"text-align: left;\">\n",
       "      <th>Epoch</th>\n",
       "      <th>Training Loss</th>\n",
       "      <th>Validation Loss</th>\n",
       "      <th>Accuracy</th>\n",
       "      <th>F1</th>\n",
       "      <th>Precision</th>\n",
       "      <th>Recall</th>\n",
       "    </tr>\n",
       "  </thead>\n",
       "  <tbody>\n",
       "    <tr>\n",
       "      <td>1</td>\n",
       "      <td>No log</td>\n",
       "      <td>0.696238</td>\n",
       "      <td>0.678358</td>\n",
       "      <td>0.425088</td>\n",
       "      <td>0.794384</td>\n",
       "      <td>0.431369</td>\n",
       "    </tr>\n",
       "    <tr>\n",
       "      <td>2</td>\n",
       "      <td>0.746000</td>\n",
       "      <td>0.655312</td>\n",
       "      <td>0.711194</td>\n",
       "      <td>0.601812</td>\n",
       "      <td>0.648322</td>\n",
       "      <td>0.577742</td>\n",
       "    </tr>\n",
       "    <tr>\n",
       "      <td>3</td>\n",
       "      <td>0.515400</td>\n",
       "      <td>0.713067</td>\n",
       "      <td>0.712687</td>\n",
       "      <td>0.622946</td>\n",
       "      <td>0.628478</td>\n",
       "      <td>0.618224</td>\n",
       "    </tr>\n",
       "  </tbody>\n",
       "</table><p>"
      ],
      "text/plain": [
       "<IPython.core.display.HTML object>"
      ]
     },
     "metadata": {},
     "output_type": "display_data"
    },
    {
     "name": "stderr",
     "output_type": "stream",
     "text": [
      "C:\\Users\\User\\AppData\\Roaming\\Python\\Python311\\site-packages\\torch\\utils\\data\\dataloader.py:666: UserWarning: 'pin_memory' argument is set as true but no accelerator is found, then device pinned memory won't be used.\n",
      "  warnings.warn(warn_msg)\n",
      "C:\\Users\\User\\AppData\\Roaming\\Python\\Python311\\site-packages\\torch\\utils\\data\\dataloader.py:666: UserWarning: 'pin_memory' argument is set as true but no accelerator is found, then device pinned memory won't be used.\n",
      "  warnings.warn(warn_msg)\n"
     ]
    },
    {
     "data": {
      "text/plain": [
       "TrainOutput(global_step=1173, training_loss=0.5976742860707888, metrics={'train_runtime': 50473.5947, 'train_samples_per_second': 0.372, 'train_steps_per_second': 0.023, 'total_flos': 1234330820916480.0, 'train_loss': 0.5976742860707888, 'epoch': 3.0})"
      ]
     },
     "execution_count": 20,
     "metadata": {},
     "output_type": "execute_result"
    }
   ],
   "source": [
    "trainer = Trainer(\n",
    "    model=model,\n",
    "    args=training_args,\n",
    "    train_dataset=train_dataset,\n",
    "    eval_dataset=val_dataset,\n",
    "    tokenizer=tokenizer,\n",
    "    compute_metrics=compute_metrics,\n",
    "    \n",
    ")\n",
    "\n",
    "trainer.train()\n"
   ]
  },
  {
   "cell_type": "markdown",
   "id": "3dd3497a",
   "metadata": {},
   "source": [
    "# Training Output \n",
    "\n",
    "### **Global Step**\n",
    "- **Value:** `1173`  \n",
    "- Represents the total number of update steps completed during training.  \n",
    "- Each step usually corresponds to one batch of training data.\n",
    "\n",
    "---\n",
    "\n",
    "### **Training Loss**\n",
    "- **Value:** `0.5976742860707888`  \n",
    "- The final average training loss after all epochs.  \n",
    "- Lower values generally indicate better fitting of the model to the training data.\n",
    "\n",
    "---\n",
    "\n",
    "### **Metrics**\n",
    "\n",
    "1. **Train Runtime**\n",
    "   - **Value:** `50473.5947` seconds (~14 hours)  \n",
    "   - The total time taken for the entire training process.\n",
    "\n",
    "2. **Train Samples per Second**\n",
    "   - **Value:** `0.372` samples/sec  \n",
    "   - The throughput: how many training samples the model processed each second.  \n",
    "   - Low values usually indicate that the training setup is computationally heavy.\n",
    "\n",
    "3. **Train Steps per Second**\n",
    "   - **Value:** `0.023` steps/sec  \n",
    "   - The number of optimizer update steps per second.  \n",
    "   - Reflects how fast batches are processed.\n",
    "\n",
    "4. **Total FLOPs**\n",
    "   - **Value:** `1.23433082091648e+15`  \n",
    "   - Estimated number of floating-point operations performed during training.  \n",
    "   - This shows the computational cost.\n",
    "\n",
    "5. **Train Loss**\n",
    "   - **Value:** `0.5976742860707888`  \n",
    "   - Duplicate of the training loss (for convenience in the metrics dictionary).  \n",
    "\n",
    "6. **Epoch**\n",
    "   - **Value:** `3.0`  \n",
    "   - Total number of times the entire dataset was passed through the model.\n",
    "\n",
    "---\n",
    "\n",
    "### **Summary**\n",
    "- The model was trained for **3 epochs**.  \n",
    "- It completed **1173 steps** in ~14 hours.  \n",
    "- The average loss is **~0.598**, showing moderate performance.  \n",
    "- Training speed is **very low (0.372 samples/sec)**, suggesting opportunities to optimize the training process (e.g., smaller model, mixed precision training, smaller batch size, or GPU acceleration).\n",
    "\n",
    "---\n"
   ]
  },
  {
   "cell_type": "markdown",
   "id": "7c971c68",
   "metadata": {},
   "source": [
    "### "
   ]
  },
  {
   "cell_type": "code",
   "execution_count": 23,
   "id": "2f9f5a5c",
   "metadata": {},
   "outputs": [
    {
     "name": "stderr",
     "output_type": "stream",
     "text": [
      "C:\\Users\\User\\AppData\\Roaming\\Python\\Python311\\site-packages\\torch\\utils\\data\\dataloader.py:666: UserWarning: 'pin_memory' argument is set as true but no accelerator is found, then device pinned memory won't be used.\n",
      "  warnings.warn(warn_msg)\n"
     ]
    },
    {
     "data": {
      "text/html": [
       "\n",
       "    <div>\n",
       "      \n",
       "      <progress value='84' max='84' style='width:300px; height:20px; vertical-align: middle;'></progress>\n",
       "      [84/84 11:58]\n",
       "    </div>\n",
       "    "
      ],
      "text/plain": [
       "<IPython.core.display.HTML object>"
      ]
     },
     "metadata": {},
     "output_type": "display_data"
    },
    {
     "name": "stdout",
     "output_type": "stream",
     "text": [
      "{'eval_loss': 0.6717896461486816, 'eval_accuracy': 0.7307979120059657, 'eval_f1': 0.6152632572431611, 'eval_precision': 0.6755409572886318, 'eval_recall': 0.5892976072524452, 'eval_runtime': 727.4195, 'eval_samples_per_second': 1.844, 'eval_steps_per_second': 0.115, 'epoch': 3.0}\n"
     ]
    }
   ],
   "source": [
    "results = trainer.evaluate(test_dataset)\n",
    "print(results)\n"
   ]
  },
  {
   "cell_type": "markdown",
   "id": "1f6c7bdb",
   "metadata": {},
   "source": [
    "##  Model Evaluation Summary (Epoch 3)\n",
    "\n",
    "- **Loss**: `0.67` → Model still makes some errors, but acceptable for text classification.\n",
    "- **Accuracy**: **73.1%** → About 73% of predictions were correct.\n",
    "- **F1 Score**: **0.62** → Balanced precision/recall performance; moderate overall.\n",
    "- **Precision**: **0.68** → When the model predicts a label, it is correct ~68% of the time.\n",
    "- **Recall**: **0.59** → Captures ~59% of the true labels (misses some).\n",
    "- **Runtime**: **727s (~12 minutes)**  \n",
    "  - ~**1.84 samples/sec**  \n",
    "  - ~**0.12 steps/sec**\n",
    "\n",
    "---\n",
    "\n",
    "###  Interpretation\n",
    "- Model is **more precise than sensitive** (higher precision than recall).  \n",
    "- Accuracy (73%) is solid, but recall (59%) shows it misses some cases.  \n",
    "- F1 score (0.62) reflects **moderate performance** — decent baseline but improvable.  \n",
    "\n",
    "---\n",
    "\n",
    "  \n"
   ]
  },
  {
   "cell_type": "markdown",
   "id": "284e1cb6",
   "metadata": {},
   "source": [
    " ----"
   ]
  },
  {
   "cell_type": "markdown",
   "id": "25b74385",
   "metadata": {},
   "source": [
    "###  1. Load the saved model"
   ]
  },
  {
   "cell_type": "code",
   "execution_count": null,
   "id": "fdc5bc65",
   "metadata": {},
   "outputs": [],
   "source": [
    "import joblib\n",
    "\n",
    "# Load the saved model\n",
    "best_model = joblib.load(\"best_model.pkl\")\n"
   ]
  },
  {
   "cell_type": "markdown",
   "id": "999a0ce7",
   "metadata": {},
   "source": [
    "###  2. Run on test data"
   ]
  },
  {
   "cell_type": "code",
   "execution_count": null,
   "id": "3063f2bc",
   "metadata": {},
   "outputs": [],
   "source": [
    "# Predict on test set\n",
    "y_pred = best_model.predict(X_test)\n",
    "\n",
    "# Evaluate performance\n",
    "from sklearn.metrics import classification_report, f1_score, accuracy_score\n",
    "\n",
    "print(\"Accuracy:\", accuracy_score(y_test, y_pred))\n",
    "print(\"Macro F1:\", f1_score(y_test, y_pred, average=\"macro\"))\n",
    "print(\"\\nClassification Report:\\n\", classification_report(y_test, y_pred))\n"
   ]
  },
  {
   "cell_type": "markdown",
   "id": "574c3622",
   "metadata": {},
   "source": [
    "### 3. Predict on new unseen data"
   ]
  },
  {
   "cell_type": "code",
   "execution_count": null,
   "id": "32aa5e51",
   "metadata": {},
   "outputs": [],
   "source": [
    "new_texts = [\n",
    "    \"I really love this product!\", \n",
    "    \"This is terrible, I hate it.\"\n",
    "]\n",
    "\n",
    "predictions = best_model.predict(new_texts)\n",
    "\n",
    "print(predictions)\n"
   ]
  }
 ],
 "metadata": {
  "kernelspec": {
   "display_name": "base",
   "language": "python",
   "name": "python3"
  },
  "language_info": {
   "codemirror_mode": {
    "name": "ipython",
    "version": 3
   },
   "file_extension": ".py",
   "mimetype": "text/x-python",
   "name": "python",
   "nbconvert_exporter": "python",
   "pygments_lexer": "ipython3",
   "version": "3.11.7"
  }
 },
 "nbformat": 4,
 "nbformat_minor": 5
}
