{
 "cells": [
  {
   "cell_type": "markdown",
   "id": "8b0e2352",
   "metadata": {},
   "source": [
    "# **Binary Classification**\n",
    "In this notebook, we are performing binary classifications on the tweets, focusing on the `negative` and `positive` records. This step is important to our project as it will help us work with the specified classes marking a milestone before we engage other classes.\n",
    "\n",
    "The activities in the notebook will include;\n",
    "- Importing relevant packages and loading the dataset\n",
    "\n",
    "- Choosing relevant columns and splitting them into train, test and validation sets.\n",
    "\n",
    "- Feature engineering.\n",
    "\n",
    "- Training binary classification models.\n",
    "\n",
    "## **Initial preparation**\n",
    "In this step, we are importing the relevant packages and basically preparaing our data before we begin training our models.\n",
    "\n",
    "### *Import Relevant Libraries*"
   ]
  },
  {
   "cell_type": "code",
   "execution_count": 1,
   "id": "9ce9c1f4",
   "metadata": {},
   "outputs": [],
   "source": [
    "# Import relevant packages\n",
    "import pandas as pd\n",
    "from xgboost import XGBClassifier\n",
    "from sklearn.svm import LinearSVC\n",
    "import matplotlib.pyplot as plt\n",
    "import seaborn as sns\n",
    "from sklearn.pipeline import Pipeline\n",
    "from imblearn.over_sampling import SMOTE\n",
    "from sklearn.linear_model import LogisticRegression\n",
    "from sklearn.model_selection import train_test_split, GridSearchCV\n",
    "from imblearn.pipeline import Pipeline as ImbPipeline\n",
    "from sklearn.feature_extraction.text import TfidfVectorizer\n",
    "from sklearn.metrics import classification_report, confusion_matrix, accuracy_score, roc_curve, roc_auc_score\n",
    "from sklearn.ensemble import RandomForestClassifier, GradientBoostingClassifier"
   ]
  },
  {
   "cell_type": "code",
   "execution_count": 16,
   "id": "5068462e",
   "metadata": {},
   "outputs": [
    {
     "data": {
      "application/vnd.microsoft.datawrangler.viewer.v0+json": {
       "columns": [
        {
         "name": "index",
         "rawType": "int64",
         "type": "integer"
        },
        {
         "name": "tweet",
         "rawType": "object",
         "type": "string"
        },
        {
         "name": "emotion",
         "rawType": "object",
         "type": "string"
        },
        {
         "name": "product_filled",
         "rawType": "object",
         "type": "string"
        },
        {
         "name": "cleaned_tweets",
         "rawType": "object",
         "type": "string"
        },
        {
         "name": "text_length",
         "rawType": "int64",
         "type": "integer"
        }
       ],
       "ref": "d1f89a99-5fcb-4c69-8205-15c7f0fe0910",
       "rows": [
        [
         "0",
         ".@wesley83 i have a 3g iphone. after 3 hrs tweeting at #rise_austin, it was dead! i need to upgrade. plugin stations at #sxsw.",
         "negative",
         "iphone",
         "3g iphone 3 hrs tweeting rise_austin dead need upgrade plugin stations sxsw",
         "12"
        ],
        [
         "1",
         "@jessedee know about @fludapp ? awesome ipad/iphone app that you'll likely appreciate for its design. also, they're giving free ts at #sxsw",
         "positive",
         "ipad or iphone app",
         "know awesome ipadiphone app youll likely appreciate design also theyre giving free ts sxsw",
         "14"
        ],
        [
         "2",
         "@swonderlin can not wait for #ipad 2 also. they should sale them down at #sxsw.",
         "positive",
         "ipad",
         "wait ipad 2 also sale sxsw",
         "6"
        ],
        [
         "3",
         "@sxsw i hope this year's festival isn't as crashy as this year's iphone app. #sxsw",
         "negative",
         "ipad or iphone app",
         "hope years festival isnt crashy years iphone app sxsw",
         "9"
        ],
        [
         "4",
         "@sxtxstate great stuff on fri #sxsw: marissa mayer (google), tim o'reilly (tech books/conferences) &amp; matt mullenweg (wordpress)",
         "positive",
         "google",
         "great stuff fri sxsw marissa mayer google tim oreilly tech booksconferences amp matt mullenweg wordpress",
         "15"
        ]
       ],
       "shape": {
        "columns": 5,
        "rows": 5
       }
      },
      "text/html": [
       "<div>\n",
       "<style scoped>\n",
       "    .dataframe tbody tr th:only-of-type {\n",
       "        vertical-align: middle;\n",
       "    }\n",
       "\n",
       "    .dataframe tbody tr th {\n",
       "        vertical-align: top;\n",
       "    }\n",
       "\n",
       "    .dataframe thead th {\n",
       "        text-align: right;\n",
       "    }\n",
       "</style>\n",
       "<table border=\"1\" class=\"dataframe\">\n",
       "  <thead>\n",
       "    <tr style=\"text-align: right;\">\n",
       "      <th></th>\n",
       "      <th>tweet</th>\n",
       "      <th>emotion</th>\n",
       "      <th>product_filled</th>\n",
       "      <th>cleaned_tweets</th>\n",
       "      <th>text_length</th>\n",
       "    </tr>\n",
       "  </thead>\n",
       "  <tbody>\n",
       "    <tr>\n",
       "      <th>0</th>\n",
       "      <td>.@wesley83 i have a 3g iphone. after 3 hrs twe...</td>\n",
       "      <td>negative</td>\n",
       "      <td>iphone</td>\n",
       "      <td>3g iphone 3 hrs tweeting rise_austin dead need...</td>\n",
       "      <td>12</td>\n",
       "    </tr>\n",
       "    <tr>\n",
       "      <th>1</th>\n",
       "      <td>@jessedee know about @fludapp ? awesome ipad/i...</td>\n",
       "      <td>positive</td>\n",
       "      <td>ipad or iphone app</td>\n",
       "      <td>know awesome ipadiphone app youll likely appre...</td>\n",
       "      <td>14</td>\n",
       "    </tr>\n",
       "    <tr>\n",
       "      <th>2</th>\n",
       "      <td>@swonderlin can not wait for #ipad 2 also. the...</td>\n",
       "      <td>positive</td>\n",
       "      <td>ipad</td>\n",
       "      <td>wait ipad 2 also sale sxsw</td>\n",
       "      <td>6</td>\n",
       "    </tr>\n",
       "    <tr>\n",
       "      <th>3</th>\n",
       "      <td>@sxsw i hope this year's festival isn't as cra...</td>\n",
       "      <td>negative</td>\n",
       "      <td>ipad or iphone app</td>\n",
       "      <td>hope years festival isnt crashy years iphone a...</td>\n",
       "      <td>9</td>\n",
       "    </tr>\n",
       "    <tr>\n",
       "      <th>4</th>\n",
       "      <td>@sxtxstate great stuff on fri #sxsw: marissa m...</td>\n",
       "      <td>positive</td>\n",
       "      <td>google</td>\n",
       "      <td>great stuff fri sxsw marissa mayer google tim ...</td>\n",
       "      <td>15</td>\n",
       "    </tr>\n",
       "  </tbody>\n",
       "</table>\n",
       "</div>"
      ],
      "text/plain": [
       "                                               tweet   emotion  \\\n",
       "0  .@wesley83 i have a 3g iphone. after 3 hrs twe...  negative   \n",
       "1  @jessedee know about @fludapp ? awesome ipad/i...  positive   \n",
       "2  @swonderlin can not wait for #ipad 2 also. the...  positive   \n",
       "3  @sxsw i hope this year's festival isn't as cra...  negative   \n",
       "4  @sxtxstate great stuff on fri #sxsw: marissa m...  positive   \n",
       "\n",
       "       product_filled                                     cleaned_tweets  \\\n",
       "0              iphone  3g iphone 3 hrs tweeting rise_austin dead need...   \n",
       "1  ipad or iphone app  know awesome ipadiphone app youll likely appre...   \n",
       "2                ipad                         wait ipad 2 also sale sxsw   \n",
       "3  ipad or iphone app  hope years festival isnt crashy years iphone a...   \n",
       "4              google  great stuff fri sxsw marissa mayer google tim ...   \n",
       "\n",
       "   text_length  \n",
       "0           12  \n",
       "1           14  \n",
       "2            6  \n",
       "3            9  \n",
       "4           15  "
      ]
     },
     "execution_count": 16,
     "metadata": {},
     "output_type": "execute_result"
    }
   ],
   "source": [
    "# Load dataset\n",
    "text_cleaned = pd.read_csv(\"../../assets/Cleaned_Tweets.csv\")\n",
    "\n",
    "# Preview the first 5 rows\n",
    "text_cleaned.head()                   "
   ]
  },
  {
   "cell_type": "markdown",
   "id": "d99ee7eb",
   "metadata": {},
   "source": [
    "As we are performing binary classification in this notebook, in the next cell we are filtering the dataset to remain with records with `positive` and `negative` emotions."
   ]
  },
  {
   "cell_type": "code",
   "execution_count": 3,
   "id": "37b59da3",
   "metadata": {},
   "outputs": [
    {
     "data": {
      "application/vnd.microsoft.datawrangler.viewer.v0+json": {
       "columns": [
        {
         "name": "index",
         "rawType": "int64",
         "type": "integer"
        },
        {
         "name": "tweet",
         "rawType": "object",
         "type": "string"
        },
        {
         "name": "emotion",
         "rawType": "object",
         "type": "string"
        },
        {
         "name": "product_filled",
         "rawType": "object",
         "type": "unknown"
        },
        {
         "name": "cleaned_tweets",
         "rawType": "object",
         "type": "string"
        },
        {
         "name": "text_length",
         "rawType": "int64",
         "type": "integer"
        }
       ],
       "ref": "ef67acd8-45a7-4081-9d9f-dec73fe62e8f",
       "rows": [
        [
         "0",
         ".@wesley83 i have a 3g iphone. after 3 hrs tweeting at #rise_austin, it was dead! i need to upgrade. plugin stations at #sxsw.",
         "negative",
         "iphone",
         "3g iphone 3 hrs tweeting rise_austin dead need upgrade plugin stations sxsw",
         "12"
        ],
        [
         "1",
         "@jessedee know about @fludapp ? awesome ipad/iphone app that you'll likely appreciate for its design. also, they're giving free ts at #sxsw",
         "positive",
         "ipad or iphone app",
         "know awesome ipadiphone app youll likely appreciate design also theyre giving free ts sxsw",
         "14"
        ],
        [
         "2",
         "@swonderlin can not wait for #ipad 2 also. they should sale them down at #sxsw.",
         "positive",
         "ipad",
         "wait ipad 2 also sale sxsw",
         "6"
        ],
        [
         "3",
         "@sxsw i hope this year's festival isn't as crashy as this year's iphone app. #sxsw",
         "negative",
         "ipad or iphone app",
         "hope years festival isnt crashy years iphone app sxsw",
         "9"
        ],
        [
         "4",
         "@sxtxstate great stuff on fri #sxsw: marissa mayer (google), tim o'reilly (tech books/conferences) &amp; matt mullenweg (wordpress)",
         "positive",
         "google",
         "great stuff fri sxsw marissa mayer google tim oreilly tech booksconferences amp matt mullenweg wordpress",
         "15"
        ],
        [
         "6",
         "#sxsw is just starting, #ctia is around the corner and #googleio is only a hop skip and a jump from there, good time to be an #android fan",
         "positive",
         "android",
         "sxsw starting ctia around corner googleio hop skip jump good time android fan",
         "13"
        ],
        [
         "7",
         "beautifully smart and simple idea rt @madebymany @thenextweb wrote about our #hollergram ipad app for #sxsw! http://bit.ly/ieavob",
         "positive",
         "ipad or iphone app",
         "beautifully smart simple idea rt wrote hollergram ipad app sxsw",
         "10"
        ],
        [
         "8",
         "counting down the days to #sxsw plus strong canadian dollar means stock up on apple gear",
         "positive",
         "apple",
         "counting days sxsw plus strong canadian dollar means stock apple gear",
         "11"
        ],
        [
         "9",
         "excited to meet the @samsungmobileus at #sxsw so i can show them my sprint galaxy s still running android 2.1. #fail",
         "positive",
         "android",
         "excited meet sxsw show sprint galaxy still running android 21 fail",
         "11"
        ],
        [
         "10",
         "find &amp; start impromptu parties at #sxsw with @hurricaneparty http://bit.ly/gvlrin i can't wait til the android app comes out.",
         "positive",
         "android app",
         "find amp start impromptu parties sxsw cant wait til android app comes",
         "12"
        ],
        [
         "11",
         "foursquare ups the game, just in time for #sxsw http://j.mp/grn7pk) - still prefer @gowalla by far, best looking android app to date.",
         "positive",
         "android app",
         "foursquare ups game time sxsw still prefer far best looking android app date",
         "13"
        ],
        [
         "12",
         "gotta love this #sxsw google calendar featuring top parties/ show cases to check out. rt @hamsandwich via @ischafer =&gt;http://bit.ly/axzwxb",
         "positive",
         "other google product or service",
         "got ta love sxsw google calendar featuring top parties show cases check rt via gt",
         "15"
        ],
        [
         "13",
         "great #sxsw ipad app from @madebymany: http://tinyurl.com/4nqv92l",
         "positive",
         "ipad or iphone app",
         "great sxsw ipad app",
         "4"
        ],
        [
         "14",
         "haha, awesomely rad ipad app by @madebymany http://bit.ly/htdfim #hollergram #sxsw",
         "positive",
         "ipad or iphone app",
         "haha awesomely rad ipad app hollergram sxsw",
         "7"
        ],
        [
         "16",
         "i just noticed dst is coming this weekend. how many iphone users will be an hour late at sxsw come sunday morning? #sxsw #iphone",
         "negative",
         "iphone",
         "noticed dst coming weekend many iphone users hour late sxsw come sunday morning sxsw iphone",
         "15"
        ],
        [
         "17",
         "just added my #sxsw flights to @planely. matching people on planes/airports. also downloaded the @klm iphone app, nicely done.",
         "positive",
         "ipad or iphone app",
         "added sxsw flights matching people planesairports also downloaded iphone app nicely done",
         "12"
        ],
        [
         "18",
         "must have #sxsw app! rt @malbonster: lovely review from forbes for our sxsw ipad app holler gram - http://t.co/g4gzypv",
         "positive",
         "ipad or iphone app",
         "must sxsw app rt lovely review forbes sxsw ipad app holler gram",
         "12"
        ],
        [
         "19",
         "need to buy an ipad2 while i'm in austin at #sxsw. not sure if i'll need to q up at an austin apple store?",
         "positive",
         "ipad",
         "need buy ipad2 im austin sxsw sure ill need q austin apple store",
         "13"
        ],
        [
         "20",
         "oh. my. god. the #sxsw app for ipad is pure, unadulterated awesome. it's easier to browse events on ipad than on the website!!!",
         "positive",
         "ipad or iphone app",
         "oh god sxsw app ipad pure unadulterated awesome easier browse events ipad website",
         "13"
        ],
        [
         "21",
         "okay, this is really it: yay new @foursquare for #android app!!!!11 kthxbai. #sxsw",
         "positive",
         "android app",
         "okay really yay new android app11 kthxbai sxsw",
         "8"
        ],
        [
         "22",
         "photo: just installed the #sxsw iphone app, which is really nice! http://tumblr.com/x6t1pi6av7",
         "positive",
         "ipad or iphone app",
         "photo installed sxsw iphone app really nice",
         "7"
        ],
        [
         "23",
         "really enjoying the changes in gowalla 3.0 for android! looking forward to seeing what else they &amp; foursquare have up their sleeves at #sxsw",
         "positive",
         "android app",
         "really enjoying changes gowalla 30 android looking forward seeing else amp foursquare sleeves sxsw",
         "14"
        ],
        [
         "24",
         "rt @laurieshook: i'm looking forward to the #smcdallas pre #sxsw party wed., and hoping i'll win an #ipad resulting from my shameless promotion. #chevysmc",
         "positive",
         "ipad",
         "rt im looking forward smcdallas pre sxsw party wed hoping ill win ipad resulting shameless promotion chevysmc",
         "17"
        ],
        [
         "25",
         "rt haha, awesomely rad ipad app by @madebymany http://bit.ly/htdfim #hollergram #sxsw (via @michaelpiliero)",
         "positive",
         "ipad or iphone app",
         "rt haha awesomely rad ipad app hollergram sxsw via",
         "9"
        ],
        [
         "26",
         "someone started an #austin @partnerhub group in google groups, pre-#sxsw. great idea",
         "positive",
         "other google product or service",
         "someone started austin group google groups presxsw great idea",
         "9"
        ],
        [
         "27",
         "the new #4sq3 looks like it is going to rock. update for iphone and android should push tonight http://bit.ly/etsbzk #sxsw #keepaustinweird",
         "positive",
         "ipad or iphone app",
         "new 4sq3 looks like going rock update iphone android push tonight sxsw keepaustinweird",
         "13"
        ],
        [
         "28",
         "they were right, the @gowalla 3 app on #android is sweeeeet! nice job by the team there. #sxsw",
         "positive",
         "android app",
         "right 3 app android sweeeeet nice job team sxsw",
         "9"
        ],
        [
         "29",
         "very smart from @madebymany #hollergram ipad app for #sxsw! http://t.co/a3xvwc6 (may leave my vuvuzela at home now)",
         "positive",
         "ipad or iphone app",
         "smart hollergram ipad app sxsw may leave vuvuzela home",
         "9"
        ],
        [
         "30",
         "you must have this app for your ipad if you are going to #sxsw http://itunes.apple.com/us/app/holler-gram/id420666439?mt=8 #hollergram",
         "positive",
         "ipad or iphone app",
         "must app ipad going sxsw hollergram",
         "6"
        ],
        [
         "35",
         "the best! rt @mention ha! first in line for #ipad2 at #sxsw &quot;pop-up&quot; apple store was an event planner #eventprofs #pcma #engage365",
         "positive",
         "ipad",
         "best rt ha first line ipad2 sxsw quotpopupquot apple store event planner eventprofs pcma engage365",
         "15"
        ],
        [
         "37",
         "@mention - false alarm: google circles not coming nowûòand probably not ever? - {link} #google #circles #social #sxsw",
         "negative",
         "google",
         "false alarm google circles coming nowûòand probably ever link google circles social sxsw",
         "13"
        ],
        [
         "39",
         "@mention - great weather to greet you for #sxsw! still need a sweater at night..apple putting up &quot;flash store&quot; downtown to sell ipad2",
         "positive",
         "apple",
         "great weather greet sxsw still need sweater nightapple putting quotflash storequot downtown sell ipad2",
         "14"
        ],
        [
         "44",
         "#ipad2 's û÷#smartcoverûª opens to instant access - i should have waited to get one! - {link} #apple #sxsw",
         "positive",
         "ipad or iphone app",
         "ipad2 ûsmartcoverûª opens instant access waited get one link apple sxsw",
         "11"
        ],
        [
         "45",
         "hand-held û÷hoboûª: drafthouse launches û÷hobo with a shotgunûª iphone app #sxsw {link}",
         "positive",
         "iphone",
         "handheld ûhoboûª drafthouse launches ûhobo shotgunûª iphone app sxsw link",
         "10"
        ],
        [
         "46",
         "hooray rt ûï@mention apple is opening a pop-up store in austin for #sxsw | @mention {link}",
         "positive",
         "apple",
         "hooray rt ûï apple opening popup store austin sxsw link",
         "10"
        ],
        [
         "48",
         "wooooo!!! ûï@mention apple store downtown austin open til midnight. #sxswû",
         "positive",
         "apple",
         "wooooo ûï apple store downtown austin open til midnight sxswû",
         "10"
        ],
        [
         "54",
         "ûï@mention @mention talking about {link} - google's effort to allow users to have open systems #bettercloud #sxswû",
         "positive",
         "google",
         "ûï talking link googles effort allow users open systems bettercloud sxswû",
         "11"
        ],
        [
         "56",
         "{link} rt @mention 1st stop on the #sxsw #chaos &amp; @mention hunt: austin java. get in the spy game 4 a chance 2 win an ipad!",
         "positive",
         "ipad",
         "link rt 1st stop sxsw chaos amp hunt austin java get spy game 4 chance 2 win ipad",
         "18"
        ],
        [
         "61",
         "#omfg! rt @mention heard about apple's pop-up store in downtown austin? pics are already on gowalla: {link} #sxsw #ipad2",
         "positive",
         "apple",
         "omfg rt heard apples popup store downtown austin pics already gowalla link sxsw ipad2",
         "14"
        ],
        [
         "63",
         "again? rt @mention line at the apple store is insane.. #sxsw",
         "negative",
         "apple",
         "rt line apple store insane sxsw",
         "6"
        ],
        [
         "66",
         "attending @mention ipad design headaches #sxsw {link}",
         "negative",
         "ipad",
         "attending ipad design headaches sxsw link",
         "6"
        ],
        [
         "67",
         "boooo! rt @mention flipboard is developing an iphone version, not android, says @mention #sxsw",
         "negative",
         "iphone",
         "boooo rt flipboard developing iphone version android says sxsw",
         "9"
        ],
        [
         "68",
         "check out @mention @mention &amp; @mention in line for their ipad 2 in austin. power to them! #sxswi #sxsw {link}",
         "positive",
         "ipad",
         "check amp line ipad 2 austin power sxswi sxsw link",
         "10"
        ],
        [
         "71",
         "do it. rt @mention come party w/ google tonight at #sxsw! {link} - bands, food, art, ice cream, nifty interactive maps!",
         "positive",
         "google",
         "rt come party w google tonight sxsw link bands food art ice cream nifty interactive maps",
         "16"
        ],
        [
         "74",
         "holla! rt @mention at google party. best ever! get your butt over here. #sxsw",
         "positive",
         "google",
         "holla rt google party best ever get butt sxsw",
         "9"
        ],
        [
         "75",
         "i love my @mention iphone case from #sxsw but i can't get my phone out of it #fail",
         "positive",
         "iphone",
         "love iphone case sxsw cant get phone fail",
         "8"
        ],
        [
         "79",
         "new post: @mention iphone app makes it easy to connect on all social networks with people you meet {link} #sxsw",
         "positive",
         "ipad or iphone app",
         "new post iphone app makes easy connect social networks people meet link sxsw",
         "13"
        ],
        [
         "80",
         "nice that @mention iphone app is behaving today. crashes yesterday were ridiculous. #sxsw",
         "positive",
         "ipad or iphone app",
         "nice iphone app behaving today crashes yesterday ridiculous sxsw",
         "9"
        ],
        [
         "82",
         "nice!! rt @mention hey, apple fans! get a peek at the space that's slated to be a pop-up #sxsw apple store tomorrow: {link}",
         "positive",
         "apple",
         "nice rt hey apple fans get peek space thats slated popup sxsw apple store tomorrow link",
         "16"
        ],
        [
         "83",
         "one thing @mention is doing so great is get a great, down to earth face to google as a company - you can only love her #sxsw #sxwsi",
         "positive",
         "google",
         "one thing great get great earth face google company love sxsw sxwsi",
         "12"
        ]
       ],
       "shape": {
        "columns": 5,
        "rows": 3548
       }
      },
      "text/html": [
       "<div>\n",
       "<style scoped>\n",
       "    .dataframe tbody tr th:only-of-type {\n",
       "        vertical-align: middle;\n",
       "    }\n",
       "\n",
       "    .dataframe tbody tr th {\n",
       "        vertical-align: top;\n",
       "    }\n",
       "\n",
       "    .dataframe thead th {\n",
       "        text-align: right;\n",
       "    }\n",
       "</style>\n",
       "<table border=\"1\" class=\"dataframe\">\n",
       "  <thead>\n",
       "    <tr style=\"text-align: right;\">\n",
       "      <th></th>\n",
       "      <th>tweet</th>\n",
       "      <th>emotion</th>\n",
       "      <th>product_filled</th>\n",
       "      <th>cleaned_tweets</th>\n",
       "      <th>text_length</th>\n",
       "    </tr>\n",
       "  </thead>\n",
       "  <tbody>\n",
       "    <tr>\n",
       "      <th>0</th>\n",
       "      <td>.@wesley83 i have a 3g iphone. after 3 hrs twe...</td>\n",
       "      <td>negative</td>\n",
       "      <td>iphone</td>\n",
       "      <td>3g iphone 3 hrs tweeting rise_austin dead need...</td>\n",
       "      <td>12</td>\n",
       "    </tr>\n",
       "    <tr>\n",
       "      <th>1</th>\n",
       "      <td>@jessedee know about @fludapp ? awesome ipad/i...</td>\n",
       "      <td>positive</td>\n",
       "      <td>ipad or iphone app</td>\n",
       "      <td>know awesome ipadiphone app youll likely appre...</td>\n",
       "      <td>14</td>\n",
       "    </tr>\n",
       "    <tr>\n",
       "      <th>2</th>\n",
       "      <td>@swonderlin can not wait for #ipad 2 also. the...</td>\n",
       "      <td>positive</td>\n",
       "      <td>ipad</td>\n",
       "      <td>wait ipad 2 also sale sxsw</td>\n",
       "      <td>6</td>\n",
       "    </tr>\n",
       "    <tr>\n",
       "      <th>3</th>\n",
       "      <td>@sxsw i hope this year's festival isn't as cra...</td>\n",
       "      <td>negative</td>\n",
       "      <td>ipad or iphone app</td>\n",
       "      <td>hope years festival isnt crashy years iphone a...</td>\n",
       "      <td>9</td>\n",
       "    </tr>\n",
       "    <tr>\n",
       "      <th>4</th>\n",
       "      <td>@sxtxstate great stuff on fri #sxsw: marissa m...</td>\n",
       "      <td>positive</td>\n",
       "      <td>google</td>\n",
       "      <td>great stuff fri sxsw marissa mayer google tim ...</td>\n",
       "      <td>15</td>\n",
       "    </tr>\n",
       "  </tbody>\n",
       "</table>\n",
       "</div>"
      ],
      "text/plain": [
       "                                               tweet   emotion  \\\n",
       "0  .@wesley83 i have a 3g iphone. after 3 hrs twe...  negative   \n",
       "1  @jessedee know about @fludapp ? awesome ipad/i...  positive   \n",
       "2  @swonderlin can not wait for #ipad 2 also. the...  positive   \n",
       "3  @sxsw i hope this year's festival isn't as cra...  negative   \n",
       "4  @sxtxstate great stuff on fri #sxsw: marissa m...  positive   \n",
       "\n",
       "       product_filled                                     cleaned_tweets  \\\n",
       "0              iphone  3g iphone 3 hrs tweeting rise_austin dead need...   \n",
       "1  ipad or iphone app  know awesome ipadiphone app youll likely appre...   \n",
       "2                ipad                         wait ipad 2 also sale sxsw   \n",
       "3  ipad or iphone app  hope years festival isnt crashy years iphone a...   \n",
       "4              google  great stuff fri sxsw marissa mayer google tim ...   \n",
       "\n",
       "   text_length  \n",
       "0           12  \n",
       "1           14  \n",
       "2            6  \n",
       "3            9  \n",
       "4           15  "
      ]
     },
     "execution_count": 3,
     "metadata": {},
     "output_type": "execute_result"
    }
   ],
   "source": [
    "# Filter the dataset to remain with negative and positive emotion\n",
    "binary_df = text_cleaned[text_cleaned[\"emotion\"].isin(['positive', 'negative'])]\n",
    "\n",
    "# Preview filtered data\n",
    "binary_df.head()"
   ]
  },
  {
   "cell_type": "markdown",
   "id": "5c68ce9d",
   "metadata": {},
   "source": [
    "### *Preprocessing*\n",
    "After successfully separating the data to remain with only binary classes, we are now preparing our data for modeling by;\n",
    "- Selecting columns for the predictor and target variables.\n",
    "\n",
    "- Converting our target variable to binary (0, 1)\n",
    "\n",
    "- Splitting the data into test and train sets.\n",
    "\n",
    "Here we are using the `cleaned_tweets` column as our predictor and the `emotion` column as our target variable."
   ]
  },
  {
   "cell_type": "code",
   "execution_count": 4,
   "id": "e090d53e",
   "metadata": {},
   "outputs": [],
   "source": [
    "# Put predictor and target columns in their respective variables.\n",
    "X_binary = binary_df[\"cleaned_tweets\"]\n",
    "y_binary = binary_df[\"emotion\"]\n",
    "\n",
    "# Covert the y_binary column to binary.\n",
    "y_binary = y_binary.map({'negative': 0, 'positive': 1})\n",
    "\n",
    "# Split the data into train and test sets.\n",
    "Xb_train, Xb_test, yb_train, yb_test = train_test_split(X_binary, y_binary, test_size=0.2, random_state=42, stratify=y_binary)"
   ]
  },
  {
   "cell_type": "markdown",
   "id": "2c9dc553",
   "metadata": {},
   "source": [
    "In previous projects, we've had issues in the evaluation step due to validating our models using the train set. Here we are splitting our training set further to have;\n",
    "- **temp set**- This is the dataset that we are using to train the models.\n",
    "\n",
    "- **val set**- This is the dataset that we are using to evaluate how our model generalizes to new data.\n",
    "\n",
    "This is important because it helps us train our models better and also ensures we only use our hold out dataset after choosing our final model."
   ]
  },
  {
   "cell_type": "code",
   "execution_count": 5,
   "id": "de7c7902",
   "metadata": {},
   "outputs": [],
   "source": [
    "# Splitting the train set into temp and validation sets.\n",
    "Xb_temp, Xb_val, yb_temp, yb_val= train_test_split(Xb_train, yb_train, test_size=0.2, random_state=42, stratify=yb_train)"
   ]
  },
  {
   "cell_type": "markdown",
   "id": "42e81a36",
   "metadata": {},
   "source": [
    "We have successfully prepared our data for modeling.\n",
    "\n",
    "## **Model training**\n",
    "In this section, we are training our models to correctly classify whether a tweet is negative or positive.\n",
    "\n",
    "This will include models such as;\n",
    "- Logistic Regression\n",
    "\n",
    "- SVM\n",
    "\n",
    "- Random Forest\n",
    "\n",
    "- XGBoost\n",
    "\n",
    "- Gradient Descent\n",
    "\n",
    "### *Baseline Model*\n",
    "Here we are using TF-IDF to vectorize our data, and logistic regression to classify it."
   ]
  },
  {
   "cell_type": "code",
   "execution_count": 6,
   "id": "3acb39b0",
   "metadata": {},
   "outputs": [
    {
     "name": "stdout",
     "output_type": "stream",
     "text": [
      "Classification Report:\n",
      "               precision    recall  f1-score   support\n",
      "\n",
      "           0       0.86      0.07      0.12        91\n",
      "           1       0.85      1.00      0.92       477\n",
      "\n",
      "    accuracy                           0.85       568\n",
      "   macro avg       0.85      0.53      0.52       568\n",
      "weighted avg       0.85      0.85      0.79       568\n",
      "\n",
      "Confusion Matrix:\n",
      " [[  6  85]\n",
      " [  1 476]]\n"
     ]
    }
   ],
   "source": [
    "# Define pipeline\n",
    "sentiment_pipeline = Pipeline([\n",
    "    (\"tfidf\", TfidfVectorizer(max_features=5000, ngram_range=(1,2))),\n",
    "    (\"clf\", LogisticRegression(max_iter=1000))\n",
    "])\n",
    "\n",
    "# Fit pipeline\n",
    "sentiment_pipeline.fit(Xb_temp, yb_temp)\n",
    "\n",
    "# Predictions\n",
    "y_pred = sentiment_pipeline.predict(Xb_val)\n",
    "\n",
    "# Evaluation\n",
    "print(\"Classification Report:\\n\", classification_report(yb_val, y_pred))\n",
    "print(\"Confusion Matrix:\\n\", confusion_matrix(yb_val, y_pred))"
   ]
  },
  {
   "cell_type": "markdown",
   "id": "d7e3adbd",
   "metadata": {},
   "source": [
    "#### *SUMMARY:*\n",
    "Our overall model performance is terrible, the classification report shows very poor recall for class 0 with only 7%, meaning that the model is barely predicting any negatives correctly and it’s biased toward predicting positive, class 1, almost all the time.\n",
    "\n",
    "This is a clear indication that we have a class imbalance issue. It heavily points out that we may:\n",
    "- have a heavily skewed class distribution.\n",
    "\n",
    "Due to this, the model is learning features that mostly correlate with positives.\n",
    "\n",
    "In the next cell, we are inspecting the class distribution in our dataset."
   ]
  },
  {
   "cell_type": "code",
   "execution_count": 7,
   "id": "28370590",
   "metadata": {},
   "outputs": [
    {
     "data": {
      "image/png": "[encoded data removed]",
      "text/plain": [
       "<Figure size 432x288 with 1 Axes>"
      ]
     },
     "metadata": {
      "needs_background": "light"
     },
     "output_type": "display_data"
    }
   ],
   "source": [
    "# Inspect class distribution\n",
    "plt.hist(y_binary);"
   ]
  },
  {
   "cell_type": "markdown",
   "id": "44536deb",
   "metadata": {},
   "source": [
    "### *Applying SMOTE*\n",
    "To deal with the class imbalance, we are applying SMOTE to the y_binary."
   ]
  },
  {
   "cell_type": "code",
   "execution_count": 8,
   "id": "529851aa",
   "metadata": {},
   "outputs": [
    {
     "name": "stdout",
     "output_type": "stream",
     "text": [
      "Classification Report:\n",
      "               precision    recall  f1-score   support\n",
      "\n",
      "           0       0.53      0.53      0.53        91\n",
      "           1       0.91      0.91      0.91       477\n",
      "\n",
      "    accuracy                           0.85       568\n",
      "   macro avg       0.72      0.72      0.72       568\n",
      "weighted avg       0.85      0.85      0.85       568\n",
      "\n",
      "Confusion Matrix:\n",
      " [[ 48  43]\n",
      " [ 42 435]]\n"
     ]
    }
   ],
   "source": [
    "# Define pipeline\n",
    "smote_pipeline = ImbPipeline([\n",
    "    (\"tfidf\", TfidfVectorizer(max_features=5000, ngram_range=(1,2))),\n",
    "    (\"smote\", SMOTE(random_state=42)),\n",
    "    (\"clf\", LogisticRegression(max_iter=1000, class_weight=None))  # class_weight not needed since we use SMOTE\n",
    "])\n",
    "\n",
    "# Fit pipeline\n",
    "smote_pipeline.fit(Xb_temp, yb_temp)\n",
    "\n",
    "# Predictions\n",
    "y_pred = smote_pipeline.predict(Xb_val)\n",
    "\n",
    "# Evaluation\n",
    "print(\"Classification Report:\\n\", classification_report(yb_val, y_pred))\n",
    "print(\"Confusion Matrix:\\n\", confusion_matrix(yb_val, y_pred))"
   ]
  },
  {
   "cell_type": "markdown",
   "id": "ea57bb5e",
   "metadata": {},
   "source": [
    "#### *SUMMARY:*\n",
    "This model performed better than the baseline model, this is attributable to SMOTE. SMOTE helped the model pick up more of the minority class, class 0, compared to the previous model.\n",
    "\n",
    "- Recall for class 0 went from 0.07 to 0.53, a big improvement meaning that now the model catches more positive cases.\n",
    "\n",
    "- Precision for class 0 dropped from 0.86 to 0.54, which is expected, because SMOTE increases false positives.\n",
    "\n",
    "- Class 1 stayed strong with 0.91 precision/recall, while overall accuracy stayed at 85%, but the model is now more balanced in detecting both classes.\n",
    "\n",
    "\n",
    "### *Parameter Tuning*"
   ]
  },
  {
   "cell_type": "code",
   "execution_count": 22,
   "id": "887f840e",
   "metadata": {},
   "outputs": [
    {
     "name": "stdout",
     "output_type": "stream",
     "text": [
      "Fitting 5 folds for each of 48 candidates, totalling 240 fits\n"
     ]
    },
    {
     "name": "stderr",
     "output_type": "stream",
     "text": [
      "[Parallel(n_jobs=-1)]: Using backend LokyBackend with 4 concurrent workers.\n",
      "[Parallel(n_jobs=-1)]: Done  33 tasks      | elapsed:    4.2s\n",
      "[Parallel(n_jobs=-1)]: Done 154 tasks      | elapsed:   21.4s\n",
      "[Parallel(n_jobs=-1)]: Done 240 out of 240 | elapsed:   36.4s finished\n"
     ]
    },
    {
     "name": "stdout",
     "output_type": "stream",
     "text": [
      "Best Parameters: {'clf__C': 10, 'clf__penalty': 'l2', 'clf__solver': 'liblinear', 'tfidf__max_features': 5000, 'tfidf__ngram_range': (1, 1)}\n",
      "\n",
      "Classification Report:\n",
      "               precision    recall  f1-score   support\n",
      "\n",
      "           0       0.57      0.48      0.52        91\n",
      "           1       0.90      0.93      0.92       477\n",
      "\n",
      "    accuracy                           0.86       568\n",
      "   macro avg       0.74      0.71      0.72       568\n",
      "weighted avg       0.85      0.86      0.85       568\n",
      "\n",
      "\n",
      "Confusion Matrix:\n",
      " [[ 44  47]\n",
      " [ 33 444]]\n"
     ]
    }
   ],
   "source": [
    "# Define the parameters\n",
    "param_grid = {\n",
    "    \"tfidf__max_features\": [3000, 5000, 7000],\n",
    "    \"tfidf__ngram_range\": [(1,1), (1,2)],\n",
    "    \"clf__C\": [0.01, 0.1, 1, 10],\n",
    "    \"clf__solver\": [\"liblinear\", \"lbfgs\"],\n",
    "    \"clf__penalty\": [\"l2\"]\n",
    "}\n",
    "\n",
    "# Grid search\n",
    "grid_search = GridSearchCV(\n",
    "    smote_pipeline,\n",
    "    param_grid,\n",
    "    cv=5,\n",
    "    scoring=\"f1_macro\",\n",
    "    n_jobs=-1,\n",
    "    verbose=2\n",
    ")\n",
    "\n",
    "# Fit grid search\n",
    "grid_search.fit(Xb_temp, yb_temp)\n",
    "\n",
    "# Best parameters\n",
    "print(\"Best Parameters:\", grid_search.best_params_)\n",
    "\n",
    "# Evaluate on test set\n",
    "best_model = grid_search.best_estimator_\n",
    "y_pred = best_model.predict(Xb_val)\n",
    "\n",
    "print(\"\\nClassification Report:\\n\", classification_report(yb_val, y_pred))\n",
    "print(\"\\nConfusion Matrix:\\n\", confusion_matrix(yb_val, y_pred))"
   ]
  },
  {
   "cell_type": "markdown",
   "id": "effb3926",
   "metadata": {},
   "source": [
    "#### *SUMMARY:*\n",
    "This model, compared to the previous one improved, but barely;\n",
    "- Recall for class 0 went from 0.53  0.48.\n",
    "\n",
    "- Recall for class 1 stayed strong at 0.93.\n",
    "\n",
    "However, despite the stillness and drop, the overall accuracy went up to 86%.\n",
    "\n",
    "### *Training Multiple Binary Models*\n",
    "In this section, we are training several models simultaneously."
   ]
  },
  {
   "cell_type": "code",
   "execution_count": null,
   "id": "535bfcc9",
   "metadata": {},
   "outputs": [
    {
     "name": "stdout",
     "output_type": "stream",
     "text": [
      "\n",
      "SVM Accuracy: 0.8662\n",
      "              precision    recall  f1-score   support\n",
      "\n",
      "           0       0.60      0.49      0.54        91\n",
      "           1       0.91      0.94      0.92       477\n",
      "\n",
      "    accuracy                           0.87       568\n",
      "   macro avg       0.75      0.72      0.73       568\n",
      "weighted avg       0.86      0.87      0.86       568\n",
      "\n",
      "\n",
      "Random Forest Accuracy: 0.8908\n",
      "              precision    recall  f1-score   support\n",
      "\n",
      "           0       0.84      0.40      0.54        91\n",
      "           1       0.90      0.99      0.94       477\n",
      "\n",
      "    accuracy                           0.89       568\n",
      "   macro avg       0.87      0.69      0.74       568\n",
      "weighted avg       0.89      0.89      0.87       568\n",
      "\n"
     ]
    },
    {
     "name": "stderr",
     "output_type": "stream",
     "text": [
      "c:\\Users\\PC\\anaconda33\\envs\\learn-env\\lib\\site-packages\\xgboost\\core.py:158: UserWarning: [20:07:59] WARNING: C:\\buildkite-agent\\builds\\buildkite-windows-cpu-autoscaling-group-i-08cbc0333d8d4aae1-1\\xgboost\\xgboost-ci-windows\\src\\learner.cc:740: \n",
      "Parameters: { \"use_label_encoder\" } are not used.\n",
      "\n",
      "  warnings.warn(smsg, UserWarning)\n"
     ]
    },
    {
     "name": "stdout",
     "output_type": "stream",
     "text": [
      "\n",
      "XGBoost Accuracy: 0.8574\n",
      "              precision    recall  f1-score   support\n",
      "\n",
      "           0       0.61      0.31      0.41        91\n",
      "           1       0.88      0.96      0.92       477\n",
      "\n",
      "    accuracy                           0.86       568\n",
      "   macro avg       0.74      0.63      0.66       568\n",
      "weighted avg       0.84      0.86      0.84       568\n",
      "\n",
      "\n",
      "Gradient Boosting Accuracy: 0.8380\n",
      "              precision    recall  f1-score   support\n",
      "\n",
      "           0       0.49      0.49      0.49        91\n",
      "           1       0.90      0.90      0.90       477\n",
      "\n",
      "    accuracy                           0.84       568\n",
      "   macro avg       0.70      0.70      0.70       568\n",
      "weighted avg       0.84      0.84      0.84       568\n",
      "\n",
      "\n",
      "Summary of Results: {'SVM': 0.8661971830985915, 'Random Forest': 0.8908450704225352, 'XGBoost': 0.8573943661971831, 'Gradient Boosting': 0.8380281690140845}\n"
     ]
    }
   ],
   "source": [
    "# Define all models\n",
    "models = {\n",
    "    \"SVM\": LinearSVC(random_state=42),\n",
    "    \"Random Forest\": RandomForestClassifier(n_estimators=200, random_state=42),\n",
    "    \"XGBoost\": XGBClassifier(use_label_encoder=False, eval_metric=\"logloss\", random_state=42),\n",
    "    \"Gradient Boosting\": GradientBoostingClassifier(random_state=42)\n",
    "}\n",
    "\n",
    "results = {}\n",
    "\n",
    "# Create a pipeline\n",
    "for name, clf in models.items():\n",
    "    pipe = ImbPipeline([\n",
    "        (\"tfidf\", TfidfVectorizer(max_features=5000, ngram_range=(1,2))),\n",
    "        (\"smote\", SMOTE(random_state=42)),\n",
    "        (\"clf\", clf)\n",
    "    ])\n",
    "    \n",
    "     # Fit\n",
    "    pipe.fit(Xb_temp, yb_temp)\n",
    "    \n",
    "    # Predict\n",
    "    y_pred = pipe.predict(Xb_val)\n",
    "    \n",
    "    # Evaluate\n",
    "    acc = accuracy_score(yb_val, y_pred)\n",
    "    print(f\"\\n{name} Accuracy: {acc:.4f}\")\n",
    "    print(classification_report(yb_val, y_pred))\n",
    "    \n",
    "    results[name] = acc\n",
    "\n",
    "print(\"\\nSummary:\", results)\n",
    "    "
   ]
  },
  {
   "cell_type": "markdown",
   "id": "6708c767",
   "metadata": {},
   "source": [
    "#### *SUMMARY:*\n",
    "SVM\n",
    "\n",
    "Class 0: precision 0.60, recall 0.49, f1 0.54\n",
    "→ Only ~49% of negative tweets were correctly identified. When it predicts negative, it’s right 60% of the time.\n",
    "\n",
    "Class 1: precision 0.91, recall 0.94, f1 0.92\n",
    "→ Very good at detecting positives.\n",
    "\n",
    "Macro F1: 0.73 → average performance across classes.\n",
    "\n",
    "Weighted F1: 0.86 → reflects class imbalance.\n",
    "\n",
    "Random Forest\n",
    "\n",
    "Class 0: precision 0.84, recall 0.40, f1 0.54\n",
    "→ Predicts negatives less often (recall 0.40) but when it does, it’s usually correct (precision 0.84).\n",
    "\n",
    "Class 1: precision 0.90, recall 0.99, f1 0.94 → excellent detection of positives.\n",
    "\n",
    "Accuracy highest (0.89) but minority class recall is low, so many negatives are missed.\n",
    "\n",
    "XGBoost\n",
    "\n",
    "Class 0: precision 0.61, recall 0.31, f1 0.41 → struggles with negatives.\n",
    "\n",
    "Class 1: precision 0.88, recall 0.96, f1 0.92 → strong on positives.\n",
    "\n",
    "Overall weighted F1: 0.84.\n",
    "\n",
    "Gradient Boosting\n",
    "\n",
    "Class 0: precision 0.50, recall 0.49, f1 0.50 → slightly better balance for negative class.\n",
    "\n",
    "Class 1: precision 0.90, recall 0.91, f1 0.90 → good detection of positives.\n",
    "\n",
    "Weighted F1: 0.84.\n",
    "\n",
    "4️⃣ Key Takeaways\n",
    "\n",
    "Minority class detection is poor across all models: recall for class 0 is below 0.5 for most models.\n",
    "\n",
    "Random Forest & SVM are strongest overall, but still biased towards positives.\n",
    "\n",
    "Gradient Boosting is more balanced on class 0 but has lower overall accuracy.\n",
    "\n",
    "Macro F1 is useful here — it shows balanced performance across classes"
   ]
  },
  {
   "cell_type": "code",
   "execution_count": 11,
   "id": "c272ded7",
   "metadata": {},
   "outputs": [
    {
     "name": "stdout",
     "output_type": "stream",
     "text": [
      "\n",
      " Running GridSearch for SVM...\n",
      "Fitting 3 folds for each of 3 candidates, totalling 9 fits\n"
     ]
    },
    {
     "name": "stderr",
     "output_type": "stream",
     "text": [
      "[Parallel(n_jobs=-1)]: Using backend LokyBackend with 4 concurrent workers.\n",
      "[Parallel(n_jobs=-1)]: Done   9 out of   9 | elapsed:    1.6s finished\n"
     ]
    },
    {
     "name": "stdout",
     "output_type": "stream",
     "text": [
      "SVM Best Params: {'clf__C': 1}\n",
      "SVM Accuracy: 0.8662\n",
      "              precision    recall  f1-score   support\n",
      "\n",
      "           0       0.60      0.49      0.54        91\n",
      "           1       0.91      0.94      0.92       477\n",
      "\n",
      "    accuracy                           0.87       568\n",
      "   macro avg       0.75      0.72      0.73       568\n",
      "weighted avg       0.86      0.87      0.86       568\n",
      "\n",
      "\n",
      " Running GridSearch for Random Forest...\n",
      "Fitting 3 folds for each of 6 candidates, totalling 18 fits\n"
     ]
    },
    {
     "name": "stderr",
     "output_type": "stream",
     "text": [
      "[Parallel(n_jobs=-1)]: Using backend LokyBackend with 4 concurrent workers.\n",
      "[Parallel(n_jobs=-1)]: Done  18 out of  18 | elapsed:   40.1s finished\n"
     ]
    },
    {
     "name": "stdout",
     "output_type": "stream",
     "text": [
      "Random Forest Best Params: {'clf__max_depth': None, 'clf__n_estimators': 200}\n",
      "Random Forest Accuracy: 0.8908\n",
      "              precision    recall  f1-score   support\n",
      "\n",
      "           0       0.84      0.40      0.54        91\n",
      "           1       0.90      0.99      0.94       477\n",
      "\n",
      "    accuracy                           0.89       568\n",
      "   macro avg       0.87      0.69      0.74       568\n",
      "weighted avg       0.89      0.89      0.87       568\n",
      "\n",
      "\n",
      " Running GridSearch for XGBoost...\n",
      "Fitting 3 folds for each of 12 candidates, totalling 36 fits\n"
     ]
    },
    {
     "name": "stderr",
     "output_type": "stream",
     "text": [
      "[Parallel(n_jobs=-1)]: Using backend LokyBackend with 4 concurrent workers.\n",
      "[Parallel(n_jobs=-1)]: Done  36 out of  36 | elapsed:  3.3min finished\n",
      "c:\\Users\\PC\\anaconda33\\envs\\learn-env\\lib\\site-packages\\xgboost\\core.py:158: UserWarning: [20:12:37] WARNING: C:\\buildkite-agent\\builds\\buildkite-windows-cpu-autoscaling-group-i-08cbc0333d8d4aae1-1\\xgboost\\xgboost-ci-windows\\src\\learner.cc:740: \n",
      "Parameters: { \"use_label_encoder\" } are not used.\n",
      "\n",
      "  warnings.warn(smsg, UserWarning)\n"
     ]
    },
    {
     "name": "stdout",
     "output_type": "stream",
     "text": [
      "XGBoost Best Params: {'clf__learning_rate': 0.3, 'clf__max_depth': 3, 'clf__n_estimators': 200}\n",
      "XGBoost Accuracy: 0.8574\n",
      "              precision    recall  f1-score   support\n",
      "\n",
      "           0       0.61      0.31      0.41        91\n",
      "           1       0.88      0.96      0.92       477\n",
      "\n",
      "    accuracy                           0.86       568\n",
      "   macro avg       0.74      0.63      0.66       568\n",
      "weighted avg       0.84      0.86      0.84       568\n",
      "\n",
      "\n",
      " Running GridSearch for Gradient Boosting...\n",
      "Fitting 3 folds for each of 12 candidates, totalling 36 fits\n"
     ]
    },
    {
     "name": "stderr",
     "output_type": "stream",
     "text": [
      "[Parallel(n_jobs=-1)]: Using backend LokyBackend with 4 concurrent workers.\n",
      "[Parallel(n_jobs=-1)]: Done  36 out of  36 | elapsed:  3.0min finished\n"
     ]
    },
    {
     "name": "stdout",
     "output_type": "stream",
     "text": [
      "Gradient Boosting Best Params: {'clf__learning_rate': 0.3, 'clf__max_depth': 3, 'clf__n_estimators': 200}\n",
      "Gradient Boosting Accuracy: 0.8609\n",
      "              precision    recall  f1-score   support\n",
      "\n",
      "           0       0.59      0.43      0.50        91\n",
      "           1       0.90      0.94      0.92       477\n",
      "\n",
      "    accuracy                           0.86       568\n",
      "   macro avg       0.74      0.69      0.71       568\n",
      "weighted avg       0.85      0.86      0.85       568\n",
      "\n",
      "\n",
      " Summary of Results:\n",
      "SVM: Accuracy=0.8662, Best Params={'clf__C': 1}\n",
      "Random Forest: Accuracy=0.8908, Best Params={'clf__max_depth': None, 'clf__n_estimators': 200}\n",
      "XGBoost: Accuracy=0.8574, Best Params={'clf__learning_rate': 0.3, 'clf__max_depth': 3, 'clf__n_estimators': 200}\n",
      "Gradient Boosting: Accuracy=0.8609, Best Params={'clf__learning_rate': 0.3, 'clf__max_depth': 3, 'clf__n_estimators': 200}\n"
     ]
    }
   ],
   "source": [
    "# Define models and param grids\n",
    "models_and_params = {\n",
    "    \"SVM\": (\n",
    "        LinearSVC(random_state=42),\n",
    "        {\n",
    "            \"clf__C\": [0.1, 1, 10]\n",
    "        }\n",
    "    ),\n",
    "    \"Random Forest\": (\n",
    "        RandomForestClassifier(random_state=42),\n",
    "        {\n",
    "            \"clf__n_estimators\": [100, 200],\n",
    "            \"clf__max_depth\": [None, 10, 20]\n",
    "        }\n",
    "    ),\n",
    "    \"XGBoost\": (\n",
    "        XGBClassifier(use_label_encoder=False, eval_metric=\"logloss\", random_state=42),\n",
    "        {\n",
    "            \"clf__n_estimators\": [100, 200],\n",
    "            \"clf__max_depth\": [3, 6, 10],\n",
    "            \"clf__learning_rate\": [0.1, 0.3]\n",
    "        }\n",
    "    ),\n",
    "    \"Gradient Boosting\": (\n",
    "        GradientBoostingClassifier(random_state=42),\n",
    "        {\n",
    "            \"clf__n_estimators\": [100, 200],\n",
    "            \"clf__learning_rate\": [0.05, 0.1, 0.3],\n",
    "            \"clf__max_depth\": [3, 5]\n",
    "        }\n",
    "    )\n",
    "}\n",
    "\n",
    "results = {}\n",
    "\n",
    "for name, (clf, param_grid) in models_and_params.items():\n",
    "    print(f\"\\n Running GridSearch for {name}...\")\n",
    "    \n",
    "    pipe = ImbPipeline([\n",
    "        (\"tfidf\", TfidfVectorizer(max_features=5000, ngram_range=(1,2))),\n",
    "        (\"smote\", SMOTE(random_state=42)),\n",
    "        (\"clf\", clf)\n",
    "    ])\n",
    "    \n",
    "    grid = GridSearchCV(pipe, param_grid, cv=3, scoring=\"accuracy\", n_jobs=-1, verbose=1)\n",
    "    grid.fit(Xb_temp, yb_temp)\n",
    "    \n",
    "    y_pred = grid.predict(Xb_val)\n",
    "    \n",
    "    acc = accuracy_score(yb_val, y_pred)\n",
    "    print(f\"{name} Best Params: {grid.best_params_}\")\n",
    "    print(f\"{name} Accuracy: {acc:.4f}\")\n",
    "    print(classification_report(yb_val, y_pred))\n",
    "    \n",
    "    results[name] = {\"Accuracy\": acc, \"Best Params\": grid.best_params_}\n",
    "\n",
    "print(\"\\n Summary of Results:\")\n",
    "for model, res in results.items():\n",
    "    print(f\"{model}: Accuracy={res['Accuracy']:.4f}, Best Params={res['Best Params']}\")"
   ]
  },
  {
   "cell_type": "markdown",
   "id": "79afcc0a",
   "metadata": {},
   "source": [
    "1. SVM (C=1)\n",
    "\n",
    "Accuracy: 0.87\n",
    "\n",
    "Class 0 recall = 0.49 → means it only catches about half of the negative tweets.\n",
    "\n",
    "Class 1 recall = 0.94 → almost perfect on positive tweets.\n",
    "⚖️ Balanced, but minority class still weak.\n",
    "\n",
    "2. Random Forest (n_estimators=200, max_depth=None)\n",
    "\n",
    "Accuracy: 0.89 (highest overall).\n",
    "\n",
    "Class 0 recall = 0.40 (worse than SVM).\n",
    "\n",
    "Class 1 recall = 0.99 (almost perfect on majority class).\n",
    "⚖️ Best accuracy, but very biased towards positives. Might not be fair if you care about detecting negatives.\n",
    "\n",
    "3. XGBoost (lr=0.3, depth=3, n_estimators=200)\n",
    "\n",
    "Accuracy: 0.86\n",
    "\n",
    "Class 0 recall = 0.31 (lowest so far).\n",
    "\n",
    "Class 1 recall = 0.96 (excellent).\n",
    "⚖️ Again, struggles with negatives.\n",
    "\n",
    "4. Gradient Boosting (lr=0.3, depth=3, n_estimators=200)\n",
    "\n",
    "Accuracy: 0.86\n",
    "\n",
    "Class 0 recall = 0.43\n",
    "\n",
    "Class 1 recall = 0.94\n",
    "⚖️ Similar to SVM, but slightly worse balance.\n",
    "\n",
    "🏆 Takeaway:\n",
    "\n",
    "Random Forest gives the best accuracy (0.89) but is biased (low recall on negatives).\n",
    "\n",
    "SVM and Gradient Boosting are more balanced (they at least get ~0.43–0.49 recall on negatives).\n",
    "\n",
    "XGBoost underperformed here (on the minority class).\n",
    "\n",
    "So the “best” model depends on your business goal:\n",
    "\n",
    "If you care about catching all negative tweets (to monitor complaints), SVM or Gradient Boosting are better.\n",
    "\n",
    "If you care more about overall accuracy, Random Forest wins."
   ]
  }
 ],
 "metadata": {
  "kernelspec": {
   "display_name": "learn-env",
   "language": "python",
   "name": "python3"
  },
  "language_info": {
   "codemirror_mode": {
    "name": "ipython",
    "version": 3
   },
   "file_extension": ".py",
   "mimetype": "text/x-python",
   "name": "python",
   "nbconvert_exporter": "python",
   "pygments_lexer": "ipython3",
   "version": "3.8.5"
  }
 },
 "nbformat": 4,
 "nbformat_minor": 5
}
